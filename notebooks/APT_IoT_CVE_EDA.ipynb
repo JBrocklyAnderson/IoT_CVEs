{
 "cells": [
  {
   "cell_type": "markdown",
   "id": "87cf9927-f9c2-4948-993b-1e4abe806cdc",
   "metadata": {},
   "source": [
    "# Analysis of IoT-Related CVEs and Their Exploitation by APTs"
   ]
  },
  {
   "cell_type": "code",
   "execution_count": 2,
   "id": "bee253af-7b98-460e-b113-ee135c30e667",
   "metadata": {},
   "outputs": [],
   "source": [
    "import os # For traversing and reading folders and files\n",
    "import json # For reading and extracting data from CVE records\n",
    "import re # Handle regex patterns\n",
    "import xml.etree.ElementTree as ET # For reading and extracting data from CWE records\n",
    "import ast # For safely evaluating strings as Python expressions\n",
    "import pandas as pd # For data cleaning and analysis\n",
    "import numpy as np # For advanced calculations\n",
    "import matplotlib.pyplot as plt # For data visualization"
   ]
  },
  {
   "cell_type": "markdown",
   "id": "b3a96cc8-40e0-420f-9891-1b2efd7079b5",
   "metadata": {},
   "source": [
    "## Data Collection\n",
    "### Extracting Data from the CVE List\n",
    "There are precisely $260,896$ records in the CVE list; each is represented by a single JSON file. These files contain all the information (though lots of it is incomplete) that will populate our `CVE_df` dataframe. It was clear after creating the initial script that massive discrepencacies existed between the files' structures. This makes it especially complicated to reliably retrieve desired values, but I managed to create a recursive function that performs various data retrieval processes based on the kind of data type the object holds at every level on its way to pull out the desired info. Based on the CVE List schema, I figured that the most important information—and really, the only kinds of information contained in the files that would be useful to us—would be the CVE ID, the CWE ID, the description, the date the record was published, a categorical and numerical severity score, the vector of attack used in the CVE, and attack complexity.\n",
    "\n"
   ]
  },
  {
   "cell_type": "raw",
   "id": "368113f2-d4b1-4c92-afcd-774d346e41b2",
   "metadata": {
    "vscode": {
     "languageId": "raw"
    }
   },
   "source": [
    "def search(obj, key_to_find, parent_key=None, expected_type=None):\n",
    "    # If the object is not a dictionary or list, end search\n",
    "    if not isinstance(obj, (dict, list)):\n",
    "        return None\n",
    "    # If the current object is a dictionary\n",
    "    if isinstance(obj, dict):\n",
    "        # Check if current dictionary has the parent key\n",
    "        if parent_key and parent_key in obj:\n",
    "            parent_value = obj[parent_key]\n",
    "            result = search(parent_value, key_to_find, None, expected_type)\n",
    "            if result is not None:\n",
    "                return result\n",
    "        # If no parent key is specified\n",
    "        elif not parent_key and key_to_find in obj:\n",
    "            value = obj[key_to_find]\n",
    "            if expected_type is None or isinstance(value, expected_type):\n",
    "                return value\n",
    "        # If value is not expected type\n",
    "        for value in obj.values():\n",
    "            result = search(value, key_to_find, parent_key, expected_type)\n",
    "            if result is not None:\n",
    "                return result\n",
    "    # If the current object is a list\n",
    "    elif isinstance(obj, list):\n",
    "        for item in obj:\n",
    "            result = search(item, key_to_find, parent_key, expected_type)\n",
    "            if result is not None:\n",
    "                return result\n",
    "    # If no value was found\n",
    "    return None\n",
    "\n",
    "\n",
    "def extract_data(file_path):\n",
    "    try:\n",
    "        with open(file_path, 'r', encoding='utf-8') as file:\n",
    "            cve = json.load(file)\n",
    "\n",
    "            cve_id = search(cve, 'cveId')\n",
    "            cwe_id = search(cve, 'cweId')\n",
    "            cve_state = search(cve, 'state')\n",
    "            date_published = search(cve, 'datePublished')\n",
    "            description = search(cve, 'value', parent_key='descriptions')\n",
    "            severity = search(cve, 'baseSeverity')\n",
    "            severity_score = search(cve, 'baseScore')\n",
    "            attack_vector = search(cve, 'attackVector')\n",
    "            attack_complexity = search(cve, 'attackComplexity')\n",
    "\n",
    "            return {\n",
    "                'cve_id': cve_id,\n",
    "                'cwe_id': cwe_id,\n",
    "                'cve_state': cve_state,\n",
    "                'date_published': date_published,\n",
    "                'description': description,\n",
    "                'severity': severity,\n",
    "                'severity_score': severity_score,\n",
    "                'attack_vector': attack_vector,\n",
    "                'attack_complexity': attack_complexity\n",
    "            }\n",
    "\n",
    "    except json.JSONDecodeError as e:\n",
    "        print(f'Error reading {file_path}: {e}')\n",
    "    except Exception as e:\n",
    "        print(f'Unexpected error reading {file_path}: {e}')\n",
    "    return None\n",
    "\n",
    "def process_files(base_dir):\n",
    "    data = []\n",
    "    total_files = sum(len(files) for _, _, files in os.walk(base_dir))\n",
    "    file_count = 0\n",
    "    print(total_files)\n",
    "\n",
    "    for root, dirs, files in os.walk(base_dir):\n",
    "        for file_name in files:\n",
    "            if file_name.endswith('.json'):\n",
    "                file_path = os.path.join(root, file_name)\n",
    "                cve_data = extract_data(file_path)\n",
    "\n",
    "                if cve_data:\n",
    "                    data.append(cve_data)\n",
    "\n",
    "                file_count += 1\n",
    "                print(f'File {file_count} of {total_files}: {file_count / total_files * 100:.2f}%', end='\\r')\n",
    "\n",
    "    print('\\nAll files processed!')\n",
    "    df = pd.DataFrame(data)\n",
    "    return df\n",
    "\n",
    "base_dir = '../data/CVE_V5/cvelistV5-main/cves'\n",
    "df = process_files(base_dir)"
   ]
  },
  {
   "cell_type": "markdown",
   "id": "d7bfea43",
   "metadata": {},
   "source": [
    "### Extracting Data from the CWE List\n",
    "The CWE list contains lots of information that could be pertinant to our analysis that's relatively easy to access. Among these I counted the CWE IDs, names, descriptions, related CWEs, the nature of these relationships, the technological vector (web-based, network, etc.), background details, the phases of development wherein the weakness could be introduced, descriptions about these unfortunate events, the likelihood of these weaknesses, the scope and impact of the weakness's common consequences, detection methods and their descriptions and effectiveness, mitigation strategies, potential vulnerabilities, observed vulnerabilities (with direct references to CVE IDs), and more. Because of the observed vulnerabilities, we can merge together these two dataframes and clean and filter the resultant so that we have a comprehensive dataset to work with. Because there's so much text data in the CWE list, we should have plenty of information to feed into a matural language processing pipeline that can help build a classification model to predict the association of a given CVE with the IoT and it's various vulnerabilities.\n",
    "\n",
    "I created several helper functions to get us from `A` to `B`. The first, I can just feed the XML file. Next, we have a function that takes an element and takes all of the text data inside of it and it's children nodes and returns it as a long sentence. This kind of column data will be useful when we tokenize and lemmatize the text to more accurately search for our desire IoT-vulnerability-related keywords."
   ]
  },
  {
   "cell_type": "raw",
   "id": "f1e991ee-5b50-4f3e-8f50-29684b8e0385",
   "metadata": {
    "vscode": {
     "languageId": "raw"
    }
   },
   "source": [
    "def readXML(file_path):\n",
    "    try:\n",
    "        tree = ET.parse(file_path)\n",
    "        root = tree.getroot()\n",
    "        return root\n",
    "    except ET.ParseError as e:\n",
    "        print(f'Error parsing {file_path}: {e}')\n",
    "        return None\n",
    "\n",
    "def extract_txt_from_el(element):\n",
    "    if element is None:\n",
    "        return ''\n",
    "    txt_parts = [element.text or '']\n",
    "    for child in element:\n",
    "        txt_parts.append(extract_txt_from_el(child))\n",
    "        if child.tail:\n",
    "            txt_parts.append(child.tail)\n",
    "    return ' '.join(filter(None, txt_parts)).strip()\n",
    "\n",
    "def extract_data(root):\n",
    "    data = []\n",
    "    ns = {\n",
    "        'ns': 'http://cwe.mitre.org/cwe-7',\n",
    "        'xhtml': 'http://www.w3.org/1999/xhtml',\n",
    "        'xsi': 'http://www.w3.org/2001/XMLSchema-instance'\n",
    "    }\n",
    "    weaknesses = root.findall('.//ns:Weakness', ns)\n",
    "\n",
    "    # Debugging\n",
    "    if not weaknesses:\n",
    "        print('No Weaknesses found')\n",
    "        return data\n",
    "\n",
    "    for weakness in weaknesses:\n",
    "        # Basic info\n",
    "        cwe_id = weakness.get('ID')\n",
    "        name = weakness.get('Name')\n",
    "        desc = extract_txt_from_el(weakness.find('ns:Description', ns))\n",
    "        ext_desc = extract_txt_from_el(weakness.find('ns:Extended_Description', ns))\n",
    "        description = f'{desc} {ext_desc}'.strip()\n",
    "\n",
    "        # Related weakness info\n",
    "        rel_ids, nature_of_rels = [], []\n",
    "        related_weaknesses = weakness.find('ns:Related_Weaknesses', ns)\n",
    "        if related_weaknesses is not None:\n",
    "            for rel_weakness in related_weaknesses.findall('ns:Related_Weakness', ns):\n",
    "                rel_id = rel_weakness.get('CWE_ID')\n",
    "                nature = rel_weakness.get('Nature')\n",
    "                rel_ids.append(rel_id)\n",
    "                nature_of_rels.append(nature)\n",
    "\n",
    "        # Technical info\n",
    "        tech_el = weakness.find('.//ns:Technology', ns)\n",
    "        tech_class = tech_el.get('Class') if tech_el is not None else ''\n",
    "        bg_details = extract_txt_from_el(weakness.find('ns:Background_Details/ns:Background_Detail', ns))\n",
    "\n",
    "        # Modes of introduction\n",
    "        modes_of_intro_phases, modes_of_intro_descs = [], []\n",
    "        modes_of_intro = weakness.find('ns:Modes_Of_Introduction', ns)\n",
    "        if modes_of_intro is not None:\n",
    "            for mode in modes_of_intro:\n",
    "                modes_of_intro_phase = mode.find('ns:Phase', ns).text if mode.find('ns:Phase', ns) is not None else ''\n",
    "                modes_of_intro_note = mode.find('ns:Note', ns).text if mode.find('ns:Note', ns) is not None else ''\n",
    "                # Append data to the columns\n",
    "                modes_of_intro_phases.append(modes_of_intro_phase)\n",
    "                modes_of_intro_descs.append(modes_of_intro_note)\n",
    "\n",
    "        # Likelihood of exploitation\n",
    "        likelihood = extract_txt_from_el(weakness.find('ns:Likelihood_Of_Exploit', ns))\n",
    "\n",
    "        # Consequence info\n",
    "        scope_of_consequences, impact_of_consequences, consequence_notes = [], [], []\n",
    "        consequences = weakness.find('ns:Common_Consequences', ns)\n",
    "        if consequences is not None:\n",
    "            for consequence in consequences:\n",
    "                scope = consequence.find('ns:Scope', ns).text if consequence.find('ns:Scope', ns) is not None else ''\n",
    "                impact = consequence.find('ns:Impact', ns).text if consequence.find('ns:Impact', ns) is not None else ''\n",
    "                note = consequence.find('ns:Note', ns).text if consequence.find('ns:Note', ns) is not None else ''\n",
    "                scope_of_consequences.append(scope)\n",
    "                impact_of_consequences.append(impact)\n",
    "                consequence_notes.append(note)\n",
    "\n",
    "        # Detection info\n",
    "        detect_methods = []\n",
    "        detect_descs = []\n",
    "        detect_effectiveness = []\n",
    "        detection_methods = weakness.find('ns:Detection_Methods', ns)\n",
    "        if detection_methods is not None:\n",
    "            for method in detection_methods:\n",
    "                detect_method = method.find('ns:Method', ns).text if method.find('ns:Method', ns) is not None else ''\n",
    "                detect_desc = method.find('ns:Description', ns).text if method.find('ns:Description', ns) is not None else ''\n",
    "                detect_effect = method.find('ns:Effectiveness', ns).text if method.find('ns:Effectiveness', ns) is not None else ''\n",
    "                # Append data to the columns\n",
    "                detect_methods.append(detect_method)\n",
    "                detect_descs.append(detect_desc)\n",
    "                detect_effectiveness.append(detect_effect)\n",
    "\n",
    "        # Mitigation info\n",
    "        mitigate_phases = []\n",
    "        mitigate_descs = []\n",
    "        mitigate_effectivenesses = []\n",
    "        mitigate_notes = []\n",
    "        potential_mitigations = weakness.find('ns:Potential_Mitigations', ns)\n",
    "        if potential_mitigations is not None:\n",
    "            for mitigation in potential_mitigations:\n",
    "                mitigate_phase = mitigation.find('.//ns:Phase', ns)\n",
    "                mitigate_phase = mitigate_phase.text if mitigate_phase is not None else ''\n",
    "\n",
    "                # Build a mitigation description\n",
    "                mitigate_desc_el = mitigation.find('ns:Description', ns)\n",
    "                if mitigate_desc_el is not None:\n",
    "                    desc_parts = []\n",
    "                    if mitigate_desc_el.text:\n",
    "                        desc_parts.append(mitigate_desc_el.text.strip())\n",
    "                    for part in mitigate_desc_el.findall('.//xhtml:p', ns):\n",
    "                        if part.text:\n",
    "                            desc_parts.append(part.text.strip())\n",
    "                    mitigate_descs.append(' '.join(desc_parts))\n",
    "                else:\n",
    "                    mitigate_descs.append('')\n",
    "\n",
    "                mitigate_effectiveness = mitigation.find('ns:Effectiveness', ns)\n",
    "                mitigate_effectiveness = mitigate_effectiveness.text if mitigate_effectiveness is not None else ''\n",
    "\n",
    "                mitigate_note = mitigation.find('ns:Effectiveness_Notes', ns)\n",
    "                mitigate_note = mitigate_note.text if mitigate_note is not None else ''\n",
    "                # Append data to the columns\n",
    "                mitigate_phases.append(mitigate_phase)\n",
    "                mitigate_effectivenesses.append(mitigate_effectiveness)\n",
    "                mitigate_notes.append(mitigate_note)\n",
    "\n",
    "\n",
    "        observed_vulnerabilities = []\n",
    "        vulnerability_descs = []\n",
    "        observed_examples = weakness.find('ns:Observed_Examples', ns)\n",
    "        if observed_examples is not None:\n",
    "            for cve in observed_examples.findall('ns:Observed_Example', ns):\n",
    "                observed_vulnerability = cve.find('ns:Reference', ns).text if cve.find('ns:Reference', ns) is not None else ''\n",
    "                vulnerability_desc = cve.find('ns:Description', ns).text if cve.find('ns:Description', ns) is not None else ''\n",
    "                # Append data to the columns\n",
    "                observed_vulnerabilities.append(observed_vulnerability)\n",
    "                vulnerability_descs.append(vulnerability_desc)\n",
    "\n",
    "        data.append({\n",
    "            'cwe_id': cwe_id,\n",
    "            'name': name,\n",
    "            'description': description,\n",
    "            'tech_class': tech_class,\n",
    "            'bg_details': bg_details,\n",
    "            'rel_ids': rel_ids,\n",
    "            'nature_of_rels': nature_of_rels,\n",
    "            'modes_of_intro_phases': modes_of_intro_phases,\n",
    "            'modes_of_intro_descs': modes_of_intro_descs,\n",
    "            'likelihood': likelihood,\n",
    "            'scope_of_consequences': scope_of_consequences,\n",
    "            'impact_of_consequences': impact_of_consequences,\n",
    "            'consequence_notes': consequence_notes,\n",
    "            'detection_method': detect_methods,\n",
    "            'detection_desc': detect_descs,\n",
    "            'detection_effectiveness': detect_effectiveness,\n",
    "            'mitigation_phases': mitigate_phase,\n",
    "            'mitigation_descs': mitigate_descs,\n",
    "            'mitigation_effectiveness': mitigate_effectivenesses,\n",
    "            'mitigate_notes': mitigate_notes,\n",
    "            'observed_vulnerabilities': observed_vulnerabilities,\n",
    "            'vulnerability_descs': vulnerability_descs\n",
    "        })\n",
    "    return data\n",
    "\n",
    "file = '../data/CWE_V4.15/CWE_v4.15.xml'\n",
    "root = readXML(file)\n",
    "data = extract_data(root)\n",
    "\n",
    "# Construct the dataframe\n",
    "df2 = pd.DataFrame(data)\n"
   ]
  },
  {
   "cell_type": "markdown",
   "id": "2ad90663",
   "metadata": {},
   "source": [
    "### Saving the Data\n",
    "Parquet is a file type that streamlines the storage and retrieval of columnar data. I also saved a copy of both dataframes to CSV (a basic type of spreadsheet file). I chose to use the default option `None` for the method's `index` parameter, which saves the index of each record in a special kind of metadata range loop. This means it won't take up the kind of memory it would have if the index was actually saved into the dataframe as a separate attribute, but also provides a way to keep track of the records for the purposes of splitting them up between training, test, and validation sets for an ML algorithm should our work come to that.\n",
    "\n",
    "<span style='font-weight:600;color:#ff8800;background-color:#666672;border-radius:3px;padding-inline:3px;padding-block:1px;'>Don't run these code cells unless you want to overwrite the saved files!</span>"
   ]
  },
  {
   "cell_type": "raw",
   "id": "e65c9289",
   "metadata": {
    "vscode": {
     "languageId": "raw"
    }
   },
   "source": [
    "# Converting the severity score to a proper numerical value so that parquet can\n",
    "# save the file correctly\n",
    "try:\n",
    "    df['severity_score'] = pd.to_numeric(df['severity_score'], errors='coerce')\n",
    "except ValueError as e:\n",
    "    print(f'Unable to convert severity score: {e}')\n"
   ]
  },
  {
   "cell_type": "raw",
   "id": "b0683050",
   "metadata": {
    "vscode": {
     "languageId": "raw"
    }
   },
   "source": [
    "# Saving CVE list\n",
    "df.to_parquet(path='../data/CVE_V5/CVE_List.parquet', index=None)\n",
    "df.to_csv('../data/CVE_V5/CVE_List.csv', index=None)\n",
    "\n",
    "# Saving CWE list\n",
    "df2.to_parquet(path='../data/CWE_List.parquet', index=None)\n",
    "df2.to_csv('../data/CVE_V5/CWE_List.csv', index=None)"
   ]
  },
  {
   "cell_type": "markdown",
   "id": "f58f2bf8",
   "metadata": {},
   "source": [
    "## Loading the Data\n",
    "I saved the dataframes resulting from our extraction into secondary storage because pulling data from $260,000$ files takes a very long time (1.5+ hours). Now that we have neatly-packaged CSV files, we'll read them into Pandas so we can inspect their cleanliness, merge them together in interest ways, and construct an comprehensive analysis with descriptive statistics, chi-square independence testing, Spearman's rank correlation, and logistic regression. The CWE list specifically contains many columns whose values are are lists of values. Because Pandas doesn't know how to handle these lists natively, I give the parsing function a converter that saves us a cleaning step. That's what \"explosive_cols\" is; the columns that contain lists of values that we'll explode into new rows during preprocessing."
   ]
  },
  {
   "cell_type": "code",
   "execution_count": 3,
   "id": "62eab5e3",
   "metadata": {},
   "outputs": [
    {
     "data": {
      "text/html": [
       "<div>\n",
       "<style scoped>\n",
       "    .dataframe tbody tr th:only-of-type {\n",
       "        vertical-align: middle;\n",
       "    }\n",
       "\n",
       "    .dataframe tbody tr th {\n",
       "        vertical-align: top;\n",
       "    }\n",
       "\n",
       "    .dataframe thead th {\n",
       "        text-align: right;\n",
       "    }\n",
       "</style>\n",
       "<table border=\"1\" class=\"dataframe\">\n",
       "  <thead>\n",
       "    <tr style=\"text-align: right;\">\n",
       "      <th></th>\n",
       "      <th>cve_id</th>\n",
       "      <th>cwe_id</th>\n",
       "      <th>cve_state</th>\n",
       "      <th>date_published</th>\n",
       "      <th>description</th>\n",
       "      <th>severity</th>\n",
       "      <th>severity_score</th>\n",
       "      <th>attack_vector</th>\n",
       "      <th>attack_complexity</th>\n",
       "    </tr>\n",
       "  </thead>\n",
       "  <tbody>\n",
       "    <tr>\n",
       "      <th>0</th>\n",
       "      <td>CVE-1999-0001</td>\n",
       "      <td>None</td>\n",
       "      <td>PUBLISHED</td>\n",
       "      <td>2000-02-04T05:00:00</td>\n",
       "      <td>ip_input.c in BSD-derived TCP/IP implementatio...</td>\n",
       "      <td>None</td>\n",
       "      <td>NaN</td>\n",
       "      <td>None</td>\n",
       "      <td>None</td>\n",
       "    </tr>\n",
       "  </tbody>\n",
       "</table>\n",
       "</div>"
      ],
      "text/plain": [
       "          cve_id cwe_id  cve_state       date_published  \\\n",
       "0  CVE-1999-0001   None  PUBLISHED  2000-02-04T05:00:00   \n",
       "\n",
       "                                         description severity  severity_score  \\\n",
       "0  ip_input.c in BSD-derived TCP/IP implementatio...     None             NaN   \n",
       "\n",
       "  attack_vector attack_complexity  \n",
       "0          None              None  "
      ]
     },
     "execution_count": 3,
     "metadata": {},
     "output_type": "execute_result"
    }
   ],
   "source": [
    "cves = pd.read_parquet('../data/CVE_V5/CVE_List.parquet')\n",
    "\n",
    "cves.head(n=1)"
   ]
  },
  {
   "cell_type": "code",
   "execution_count": 4,
   "id": "b2797eea-255e-49b3-b4d8-18f13824c279",
   "metadata": {},
   "outputs": [
    {
     "data": {
      "text/html": [
       "<div>\n",
       "<style scoped>\n",
       "    .dataframe tbody tr th:only-of-type {\n",
       "        vertical-align: middle;\n",
       "    }\n",
       "\n",
       "    .dataframe tbody tr th {\n",
       "        vertical-align: top;\n",
       "    }\n",
       "\n",
       "    .dataframe thead th {\n",
       "        text-align: right;\n",
       "    }\n",
       "</style>\n",
       "<table border=\"1\" class=\"dataframe\">\n",
       "  <thead>\n",
       "    <tr style=\"text-align: right;\">\n",
       "      <th></th>\n",
       "      <th>cwe_id</th>\n",
       "      <th>name</th>\n",
       "      <th>description</th>\n",
       "      <th>tech_class</th>\n",
       "      <th>bg_details</th>\n",
       "      <th>rel_ids</th>\n",
       "      <th>nature_of_rels</th>\n",
       "      <th>modes_of_intro_phases</th>\n",
       "      <th>modes_of_intro_descs</th>\n",
       "      <th>likelihood</th>\n",
       "      <th>...</th>\n",
       "      <th>consequence_notes</th>\n",
       "      <th>detection_method</th>\n",
       "      <th>detection_desc</th>\n",
       "      <th>detection_effectiveness</th>\n",
       "      <th>mitigation_phases</th>\n",
       "      <th>mitigation_descs</th>\n",
       "      <th>mitigation_effectiveness</th>\n",
       "      <th>mitigate_notes</th>\n",
       "      <th>observed_vulnerabilities</th>\n",
       "      <th>vulnerability_descs</th>\n",
       "    </tr>\n",
       "  </thead>\n",
       "  <tbody>\n",
       "    <tr>\n",
       "      <th>0</th>\n",
       "      <td>1004</td>\n",
       "      <td>Sensitive Cookie Without 'HttpOnly' Flag</td>\n",
       "      <td>The product uses a cookie to store sensitive i...</td>\n",
       "      <td>Web Based</td>\n",
       "      <td>An HTTP cookie is a small piece of data attrib...</td>\n",
       "      <td>[732]</td>\n",
       "      <td>[ChildOf]</td>\n",
       "      <td>[Implementation]</td>\n",
       "      <td>[]</td>\n",
       "      <td>Medium</td>\n",
       "      <td>...</td>\n",
       "      <td>[If the HttpOnly flag is not set, then sensiti...</td>\n",
       "      <td>[Automated Static Analysis]</td>\n",
       "      <td>[Automated static analysis, commonly referred ...</td>\n",
       "      <td>[High]</td>\n",
       "      <td>Implementation</td>\n",
       "      <td>[Leverage the HttpOnly flag when setting a sen...</td>\n",
       "      <td>[High]</td>\n",
       "      <td>[While this mitigation is effective for protec...</td>\n",
       "      <td>[CVE-2022-24045, CVE-2014-3852, CVE-2015-4138]</td>\n",
       "      <td>[Web application for a room automation system ...</td>\n",
       "    </tr>\n",
       "  </tbody>\n",
       "</table>\n",
       "<p>1 rows × 22 columns</p>\n",
       "</div>"
      ],
      "text/plain": [
       "  cwe_id                                      name  \\\n",
       "0   1004  Sensitive Cookie Without 'HttpOnly' Flag   \n",
       "\n",
       "                                         description tech_class  \\\n",
       "0  The product uses a cookie to store sensitive i...  Web Based   \n",
       "\n",
       "                                          bg_details rel_ids nature_of_rels  \\\n",
       "0  An HTTP cookie is a small piece of data attrib...   [732]      [ChildOf]   \n",
       "\n",
       "  modes_of_intro_phases modes_of_intro_descs likelihood  ...  \\\n",
       "0      [Implementation]                   []     Medium  ...   \n",
       "\n",
       "                                   consequence_notes  \\\n",
       "0  [If the HttpOnly flag is not set, then sensiti...   \n",
       "\n",
       "              detection_method  \\\n",
       "0  [Automated Static Analysis]   \n",
       "\n",
       "                                      detection_desc detection_effectiveness  \\\n",
       "0  [Automated static analysis, commonly referred ...                  [High]   \n",
       "\n",
       "  mitigation_phases                                   mitigation_descs  \\\n",
       "0    Implementation  [Leverage the HttpOnly flag when setting a sen...   \n",
       "\n",
       "  mitigation_effectiveness                                     mitigate_notes  \\\n",
       "0                   [High]  [While this mitigation is effective for protec...   \n",
       "\n",
       "                         observed_vulnerabilities  \\\n",
       "0  [CVE-2022-24045, CVE-2014-3852, CVE-2015-4138]   \n",
       "\n",
       "                                 vulnerability_descs  \n",
       "0  [Web application for a room automation system ...  \n",
       "\n",
       "[1 rows x 22 columns]"
      ]
     },
     "execution_count": 4,
     "metadata": {},
     "output_type": "execute_result"
    }
   ],
   "source": [
    "cwes = pd.read_parquet('../data/CWE_V4.15/CWE_List.parquet')\n",
    "\n",
    "cwes.head(n=1)"
   ]
  },
  {
   "cell_type": "markdown",
   "id": "fbf5c6ed",
   "metadata": {},
   "source": [
    "## Preprocessing\n",
    "In order to reliably analyze the data, we need to make sure it's clean. This involves several important steps, namely:\n",
    "1) Understanding the data at a bird's eye level; e.g. number of rows, summary stats about numerical columns, data types (numbers, text, dates, etc.)\n",
    "2) Handling missing values, redundant white space, inconsistent formatting, and typos\n",
    "3) Removing duplicates\n",
    "4) Converting data types into their respective forms for efficient processing\n",
    "\n",
    "Before feeding the data into a machine learning model (if we get there), we'll have several additional steps to add on to this process:\n",
    "1) We'll want to encode our categorical data so that we can use math on it\n",
    "2) We'll split our data into training, validation, and testing sets to ensure our model generalizes well to unseen data\n",
    "3) We'll have to handle outliers that can make overfitting our model a dangerous probability\n",
    "4) We'll scale our data around a common mean of `0` and a standard deviation of `1` so that all features contribute equally to the algorithm's output.\n",
    "\n",
    "### Bird's Eye View of CVE List\n",
    "Let's start with the CVE List, then traverse the CWEs, and finally, the full dataset once we've merged them."
   ]
  },
  {
   "cell_type": "code",
   "execution_count": 5,
   "id": "e6926b2f",
   "metadata": {},
   "outputs": [
    {
     "name": "stdout",
     "output_type": "stream",
     "text": [
      "<class 'pandas.core.frame.DataFrame'>\n",
      "RangeIndex: 260894 entries, 0 to 260893\n",
      "Data columns (total 9 columns):\n",
      " #   Column             Non-Null Count   Dtype  \n",
      "---  ------             --------------   -----  \n",
      " 0   cve_id             260894 non-null  object \n",
      " 1   cwe_id             58852 non-null   object \n",
      " 2   cve_state          260894 non-null  object \n",
      " 3   date_published     257370 non-null  object \n",
      " 4   description        246505 non-null  object \n",
      " 5   severity           65617 non-null   object \n",
      " 6   severity_score     65742 non-null   float64\n",
      " 7   attack_vector      52410 non-null   object \n",
      " 8   attack_complexity  52431 non-null   object \n",
      "dtypes: float64(1), object(8)\n",
      "memory usage: 17.9+ MB\n"
     ]
    },
    {
     "data": {
      "text/html": [
       "<div>\n",
       "<style scoped>\n",
       "    .dataframe tbody tr th:only-of-type {\n",
       "        vertical-align: middle;\n",
       "    }\n",
       "\n",
       "    .dataframe tbody tr th {\n",
       "        vertical-align: top;\n",
       "    }\n",
       "\n",
       "    .dataframe thead th {\n",
       "        text-align: right;\n",
       "    }\n",
       "</style>\n",
       "<table border=\"1\" class=\"dataframe\">\n",
       "  <thead>\n",
       "    <tr style=\"text-align: right;\">\n",
       "      <th></th>\n",
       "      <th>severity_score</th>\n",
       "    </tr>\n",
       "  </thead>\n",
       "  <tbody>\n",
       "    <tr>\n",
       "      <th>count</th>\n",
       "      <td>65742.000000</td>\n",
       "    </tr>\n",
       "    <tr>\n",
       "      <th>mean</th>\n",
       "      <td>6.631829</td>\n",
       "    </tr>\n",
       "    <tr>\n",
       "      <th>std</th>\n",
       "      <td>1.752317</td>\n",
       "    </tr>\n",
       "    <tr>\n",
       "      <th>min</th>\n",
       "      <td>0.000000</td>\n",
       "    </tr>\n",
       "    <tr>\n",
       "      <th>25%</th>\n",
       "      <td>5.400000</td>\n",
       "    </tr>\n",
       "    <tr>\n",
       "      <th>50%</th>\n",
       "      <td>6.500000</td>\n",
       "    </tr>\n",
       "    <tr>\n",
       "      <th>75%</th>\n",
       "      <td>7.800000</td>\n",
       "    </tr>\n",
       "    <tr>\n",
       "      <th>max</th>\n",
       "      <td>10.000000</td>\n",
       "    </tr>\n",
       "  </tbody>\n",
       "</table>\n",
       "</div>"
      ],
      "text/plain": [
       "       severity_score\n",
       "count    65742.000000\n",
       "mean         6.631829\n",
       "std          1.752317\n",
       "min          0.000000\n",
       "25%          5.400000\n",
       "50%          6.500000\n",
       "75%          7.800000\n",
       "max         10.000000"
      ]
     },
     "execution_count": 5,
     "metadata": {},
     "output_type": "execute_result"
    }
   ],
   "source": [
    "cves.info() # Overview of the size of the dataset, its null values in each column, and their datatypes\n",
    "cves.describe() # View summary stats of numerical attributes"
   ]
  },
  {
   "cell_type": "code",
   "execution_count": 6,
   "id": "3f61fadd",
   "metadata": {},
   "outputs": [
    {
     "data": {
      "text/plain": [
       "severity\n",
       "MEDIUM      31632\n",
       "HIGH        24219\n",
       "CRITICAL     5646\n",
       "LOW          4085\n",
       "NONE           33\n",
       "medium          1\n",
       "MODERATE        1\n",
       "Name: count, dtype: int64"
      ]
     },
     "execution_count": 6,
     "metadata": {},
     "output_type": "execute_result"
    }
   ],
   "source": [
    "cves['severity'].value_counts() # Types of severity"
   ]
  },
  {
   "cell_type": "code",
   "execution_count": 7,
   "id": "0637199a",
   "metadata": {},
   "outputs": [
    {
     "data": {
      "text/plain": [
       "attack_vector\n",
       "NETWORK             37346\n",
       "LOCAL               11747\n",
       "ADJACENT_NETWORK     2659\n",
       "PHYSICAL              614\n",
       "ADJACENT               44\n",
       "Name: count, dtype: int64"
      ]
     },
     "execution_count": 7,
     "metadata": {},
     "output_type": "execute_result"
    }
   ],
   "source": [
    "cves['attack_vector'].value_counts() # Types of attack vector"
   ]
  },
  {
   "cell_type": "code",
   "execution_count": 8,
   "id": "941becd9",
   "metadata": {},
   "outputs": [
    {
     "data": {
      "text/plain": [
       "attack_complexity\n",
       "LOW     43947\n",
       "HIGH     8484\n",
       "Name: count, dtype: int64"
      ]
     },
     "execution_count": 8,
     "metadata": {},
     "output_type": "execute_result"
    }
   ],
   "source": [
    "cves['attack_complexity'].value_counts() # Levels of attack complexity"
   ]
  },
  {
   "cell_type": "code",
   "execution_count": 9,
   "id": "a96f216e",
   "metadata": {},
   "outputs": [
    {
     "data": {
      "text/plain": [
       "count      58852\n",
       "unique       664\n",
       "top       CWE-79\n",
       "freq        8871\n",
       "Name: cwe_id, dtype: object"
      ]
     },
     "execution_count": 9,
     "metadata": {},
     "output_type": "execute_result"
    }
   ],
   "source": [
    "cves['cwe_id'].describe() # View summary stats of CWE IDs"
   ]
  },
  {
   "cell_type": "code",
   "execution_count": 10,
   "id": "135003f8",
   "metadata": {},
   "outputs": [
    {
     "data": {
      "text/plain": [
       "0              2000-02-04T05:00:00\n",
       "1              1999-09-29T04:00:00\n",
       "2              1999-09-29T04:00:00\n",
       "3              2000-02-04T05:00:00\n",
       "4              1999-09-29T04:00:00\n",
       "                    ...           \n",
       "260889    2024-08-20T23:31:03.646Z\n",
       "260890    2024-08-20T23:31:05.010Z\n",
       "260891    2024-08-21T20:20:26.856Z\n",
       "260892    2024-08-21T20:20:27.045Z\n",
       "260893    2024-08-21T20:20:27.239Z\n",
       "Name: date_published, Length: 260894, dtype: object"
      ]
     },
     "execution_count": 10,
     "metadata": {},
     "output_type": "execute_result"
    }
   ],
   "source": [
    "cves['date_published'] # View date formats"
   ]
  },
  {
   "cell_type": "code",
   "execution_count": 11,
   "id": "d6ef6df3",
   "metadata": {},
   "outputs": [
    {
     "data": {
      "text/plain": [
       "0         ip_input.c in BSD-derived TCP/IP implementatio...\n",
       "1         Buffer overflow in NFS mountd gives root acces...\n",
       "2         Execute commands as root via buffer overflow i...\n",
       "3         MIME buffer overflow in email clients, e.g. So...\n",
       "4         Arbitrary command execution via IMAP buffer ov...\n",
       "                                ...                        \n",
       "260889    A vulnerability was found in Genexis Tilgin Ho...\n",
       "260890    A vulnerability classified as critical has bee...\n",
       "260891    Inappropriate implementation in WebApp Install...\n",
       "260892    Inappropriate implementation in Custom Tabs in...\n",
       "260893    Inappropriate implementation in Extensions in ...\n",
       "Name: description, Length: 260894, dtype: object"
      ]
     },
     "execution_count": 11,
     "metadata": {},
     "output_type": "execute_result"
    }
   ],
   "source": [
    "cves['description']"
   ]
  },
  {
   "cell_type": "code",
   "execution_count": 12,
   "id": "50d3ceb7",
   "metadata": {},
   "outputs": [
    {
     "data": {
      "text/plain": [
       "cve_state\n",
       "PUBLISHED    246505\n",
       "REJECTED      14389\n",
       "Name: count, dtype: int64"
      ]
     },
     "execution_count": 12,
     "metadata": {},
     "output_type": "execute_result"
    }
   ],
   "source": [
    "cves['cve_state'].value_counts() # Types of state"
   ]
  },
  {
   "cell_type": "code",
   "execution_count": 13,
   "id": "8491c127",
   "metadata": {},
   "outputs": [
    {
     "data": {
      "text/html": [
       "<div>\n",
       "<style scoped>\n",
       "    .dataframe tbody tr th:only-of-type {\n",
       "        vertical-align: middle;\n",
       "    }\n",
       "\n",
       "    .dataframe tbody tr th {\n",
       "        vertical-align: top;\n",
       "    }\n",
       "\n",
       "    .dataframe thead th {\n",
       "        text-align: right;\n",
       "    }\n",
       "</style>\n",
       "<table border=\"1\" class=\"dataframe\">\n",
       "  <thead>\n",
       "    <tr style=\"text-align: right;\">\n",
       "      <th></th>\n",
       "      <th>cve_id</th>\n",
       "      <th>cwe_id</th>\n",
       "      <th>cve_state</th>\n",
       "      <th>date_published</th>\n",
       "      <th>description</th>\n",
       "      <th>severity</th>\n",
       "      <th>severity_score</th>\n",
       "      <th>attack_vector</th>\n",
       "      <th>attack_complexity</th>\n",
       "    </tr>\n",
       "  </thead>\n",
       "  <tbody>\n",
       "    <tr>\n",
       "      <th>19</th>\n",
       "      <td>CVE-1999-0020</td>\n",
       "      <td>None</td>\n",
       "      <td>REJECTED</td>\n",
       "      <td>2000-02-04T05:00:00</td>\n",
       "      <td>None</td>\n",
       "      <td>None</td>\n",
       "      <td>NaN</td>\n",
       "      <td>None</td>\n",
       "      <td>None</td>\n",
       "    </tr>\n",
       "    <tr>\n",
       "      <th>109</th>\n",
       "      <td>CVE-1999-0110</td>\n",
       "      <td>None</td>\n",
       "      <td>REJECTED</td>\n",
       "      <td>2000-02-04T05:00:00</td>\n",
       "      <td>None</td>\n",
       "      <td>None</td>\n",
       "      <td>NaN</td>\n",
       "      <td>None</td>\n",
       "      <td>None</td>\n",
       "    </tr>\n",
       "    <tr>\n",
       "      <th>186</th>\n",
       "      <td>CVE-1999-0187</td>\n",
       "      <td>None</td>\n",
       "      <td>REJECTED</td>\n",
       "      <td>2000-02-04T05:00:00</td>\n",
       "      <td>None</td>\n",
       "      <td>None</td>\n",
       "      <td>NaN</td>\n",
       "      <td>None</td>\n",
       "      <td>None</td>\n",
       "    </tr>\n",
       "    <tr>\n",
       "      <th>281</th>\n",
       "      <td>CVE-1999-0282</td>\n",
       "      <td>None</td>\n",
       "      <td>REJECTED</td>\n",
       "      <td>2000-02-04T05:00:00</td>\n",
       "      <td>None</td>\n",
       "      <td>None</td>\n",
       "      <td>NaN</td>\n",
       "      <td>None</td>\n",
       "      <td>None</td>\n",
       "    </tr>\n",
       "    <tr>\n",
       "      <th>334</th>\n",
       "      <td>CVE-1999-0335</td>\n",
       "      <td>None</td>\n",
       "      <td>REJECTED</td>\n",
       "      <td>1999-09-29T04:00:00</td>\n",
       "      <td>None</td>\n",
       "      <td>None</td>\n",
       "      <td>NaN</td>\n",
       "      <td>None</td>\n",
       "      <td>None</td>\n",
       "    </tr>\n",
       "  </tbody>\n",
       "</table>\n",
       "</div>"
      ],
      "text/plain": [
       "            cve_id cwe_id cve_state       date_published description severity  \\\n",
       "19   CVE-1999-0020   None  REJECTED  2000-02-04T05:00:00        None     None   \n",
       "109  CVE-1999-0110   None  REJECTED  2000-02-04T05:00:00        None     None   \n",
       "186  CVE-1999-0187   None  REJECTED  2000-02-04T05:00:00        None     None   \n",
       "281  CVE-1999-0282   None  REJECTED  2000-02-04T05:00:00        None     None   \n",
       "334  CVE-1999-0335   None  REJECTED  1999-09-29T04:00:00        None     None   \n",
       "\n",
       "     severity_score attack_vector attack_complexity  \n",
       "19              NaN          None              None  \n",
       "109             NaN          None              None  \n",
       "186             NaN          None              None  \n",
       "281             NaN          None              None  \n",
       "334             NaN          None              None  "
      ]
     },
     "execution_count": 13,
     "metadata": {},
     "output_type": "execute_result"
    }
   ],
   "source": [
    "# Do the rejected IDs contain any useful info?\n",
    "cves[cves['cve_state'] == 'REJECTED'].head() # Rejected CVE IDs"
   ]
  },
  {
   "cell_type": "code",
   "execution_count": 13,
   "id": "aa2cd9d6",
   "metadata": {},
   "outputs": [
    {
     "data": {
      "text/plain": [
       "True"
      ]
     },
     "execution_count": 13,
     "metadata": {},
     "output_type": "execute_result"
    }
   ],
   "source": [
    "len(cves[cves['description'].isna()]) == len(cves[cves['cve_state'] == 'REJECTED']) # Does the number of CVEs lacking a description exactly match the number of rejected CVEs?"
   ]
  },
  {
   "cell_type": "markdown",
   "id": "2a9a8ea5",
   "metadata": {},
   "source": [
    "From the looks of it, every record has an ID, a published date, and a state, though some $14000$ have been rejected, because of this contain no other useful information, and can be dropped entirely from the table. The publish date will be converted to a proper datetime format. Every published record has a description. The severity scores are already the proper numerical data type, but their categorical counterparts contain multiple levels of `MEDIUM` (`medium` and `MODERATE`) which, based on the [NVD-documented categories](https://nvd.nist.gov/vuln-metrics/cvss), will be need to be addressed.\n",
    "\n",
    "### Dropping Unnecessary Information"
   ]
  },
  {
   "cell_type": "code",
   "execution_count": 14,
   "id": "109bfab8",
   "metadata": {},
   "outputs": [
    {
     "data": {
      "text/plain": [
       "cve_state\n",
       "PUBLISHED    246505\n",
       "Name: count, dtype: int64"
      ]
     },
     "execution_count": 14,
     "metadata": {},
     "output_type": "execute_result"
    }
   ],
   "source": [
    "# Drop rejected CVEs\n",
    "cves = cves.drop(cves[cves['cve_state'] == 'REJECTED'].index)\n",
    "cves['cve_state'].value_counts()"
   ]
  },
  {
   "cell_type": "markdown",
   "id": "5006f775",
   "metadata": {},
   "source": [
    "### Correcting Data Types"
   ]
  },
  {
   "cell_type": "code",
   "execution_count": 15,
   "id": "838380a6",
   "metadata": {},
   "outputs": [
    {
     "name": "stdout",
     "output_type": "stream",
     "text": [
      "<class 'pandas.core.frame.DataFrame'>\n",
      "Index: 246505 entries, 0 to 260893\n",
      "Data columns (total 9 columns):\n",
      " #   Column             Non-Null Count   Dtype              \n",
      "---  ------             --------------   -----              \n",
      " 0   cve_id             246505 non-null  string             \n",
      " 1   cwe_id             58852 non-null   string             \n",
      " 2   cve_state          246505 non-null  string             \n",
      " 3   date_published     245989 non-null  datetime64[ns, UTC]\n",
      " 4   description        246505 non-null  string             \n",
      " 5   severity           65617 non-null   string             \n",
      " 6   severity_score     65742 non-null   float64            \n",
      " 7   attack_vector      52410 non-null   string             \n",
      " 8   attack_complexity  52431 non-null   string             \n",
      "dtypes: datetime64[ns, UTC](1), float64(1), string(7)\n",
      "memory usage: 18.8 MB\n"
     ]
    }
   ],
   "source": [
    "# Convert publication date to datetime format\n",
    "cves['date_published'] = pd.to_datetime(cves['date_published'], format='ISO8601', utc=True)\n",
    "\n",
    "# Convert objects to text data (string)\n",
    "obj_cols = cves.select_dtypes(include=['object']).columns\n",
    "cves[obj_cols] = cves[obj_cols].astype('string')\n",
    "\n",
    "cves.info()"
   ]
  },
  {
   "cell_type": "markdown",
   "id": "48ba58c7",
   "metadata": {},
   "source": [
    "### Standardizing Formatting"
   ]
  },
  {
   "cell_type": "code",
   "execution_count": 16,
   "id": "b25ec80a",
   "metadata": {},
   "outputs": [
    {
     "data": {
      "text/plain": [
       "severity\n",
       "MEDIUM      31634\n",
       "HIGH        24219\n",
       "CRITICAL     5646\n",
       "LOW          4085\n",
       "NONE           33\n",
       "Name: count, dtype: Int64"
      ]
     },
     "execution_count": 16,
     "metadata": {},
     "output_type": "execute_result"
    }
   ],
   "source": [
    "# Standardize severity scores\n",
    "cves['severity'] = cves['severity'].replace(['medium', 'MODERATE'], 'MEDIUM')\n",
    "cves['severity'].value_counts()"
   ]
  },
  {
   "cell_type": "code",
   "execution_count": 17,
   "id": "dc30906a",
   "metadata": {},
   "outputs": [
    {
     "name": "stdout",
     "output_type": "stream",
     "text": [
      "Column 'cve_id' has 0 trimmable whitespace characters.\n",
      "Column 'cwe_id' has 0 trimmable whitespace characters.\n",
      "Column 'cve_state' has 0 trimmable whitespace characters.\n",
      "Column 'description' has 0 trimmable whitespace characters.\n",
      "Column 'severity' has 0 trimmable whitespace characters.\n",
      "Column 'attack_vector' has 0 trimmable whitespace characters.\n",
      "Column 'attack_complexity' has 0 trimmable whitespace characters.\n"
     ]
    }
   ],
   "source": [
    "# Check for leading or trailing whitespace\n",
    "str_cols = cves.select_dtypes(include=['string']).columns\n",
    "\n",
    "def check_whitespace():\n",
    "    for col in str_cols:\n",
    "        trimmable = cves[col].str.contains(r'^\\s|\\s$', regex=True).sum()\n",
    "        print(f\"Column '{col}' has {trimmable} trimmable whitespace characters.\")\n",
    "\n",
    "# Remove leading or trailing whitespace\n",
    "cves[str_cols] = cves[str_cols].apply(lambda x: x.str.strip())\n",
    "\n",
    "check_whitespace()"
   ]
  },
  {
   "cell_type": "markdown",
   "id": "5433cbf8",
   "metadata": {},
   "source": [
    "### Removing Duplicates"
   ]
  },
  {
   "cell_type": "code",
   "execution_count": 18,
   "id": "20df803e",
   "metadata": {},
   "outputs": [
    {
     "name": "stdout",
     "output_type": "stream",
     "text": [
      "There are 0 duplicates in the dataset.\n"
     ]
    }
   ],
   "source": [
    "# Check for duplicates\n",
    "duplicates = cves.duplicated().sum()\n",
    "print(f'There are {duplicates} duplicates in the dataset.')"
   ]
  },
  {
   "cell_type": "markdown",
   "id": "f6e841f6",
   "metadata": {},
   "source": [
    "### Bird's Eye View of CWE List\n",
    "We still have to handle null values in the CVE list, but since we'll be populating it with data from the CWE list during the merge, we can apply the same techniques to clean our second dataset. Once they've been merged, we'll filter out or impute the null values depending on what works best for the analysis.\n",
    "\n",
    "We'll want to figure out the same basic facts about the CWE list that we did for the CVE list."
   ]
  },
  {
   "cell_type": "code",
   "execution_count": 19,
   "id": "1008fb4e",
   "metadata": {},
   "outputs": [
    {
     "name": "stdout",
     "output_type": "stream",
     "text": [
      "<class 'pandas.core.frame.DataFrame'>\n",
      "RangeIndex: 964 entries, 0 to 963\n",
      "Data columns (total 22 columns):\n",
      " #   Column                    Non-Null Count  Dtype \n",
      "---  ------                    --------------  ----- \n",
      " 0   cwe_id                    964 non-null    object\n",
      " 1   name                      964 non-null    object\n",
      " 2   description               964 non-null    object\n",
      " 3   tech_class                917 non-null    object\n",
      " 4   bg_details                964 non-null    object\n",
      " 5   rel_ids                   964 non-null    object\n",
      " 6   nature_of_rels            964 non-null    object\n",
      " 7   modes_of_intro_phases     964 non-null    object\n",
      " 8   modes_of_intro_descs      964 non-null    object\n",
      " 9   likelihood                964 non-null    object\n",
      " 10  scope_of_consequences     964 non-null    object\n",
      " 11  impact_of_consequences    964 non-null    object\n",
      " 12  consequence_notes         964 non-null    object\n",
      " 13  detection_method          964 non-null    object\n",
      " 14  detection_desc            964 non-null    object\n",
      " 15  detection_effectiveness   964 non-null    object\n",
      " 16  mitigation_phases         964 non-null    object\n",
      " 17  mitigation_descs          964 non-null    object\n",
      " 18  mitigation_effectiveness  964 non-null    object\n",
      " 19  mitigate_notes            964 non-null    object\n",
      " 20  observed_vulnerabilities  964 non-null    object\n",
      " 21  vulnerability_descs       964 non-null    object\n",
      "dtypes: object(22)\n",
      "memory usage: 165.8+ KB\n"
     ]
    },
    {
     "data": {
      "text/plain": [
       "Index(['cwe_id', 'name', 'description', 'tech_class', 'bg_details', 'rel_ids',\n",
       "       'nature_of_rels', 'modes_of_intro_phases', 'modes_of_intro_descs',\n",
       "       'likelihood', 'scope_of_consequences', 'impact_of_consequences',\n",
       "       'consequence_notes', 'detection_method', 'detection_desc',\n",
       "       'detection_effectiveness', 'mitigation_phases', 'mitigation_descs',\n",
       "       'mitigation_effectiveness', 'mitigate_notes',\n",
       "       'observed_vulnerabilities', 'vulnerability_descs'],\n",
       "      dtype='object')"
      ]
     },
     "execution_count": 19,
     "metadata": {},
     "output_type": "execute_result"
    }
   ],
   "source": [
    "cwes.info() # Overview of the size of the dataset, its null values in each column, and their datatypes\n",
    "cwes.head(n=1)\n",
    "cwes.columns\n",
    "\n"
   ]
  },
  {
   "cell_type": "markdown",
   "id": "b83d6dec",
   "metadata": {},
   "source": [
    "Due to the original data potentially having more than one value for a particular column, I had to pull data dynamically for several attributes into what are technically lists of values. For example, a single CWE ID may have multiple related weaknesses or multiple detection methods. There are groups of these attributes that should correspond to other columns in their group with a 1-to-1 relationship, so that each of a CWE ID's related weaknesses can be mapped to their own respective \"nature of relationship\" values, or that each of a CWE's detection methods has a detection description and a detection effectiveness, for example. All of this makes cleaning this particular dataset significantly more involved than the CVE list. Dealing with other cleaning steps is made much more complicated without first handling the dataset's architectural issues.\n",
    "\n",
    "The solution I landed on was to pull in data as a parquet file (which can understand a broader range of datatypes that a simple CSV), create a function that would transform the necessary columns into lists, correct various syntactic anomalies, pad each list so that every list across a given row has the same amount of items, and finally explode these lists across multiple rows. This has preserved the 1-to-1 relationship between items in the lists relative to the items in other lists."
   ]
  },
  {
   "cell_type": "code",
   "execution_count": 56,
   "id": "8ed1c922",
   "metadata": {},
   "outputs": [
    {
     "name": "stdout",
     "output_type": "stream",
     "text": [
      "Lists have been exploded successfully.\n"
     ]
    }
   ],
   "source": [
    "# For converting values into manipulable lists\n",
    "def safe_lit_eval(value):\n",
    "    try:\n",
    "        if isinstance(value, np.ndarray):\n",
    "            value = value.tolist()\n",
    "        elif isinstance(value, str):\n",
    "            value = value.strip()\n",
    "            if ~value.startswith('[') and ~value.endswith(']') and value:\n",
    "                return [value]\n",
    "            if value.startswith('[') and value.endswith(']'):\n",
    "                return ast.literal_eval(value)\n",
    "        elif isinstance(value, list):\n",
    "            return value\n",
    "\n",
    "    except (ValueError, SyntaxError) as e:\n",
    "        print(f'Warning: Error parsing value \"{value}\": {e}')\n",
    "\n",
    "    # If list is empty, return NaN\n",
    "    if isinstance(value, list) and not value:\n",
    "        return [np.nan]\n",
    "    return value\n",
    "\n",
    "# For converting values into manipulable lists\n",
    "def eval_lists(df, cols):\n",
    "    for col in cols:\n",
    "        df[col] = df[col].apply(safe_lit_eval)\n",
    "    return df\n",
    "\n",
    "# For normalizing list values\n",
    "def normalize_list_syntax(lst):\n",
    "    if isinstance(lst, list):\n",
    "        if not lst: # []\n",
    "            return [np.nan]\n",
    "        return [np.nan if item == '' or item is None else str(item).strip() for item in lst]\n",
    "    return lst\n",
    "\n",
    "# For normalizing list values\n",
    "def normalize_lists(df, cols):\n",
    "    for col in cols:\n",
    "        df[col] = df[col].apply(normalize_list_syntax)\n",
    "    return df\n",
    "\n",
    "# For adding items to each list such that it matches the length of the list with\n",
    "# the most amount of items in the row\n",
    "def pad_lists(row, cols):\n",
    "    # Calculate the number of items in the list within the maximum number of items in a given row\n",
    "    max_len = max(len(row[col]) if isinstance(row[col], list) else 0 for col in cols)\n",
    "    # Equalize list length\n",
    "    for col in cols:\n",
    "        if isinstance(row[col], list):\n",
    "            row[col] += [np.nan] * (max_len - len(row[col]))\n",
    "        else:\n",
    "            row[col] = [np.nan] * max_len\n",
    "    return row\n",
    "\n",
    "# For checking if all list values in a given row have the same length\n",
    "def check_equal_list_lengths(row, cols):\n",
    "    lengths = [len(row[col]) for col in cols if isinstance(row[col], list)]\n",
    "    return len(set(lengths)) == 1\n",
    "\n",
    "# For spreading list items over new rows\n",
    "def explode_cols(df, cols):\n",
    "    return df.explode(cols, ignore_index=True)\n",
    "\n",
    "# For combining all necessary actions\n",
    "def process_explosive_cols(df, cols):\n",
    "    df = eval_lists(df, cols)\n",
    "    df = normalize_lists(df, cols)\n",
    "    df = df.apply(lambda row: pad_lists(row, cols), axis=1)\n",
    "\n",
    "    all_rows_valid = df.apply(lambda row: check_equal_list_lengths(row, cols), axis=1).all()\n",
    "    if all_rows_valid:\n",
    "        df = explode_cols(df, cols)\n",
    "        print('Lists have been exploded successfully.')\n",
    "    else:\n",
    "        print('All lists in a row need to have the same length to explode.')\n",
    "    return df\n",
    "\n",
    "# Columns to process\n",
    "explosive_cols = [\n",
    "    'rel_ids',\n",
    "    'nature_of_rels',\n",
    "    'modes_of_intro_phases',\n",
    "    'modes_of_intro_descs',\n",
    "    'scope_of_consequences',\n",
    "    'impact_of_consequences',\n",
    "    'consequence_notes',\n",
    "    'detection_method',\n",
    "    'detection_desc',\n",
    "    'detection_effectiveness',\n",
    "    'mitigation_phases',\n",
    "    'mitigation_descs',\n",
    "    'mitigation_effectiveness',\n",
    "    'mitigate_notes',\n",
    "    'observed_vulnerabilities',\n",
    "    'vulnerability_descs'\n",
    "]\n",
    "\n",
    "# Make a copy for testing purposes\n",
    "# cwes_test1 = cwes.copy(deep=True)\n",
    "\n",
    "# Process the explosive columns\n",
    "cwes = process_explosive_cols(cwes, explosive_cols)"
   ]
  },
  {
   "cell_type": "code",
   "execution_count": 61,
   "id": "b6a284e0",
   "metadata": {},
   "outputs": [
    {
     "data": {
      "text/html": [
       "<div>\n",
       "<style scoped>\n",
       "    .dataframe tbody tr th:only-of-type {\n",
       "        vertical-align: middle;\n",
       "    }\n",
       "\n",
       "    .dataframe tbody tr th {\n",
       "        vertical-align: top;\n",
       "    }\n",
       "\n",
       "    .dataframe thead th {\n",
       "        text-align: right;\n",
       "    }\n",
       "</style>\n",
       "<table border=\"1\" class=\"dataframe\">\n",
       "  <thead>\n",
       "    <tr style=\"text-align: right;\">\n",
       "      <th></th>\n",
       "      <th>cwe_id</th>\n",
       "      <th>name</th>\n",
       "      <th>description</th>\n",
       "      <th>tech_class</th>\n",
       "      <th>bg_details</th>\n",
       "      <th>rel_ids</th>\n",
       "      <th>nature_of_rels</th>\n",
       "      <th>modes_of_intro_phases</th>\n",
       "      <th>modes_of_intro_descs</th>\n",
       "      <th>likelihood</th>\n",
       "      <th>...</th>\n",
       "      <th>consequence_notes</th>\n",
       "      <th>detection_method</th>\n",
       "      <th>detection_desc</th>\n",
       "      <th>detection_effectiveness</th>\n",
       "      <th>mitigation_phases</th>\n",
       "      <th>mitigation_descs</th>\n",
       "      <th>mitigation_effectiveness</th>\n",
       "      <th>mitigate_notes</th>\n",
       "      <th>observed_vulnerabilities</th>\n",
       "      <th>vulnerability_descs</th>\n",
       "    </tr>\n",
       "  </thead>\n",
       "  <tbody>\n",
       "    <tr>\n",
       "      <th>0</th>\n",
       "      <td>1004</td>\n",
       "      <td>Sensitive Cookie Without 'HttpOnly' Flag</td>\n",
       "      <td>The product uses a cookie to store sensitive i...</td>\n",
       "      <td>Web Based</td>\n",
       "      <td>An HTTP cookie is a small piece of data attrib...</td>\n",
       "      <td>732</td>\n",
       "      <td>ChildOf</td>\n",
       "      <td>Implementation</td>\n",
       "      <td>NaN</td>\n",
       "      <td>Medium</td>\n",
       "      <td>...</td>\n",
       "      <td>If the HttpOnly flag is not set, then sensitiv...</td>\n",
       "      <td>Automated Static Analysis</td>\n",
       "      <td>Automated static analysis, commonly referred t...</td>\n",
       "      <td>High</td>\n",
       "      <td>Implementation</td>\n",
       "      <td>Leverage the HttpOnly flag when setting a sens...</td>\n",
       "      <td>High</td>\n",
       "      <td>While this mitigation is effective for protect...</td>\n",
       "      <td>CVE-2022-24045</td>\n",
       "      <td>Web application for a room automation system h...</td>\n",
       "    </tr>\n",
       "    <tr>\n",
       "      <th>1</th>\n",
       "      <td>1004</td>\n",
       "      <td>Sensitive Cookie Without 'HttpOnly' Flag</td>\n",
       "      <td>The product uses a cookie to store sensitive i...</td>\n",
       "      <td>Web Based</td>\n",
       "      <td>An HTTP cookie is a small piece of data attrib...</td>\n",
       "      <td>NaN</td>\n",
       "      <td>NaN</td>\n",
       "      <td>NaN</td>\n",
       "      <td>NaN</td>\n",
       "      <td>Medium</td>\n",
       "      <td>...</td>\n",
       "      <td>If the cookie in question is an authentication...</td>\n",
       "      <td>NaN</td>\n",
       "      <td>NaN</td>\n",
       "      <td>NaN</td>\n",
       "      <td>NaN</td>\n",
       "      <td>NaN</td>\n",
       "      <td>NaN</td>\n",
       "      <td>NaN</td>\n",
       "      <td>CVE-2014-3852</td>\n",
       "      <td>CMS written in Python does not include the HTT...</td>\n",
       "    </tr>\n",
       "    <tr>\n",
       "      <th>2</th>\n",
       "      <td>1004</td>\n",
       "      <td>Sensitive Cookie Without 'HttpOnly' Flag</td>\n",
       "      <td>The product uses a cookie to store sensitive i...</td>\n",
       "      <td>Web Based</td>\n",
       "      <td>An HTTP cookie is a small piece of data attrib...</td>\n",
       "      <td>NaN</td>\n",
       "      <td>NaN</td>\n",
       "      <td>NaN</td>\n",
       "      <td>NaN</td>\n",
       "      <td>Medium</td>\n",
       "      <td>...</td>\n",
       "      <td>NaN</td>\n",
       "      <td>NaN</td>\n",
       "      <td>NaN</td>\n",
       "      <td>NaN</td>\n",
       "      <td>NaN</td>\n",
       "      <td>NaN</td>\n",
       "      <td>NaN</td>\n",
       "      <td>NaN</td>\n",
       "      <td>CVE-2015-4138</td>\n",
       "      <td>Appliance for managing encrypted communication...</td>\n",
       "    </tr>\n",
       "  </tbody>\n",
       "</table>\n",
       "<p>3 rows × 22 columns</p>\n",
       "</div>"
      ],
      "text/plain": [
       "  cwe_id                                      name  \\\n",
       "0   1004  Sensitive Cookie Without 'HttpOnly' Flag   \n",
       "1   1004  Sensitive Cookie Without 'HttpOnly' Flag   \n",
       "2   1004  Sensitive Cookie Without 'HttpOnly' Flag   \n",
       "\n",
       "                                         description tech_class  \\\n",
       "0  The product uses a cookie to store sensitive i...  Web Based   \n",
       "1  The product uses a cookie to store sensitive i...  Web Based   \n",
       "2  The product uses a cookie to store sensitive i...  Web Based   \n",
       "\n",
       "                                          bg_details rel_ids nature_of_rels  \\\n",
       "0  An HTTP cookie is a small piece of data attrib...     732        ChildOf   \n",
       "1  An HTTP cookie is a small piece of data attrib...     NaN            NaN   \n",
       "2  An HTTP cookie is a small piece of data attrib...     NaN            NaN   \n",
       "\n",
       "  modes_of_intro_phases modes_of_intro_descs likelihood  ...  \\\n",
       "0        Implementation                  NaN     Medium  ...   \n",
       "1                   NaN                  NaN     Medium  ...   \n",
       "2                   NaN                  NaN     Medium  ...   \n",
       "\n",
       "                                   consequence_notes  \\\n",
       "0  If the HttpOnly flag is not set, then sensitiv...   \n",
       "1  If the cookie in question is an authentication...   \n",
       "2                                                NaN   \n",
       "\n",
       "            detection_method  \\\n",
       "0  Automated Static Analysis   \n",
       "1                        NaN   \n",
       "2                        NaN   \n",
       "\n",
       "                                      detection_desc detection_effectiveness  \\\n",
       "0  Automated static analysis, commonly referred t...                    High   \n",
       "1                                                NaN                     NaN   \n",
       "2                                                NaN                     NaN   \n",
       "\n",
       "  mitigation_phases                                   mitigation_descs  \\\n",
       "0    Implementation  Leverage the HttpOnly flag when setting a sens...   \n",
       "1               NaN                                                NaN   \n",
       "2               NaN                                                NaN   \n",
       "\n",
       "  mitigation_effectiveness                                     mitigate_notes  \\\n",
       "0                     High  While this mitigation is effective for protect...   \n",
       "1                      NaN                                                NaN   \n",
       "2                      NaN                                                NaN   \n",
       "\n",
       "  observed_vulnerabilities                                vulnerability_descs  \n",
       "0           CVE-2022-24045  Web application for a room automation system h...  \n",
       "1            CVE-2014-3852  CMS written in Python does not include the HTT...  \n",
       "2            CVE-2015-4138  Appliance for managing encrypted communication...  \n",
       "\n",
       "[3 rows x 22 columns]"
      ]
     },
     "execution_count": 61,
     "metadata": {},
     "output_type": "execute_result"
    }
   ],
   "source": [
    "cwes.head(3)"
   ]
  },
  {
   "cell_type": "markdown",
   "id": "f62d12cc",
   "metadata": {},
   "source": [
    "The goal is now to continue preprocessing the data—looking at data types, checking for duplicates and typos, removing whitespace and normalizing capitalization, renaming columns if necessary, and merging the two data tables based on the `observed_vulnerabilities`/`cve_id` attributes.\n",
    "\n",
    "### Checking For Typos"
   ]
  },
  {
   "cell_type": "code",
   "execution_count": 70,
   "id": "49977063",
   "metadata": {},
   "outputs": [
    {
     "data": {
      "text/plain": [
       "mitigation_effectiveness\n",
       "nan                            296\n",
       "High                            75\n",
       "Defense in Depth                50\n",
       "Moderate                        43\n",
       "Limited                         37\n",
       "Discouraged Common Practice      9\n",
       "Incidental                       4\n",
       "None                             1\n",
       "Name: count, dtype: int64"
      ]
     },
     "execution_count": 70,
     "metadata": {},
     "output_type": "execute_result"
    }
   ],
   "source": [
    "# Rename columns\n",
    "col_names = {\n",
    "    'detection_method': 'detection_methods',\n",
    "    'detection_desc': 'detection_descs'\n",
    "}\n",
    "\n",
    "cwes = cwes.rename(columns=col_names)\n",
    "\n",
    "# Check for typos\n",
    "cwes['tech_class'].value_counts()\n"
   ]
  },
  {
   "cell_type": "code",
   "execution_count": 71,
   "id": "8723b1bc",
   "metadata": {},
   "outputs": [
    {
     "data": {
      "text/plain": [
       "nature_of_rels\n",
       "ChildOf       1308\n",
       "CanPrecede     141\n",
       "PeerOf          92\n",
       "nan             34\n",
       "CanAlsoBe       27\n",
       "Requires        13\n",
       "StartsWith       3\n",
       "Name: count, dtype: int64"
      ]
     },
     "execution_count": 71,
     "metadata": {},
     "output_type": "execute_result"
    }
   ],
   "source": [
    "cwes['nature_of_rels'].value_counts()"
   ]
  },
  {
   "cell_type": "code",
   "execution_count": 72,
   "id": "5080a559",
   "metadata": {},
   "outputs": [
    {
     "data": {
      "text/plain": [
       "modes_of_intro_phases\n",
       "Implementation              745\n",
       "Architecture and Design     340\n",
       "nan                         138\n",
       "Operation                   104\n",
       "System Configuration          9\n",
       "Manufacturing                 7\n",
       "Requirements                  7\n",
       "Integration                   6\n",
       "Installation                  6\n",
       "Build and Compilation         4\n",
       "Documentation                 3\n",
       "Policy                        2\n",
       "Patching and Maintenance      1\n",
       "Bundling                      1\n",
       "Distribution                  1\n",
       "Testing                       1\n",
       "Name: count, dtype: int64"
      ]
     },
     "execution_count": 72,
     "metadata": {},
     "output_type": "execute_result"
    }
   ],
   "source": [
    "cwes['modes_of_intro_phases'].value_counts()"
   ]
  },
  {
   "cell_type": "code",
   "execution_count": 73,
   "id": "95916b29",
   "metadata": {},
   "outputs": [
    {
     "data": {
      "text/plain": [
       "likelihood\n",
       "          2804\n",
       "High       810\n",
       "Medium     430\n",
       "Low        120\n",
       "Name: count, dtype: int64"
      ]
     },
     "execution_count": 73,
     "metadata": {},
     "output_type": "execute_result"
    }
   ],
   "source": [
    "cwes['likelihood'].value_counts()"
   ]
  },
  {
   "cell_type": "code",
   "execution_count": 74,
   "id": "a5d1c72c",
   "metadata": {},
   "outputs": [
    {
     "data": {
      "text/plain": [
       "detection_methods\n",
       "nan                                                       639\n",
       "Automated Static Analysis                                 257\n",
       "Architecture or Design Review                              62\n",
       "Dynamic Analysis with Manual Results Interpretation        52\n",
       "Manual Static Analysis - Source Code                       46\n",
       "Automated Static Analysis - Source Code                    44\n",
       "Manual Analysis                                            44\n",
       "Automated Static Analysis - Binary or Bytecode             34\n",
       "Fuzzing                                                    32\n",
       "Manual Static Analysis - Binary or Bytecode                31\n",
       "Dynamic Analysis with Automated Results Interpretation     31\n",
       "Automated Dynamic Analysis                                 27\n",
       "Black Box                                                  21\n",
       "Manual Static Analysis                                     13\n",
       "Automated Analysis                                         11\n",
       "Manual Dynamic Analysis                                    10\n",
       "White Box                                                   7\n",
       "Simulation / Emulation                                      3\n",
       "Other                                                       3\n",
       "Formal Verification                                         2\n",
       "Name: count, dtype: int64"
      ]
     },
     "execution_count": 74,
     "metadata": {},
     "output_type": "execute_result"
    }
   ],
   "source": [
    "cwes['detection_methods'].value_counts()"
   ]
  },
  {
   "cell_type": "code",
   "execution_count": 75,
   "id": "c52c17f3",
   "metadata": {},
   "outputs": [
    {
     "data": {
      "text/plain": [
       "detection_effectiveness\n",
       "nan              639\n",
       "High             420\n",
       "SOAR Partial     150\n",
       "Moderate          54\n",
       "Limited            9\n",
       "Opportunistic      6\n",
       "Name: count, dtype: int64"
      ]
     },
     "execution_count": 75,
     "metadata": {},
     "output_type": "execute_result"
    }
   ],
   "source": [
    "cwes['detection_effectiveness'].value_counts()"
   ]
  },
  {
   "cell_type": "code",
   "execution_count": 76,
   "id": "6670dcc9",
   "metadata": {},
   "outputs": [
    {
     "data": {
      "text/plain": [
       "mitigation_phases\n",
       "Implementation              517\n",
       "Architecture and Design     254\n",
       "Testing                      55\n",
       "System Configuration         47\n",
       "Operation                    40\n",
       "Build and Compilation        11\n",
       "Installation                  9\n",
       "Integration                   6\n",
       "Requirements                  5\n",
       "Documentation                 4\n",
       "Manufacturing                 4\n",
       "Policy                        2\n",
       "Distribution                  2\n",
       "Patching and Maintenance      1\n",
       "Name: count, dtype: int64"
      ]
     },
     "execution_count": 76,
     "metadata": {},
     "output_type": "execute_result"
    }
   ],
   "source": [
    "cwes['mitigation_phases'].value_counts()"
   ]
  },
  {
   "cell_type": "code",
   "execution_count": 77,
   "id": "4d79b63b",
   "metadata": {},
   "outputs": [
    {
     "data": {
      "text/plain": [
       "mitigation_effectiveness\n",
       "nan                            296\n",
       "High                            75\n",
       "Defense in Depth                50\n",
       "Moderate                        43\n",
       "Limited                         37\n",
       "Discouraged Common Practice      9\n",
       "Incidental                       4\n",
       "None                             1\n",
       "Name: count, dtype: int64"
      ]
     },
     "execution_count": 77,
     "metadata": {},
     "output_type": "execute_result"
    }
   ],
   "source": [
    "cwes['mitigation_effectiveness'].value_counts()"
   ]
  },
  {
   "cell_type": "markdown",
   "id": "9f3ac8cc",
   "metadata": {},
   "source": [
    "### Checking Data Types"
   ]
  },
  {
   "cell_type": "code",
   "execution_count": 78,
   "id": "e812826f",
   "metadata": {},
   "outputs": [
    {
     "name": "stdout",
     "output_type": "stream",
     "text": [
      "\"cwe_id\" is of type <class 'str'>.\n",
      "\"name\" is of type <class 'str'>.\n",
      "\"description\" is of type <class 'str'>.\n",
      "\"tech_class\" is of type <class 'str'>.\n",
      "\"bg_details\" is of type <class 'str'>.\n",
      "\"rel_ids\" is of type <class 'str'>.\n",
      "\"nature_of_rels\" is of type <class 'str'>.\n",
      "\"modes_of_intro_phases\" is of type <class 'str'>.\n",
      "\"modes_of_intro_descs\" is of type <class 'str'>.\n",
      "\"likelihood\" is of type <class 'str'>.\n",
      "\"scope_of_consequences\" is of type <class 'str'>.\n",
      "\"impact_of_consequences\" is of type <class 'str'>.\n",
      "\"consequence_notes\" is of type <class 'str'>.\n",
      "\"detection_methods\" is of type <class 'str'>.\n",
      "\"detection_descs\" is of type <class 'str'>.\n",
      "\"detection_effectiveness\" is of type <class 'str'>.\n",
      "\"mitigation_phases\" is of type <class 'str'>.\n",
      "\"mitigation_descs\" is of type <class 'str'>.\n",
      "\"mitigation_effectiveness\" is of type <class 'str'>.\n",
      "\"mitigate_notes\" is of type <class 'str'>.\n",
      "\"observed_vulnerabilities\" is of type <class 'str'>.\n",
      "\"vulnerability_descs\" is of type <class 'str'>.\n"
     ]
    }
   ],
   "source": [
    "# Check data types\n",
    "def check_type(cols):\n",
    "    for col in cols:\n",
    "        dtype = type(col)\n",
    "        print(f'\"{col}\" is of type {dtype}.')\n",
    "\n",
    "check_type(cwes.columns)"
   ]
  },
  {
   "cell_type": "markdown",
   "id": "cbad0f13",
   "metadata": {},
   "source": [
    "Every column is now simple text, making it much easier to trim whitespace from each entry."
   ]
  },
  {
   "cell_type": "code",
   "execution_count": 83,
   "id": "2aac4d4a",
   "metadata": {},
   "outputs": [],
   "source": [
    "# Check for leading or trailing whitespace\n",
    "str_cols = cwes.select_dtypes(include=['string']).columns\n",
    "\n",
    "def check_whitespace():\n",
    "    for col in str_cols:\n",
    "        trimmable = cwes[col].str.contains(r'^\\s+|\\s+$', regex=True).sum()\n",
    "        print(f\"Column '{col}' has {trimmable} trimmable whitespace characters.\")\n",
    "\n",
    "# Remove leading or trailing whitespace\n",
    "cwes[str_cols] = cwes[str_cols].apply(lambda x: x.str.strip())"
   ]
  },
  {
   "cell_type": "markdown",
   "id": "f08b2250",
   "metadata": {},
   "source": [
    "### Checking For Duplicates"
   ]
  },
  {
   "cell_type": "code",
   "execution_count": 88,
   "id": "8fb3d875",
   "metadata": {},
   "outputs": [
    {
     "name": "stdout",
     "output_type": "stream",
     "text": [
      "There are 11 duplicates in the dataframe.\n",
      "There are now 0 duplicates in the dataframe.\n"
     ]
    }
   ],
   "source": [
    "print(f'There are {cwes.duplicated().sum()} duplicates in the dataframe.')\n",
    "\n",
    "dups = cwes[cwes.duplicated(keep=False)]\n",
    "cwes = cwes.drop_duplicates(keep='first')\n",
    "\n",
    "print(f'There are now {cwes.duplicated().sum()} duplicates in the dataframe.')\n"
   ]
  },
  {
   "cell_type": "markdown",
   "id": "a7c122e0",
   "metadata": {},
   "source": [
    "## Merging the Dataframes\n",
    "It's time to perform the merge. The operation that makes the most sense, since there are many hundreds of times more CVE records than CWEs, will be to \"left outer merge\" the CWEs into the CVE dataset via the `cwe_id` attribute. This will keep all of the CVE records and simply populate where possible their CWE IDs field, instead of dropping every CVE record that doesn't contain a CWE ID post-merge. A more exclusive set of data will be made by \"inner merging\" the dataframes such that the only observations that will remain will be those that contain both CVE IDs and CWE IDs."
   ]
  },
  {
   "cell_type": "code",
   "execution_count": 97,
   "id": "ec5a1863",
   "metadata": {},
   "outputs": [],
   "source": [
    "df = cves.merge(cwes, how='left')"
   ]
  },
  {
   "cell_type": "code",
   "execution_count": 99,
   "id": "3570818b",
   "metadata": {},
   "outputs": [
    {
     "data": {
      "text/html": [
       "<div>\n",
       "<style scoped>\n",
       "    .dataframe tbody tr th:only-of-type {\n",
       "        vertical-align: middle;\n",
       "    }\n",
       "\n",
       "    .dataframe tbody tr th {\n",
       "        vertical-align: top;\n",
       "    }\n",
       "\n",
       "    .dataframe thead th {\n",
       "        text-align: right;\n",
       "    }\n",
       "</style>\n",
       "<table border=\"1\" class=\"dataframe\">\n",
       "  <thead>\n",
       "    <tr style=\"text-align: right;\">\n",
       "      <th></th>\n",
       "      <th>cve_id</th>\n",
       "      <th>cwe_id</th>\n",
       "      <th>cve_state</th>\n",
       "      <th>date_published</th>\n",
       "      <th>description</th>\n",
       "      <th>severity</th>\n",
       "      <th>severity_score</th>\n",
       "      <th>attack_vector</th>\n",
       "      <th>attack_complexity</th>\n",
       "      <th>name</th>\n",
       "      <th>...</th>\n",
       "      <th>consequence_notes</th>\n",
       "      <th>detection_methods</th>\n",
       "      <th>detection_descs</th>\n",
       "      <th>detection_effectiveness</th>\n",
       "      <th>mitigation_phases</th>\n",
       "      <th>mitigation_descs</th>\n",
       "      <th>mitigation_effectiveness</th>\n",
       "      <th>mitigate_notes</th>\n",
       "      <th>observed_vulnerabilities</th>\n",
       "      <th>vulnerability_descs</th>\n",
       "    </tr>\n",
       "  </thead>\n",
       "  <tbody>\n",
       "    <tr>\n",
       "      <th>0</th>\n",
       "      <td>CVE-1999-0001</td>\n",
       "      <td>&lt;NA&gt;</td>\n",
       "      <td>PUBLISHED</td>\n",
       "      <td>2000-02-04 05:00:00+00:00</td>\n",
       "      <td>ip_input.c in BSD-derived TCP/IP implementatio...</td>\n",
       "      <td>&lt;NA&gt;</td>\n",
       "      <td>NaN</td>\n",
       "      <td>&lt;NA&gt;</td>\n",
       "      <td>&lt;NA&gt;</td>\n",
       "      <td>NaN</td>\n",
       "      <td>...</td>\n",
       "      <td>NaN</td>\n",
       "      <td>NaN</td>\n",
       "      <td>NaN</td>\n",
       "      <td>NaN</td>\n",
       "      <td>NaN</td>\n",
       "      <td>NaN</td>\n",
       "      <td>NaN</td>\n",
       "      <td>NaN</td>\n",
       "      <td>NaN</td>\n",
       "      <td>NaN</td>\n",
       "    </tr>\n",
       "    <tr>\n",
       "      <th>1</th>\n",
       "      <td>CVE-1999-0002</td>\n",
       "      <td>&lt;NA&gt;</td>\n",
       "      <td>PUBLISHED</td>\n",
       "      <td>1999-09-29 04:00:00+00:00</td>\n",
       "      <td>Buffer overflow in NFS mountd gives root acces...</td>\n",
       "      <td>&lt;NA&gt;</td>\n",
       "      <td>NaN</td>\n",
       "      <td>&lt;NA&gt;</td>\n",
       "      <td>&lt;NA&gt;</td>\n",
       "      <td>NaN</td>\n",
       "      <td>...</td>\n",
       "      <td>NaN</td>\n",
       "      <td>NaN</td>\n",
       "      <td>NaN</td>\n",
       "      <td>NaN</td>\n",
       "      <td>NaN</td>\n",
       "      <td>NaN</td>\n",
       "      <td>NaN</td>\n",
       "      <td>NaN</td>\n",
       "      <td>NaN</td>\n",
       "      <td>NaN</td>\n",
       "    </tr>\n",
       "    <tr>\n",
       "      <th>2</th>\n",
       "      <td>CVE-1999-0003</td>\n",
       "      <td>&lt;NA&gt;</td>\n",
       "      <td>PUBLISHED</td>\n",
       "      <td>1999-09-29 04:00:00+00:00</td>\n",
       "      <td>Execute commands as root via buffer overflow i...</td>\n",
       "      <td>&lt;NA&gt;</td>\n",
       "      <td>NaN</td>\n",
       "      <td>&lt;NA&gt;</td>\n",
       "      <td>&lt;NA&gt;</td>\n",
       "      <td>NaN</td>\n",
       "      <td>...</td>\n",
       "      <td>NaN</td>\n",
       "      <td>NaN</td>\n",
       "      <td>NaN</td>\n",
       "      <td>NaN</td>\n",
       "      <td>NaN</td>\n",
       "      <td>NaN</td>\n",
       "      <td>NaN</td>\n",
       "      <td>NaN</td>\n",
       "      <td>NaN</td>\n",
       "      <td>NaN</td>\n",
       "    </tr>\n",
       "  </tbody>\n",
       "</table>\n",
       "<p>3 rows × 29 columns</p>\n",
       "</div>"
      ],
      "text/plain": [
       "          cve_id cwe_id  cve_state            date_published  \\\n",
       "0  CVE-1999-0001   <NA>  PUBLISHED 2000-02-04 05:00:00+00:00   \n",
       "1  CVE-1999-0002   <NA>  PUBLISHED 1999-09-29 04:00:00+00:00   \n",
       "2  CVE-1999-0003   <NA>  PUBLISHED 1999-09-29 04:00:00+00:00   \n",
       "\n",
       "                                         description severity  severity_score  \\\n",
       "0  ip_input.c in BSD-derived TCP/IP implementatio...     <NA>             NaN   \n",
       "1  Buffer overflow in NFS mountd gives root acces...     <NA>             NaN   \n",
       "2  Execute commands as root via buffer overflow i...     <NA>             NaN   \n",
       "\n",
       "  attack_vector attack_complexity name  ... consequence_notes  \\\n",
       "0          <NA>              <NA>  NaN  ...               NaN   \n",
       "1          <NA>              <NA>  NaN  ...               NaN   \n",
       "2          <NA>              <NA>  NaN  ...               NaN   \n",
       "\n",
       "  detection_methods detection_descs detection_effectiveness mitigation_phases  \\\n",
       "0               NaN             NaN                     NaN               NaN   \n",
       "1               NaN             NaN                     NaN               NaN   \n",
       "2               NaN             NaN                     NaN               NaN   \n",
       "\n",
       "  mitigation_descs mitigation_effectiveness mitigate_notes  \\\n",
       "0              NaN                      NaN            NaN   \n",
       "1              NaN                      NaN            NaN   \n",
       "2              NaN                      NaN            NaN   \n",
       "\n",
       "  observed_vulnerabilities vulnerability_descs  \n",
       "0                      NaN                 NaN  \n",
       "1                      NaN                 NaN  \n",
       "2                      NaN                 NaN  \n",
       "\n",
       "[3 rows x 29 columns]"
      ]
     },
     "execution_count": 99,
     "metadata": {},
     "output_type": "execute_result"
    }
   ],
   "source": [
    "df.head(3)"
   ]
  },
  {
   "cell_type": "code",
   "execution_count": 100,
   "id": "4d5149e5",
   "metadata": {},
   "outputs": [
    {
     "data": {
      "text/plain": [
       "cwe_id\n",
       "CWE-79      8871\n",
       "CWE-89      3554\n",
       "CWE-20      2609\n",
       "CWE-352     2118\n",
       "CWE-200     1802\n",
       "            ... \n",
       "CWE-301        1\n",
       "CWE-446        1\n",
       "CWE-1007       1\n",
       "CWE-623        1\n",
       "CWE-1262       1\n",
       "Name: count, Length: 664, dtype: int64"
      ]
     },
     "execution_count": 100,
     "metadata": {},
     "output_type": "execute_result"
    }
   ],
   "source": [
    "df['cwe_id'].value_counts()"
   ]
  },
  {
   "cell_type": "code",
   "execution_count": null,
   "id": "afdfe503",
   "metadata": {},
   "outputs": [],
   "source": []
  }
 ],
 "metadata": {
  "kernelspec": {
   "display_name": "Python 3 (ipykernel)",
   "language": "python",
   "name": "python3"
  },
  "language_info": {
   "codemirror_mode": {
    "name": "ipython",
    "version": 3
   },
   "file_extension": ".py",
   "mimetype": "text/x-python",
   "name": "python",
   "nbconvert_exporter": "python",
   "pygments_lexer": "ipython3",
   "version": "3.10.13"
  }
 },
 "nbformat": 4,
 "nbformat_minor": 5
}
