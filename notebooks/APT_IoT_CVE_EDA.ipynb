{
 "cells": [
  {
   "cell_type": "markdown",
   "id": "87cf9927-f9c2-4948-993b-1e4abe806cdc",
   "metadata": {},
   "source": [
    "# Analysis of IoT-Related CVEs and Their Exploitation by APTs"
   ]
  },
  {
   "cell_type": "code",
   "execution_count": 2,
   "id": "bee253af-7b98-460e-b113-ee135c30e667",
   "metadata": {},
   "outputs": [],
   "source": [
    "import os # For traversing and reading folders and files\n",
    "import json # For reading and extracting data from CVE records\n",
    "import re # Handle regex patterns\n",
    "import xml.etree.ElementTree as ET # For reading and extracting data from CWE records\n",
    "import pandas as pd # For data cleaning and analysis\n",
    "import numpy as np # For advanced calculations\n",
    "import matplotlib.pyplot as plt # For data visualization"
   ]
  },
  {
   "cell_type": "markdown",
   "id": "b3a96cc8-40e0-420f-9891-1b2efd7079b5",
   "metadata": {},
   "source": [
    "## Data Collection\n",
    "### Extracting Data from the CVE List\n",
    "There are precisely $260,896$ records in the CVE list; each is represented by a single JSON file. These files contain all the information (though lots of it is incomplete) that will populate our `CVE_df` dataframe. It was clear after creating the initial script that massive discrepencacies existed between the files' structures. This makes it especially complicated to reliably retrieve desired values, but I managed to create a recursive function that performs various data retrieval processes based on the kind of data type the object holds at every level on its way to pull out the desired info. Based on the CVE List schema, I figured that the most important information—and really, the only kinds of information contained in the files that would be useful to us—would be the CVE ID, the CWE ID, the description, the date the record was published, a categorical and numerical severity score, the vector of attack used in the CVE, and attack complexity.\n",
    "\n"
   ]
  },
  {
   "cell_type": "raw",
   "id": "368113f2-d4b1-4c92-afcd-774d346e41b2",
   "metadata": {
    "vscode": {
     "languageId": "raw"
    }
   },
   "source": [
    "def search(obj, key_to_find, parent_key=None, expected_type=None):\n",
    "    # If the object is not a dictionary or list, end search\n",
    "    if not isinstance(obj, (dict, list)):\n",
    "        return None\n",
    "    # If the current object is a dictionary\n",
    "    if isinstance(obj, dict):\n",
    "        # Check if current dictionary has the parent key\n",
    "        if parent_key and parent_key in obj:\n",
    "            parent_value = obj[parent_key]\n",
    "            result = search(parent_value, key_to_find, None, expected_type)\n",
    "            if result is not None:\n",
    "                return result\n",
    "        # If no parent key is specified\n",
    "        elif not parent_key and key_to_find in obj:\n",
    "            value = obj[key_to_find]\n",
    "            if expected_type is None or isinstance(value, expected_type):\n",
    "                return value\n",
    "        # If value is not expected type\n",
    "        for value in obj.values():\n",
    "            result = search(value, key_to_find, parent_key, expected_type)\n",
    "            if result is not None:\n",
    "                return result\n",
    "    # If the current object is a list\n",
    "    elif isinstance(obj, list):\n",
    "        for item in obj:\n",
    "            result = search(item, key_to_find, parent_key, expected_type)\n",
    "            if result is not None:\n",
    "                return result\n",
    "    # If no value was found\n",
    "    return None\n",
    "\n",
    "\n",
    "def extract_data(file_path):\n",
    "    try:\n",
    "        with open(file_path, 'r', encoding='utf-8') as file:\n",
    "            cve = json.load(file)\n",
    "\n",
    "            cve_id = search(cve, 'cveId')\n",
    "            cwe_id = search(cve, 'cweId')\n",
    "            cve_state = search(cve, 'state')\n",
    "            date_published = search(cve, 'datePublished')\n",
    "            description = search(cve, 'value', parent_key='descriptions')\n",
    "            severity = search(cve, 'baseSeverity')\n",
    "            severity_score = search(cve, 'baseScore')\n",
    "            attack_vector = search(cve, 'attackVector')\n",
    "            attack_complexity = search(cve, 'attackComplexity')\n",
    "\n",
    "            return {\n",
    "                'cve_id': cve_id,\n",
    "                'cwe_id': cwe_id,\n",
    "                'cve_state': cve_state,\n",
    "                'date_published': date_published,\n",
    "                'description': description,\n",
    "                'severity': severity,\n",
    "                'severity_score': severity_score,\n",
    "                'attack_vector': attack_vector,\n",
    "                'attack_complexity': attack_complexity\n",
    "            }\n",
    "\n",
    "    except json.JSONDecodeError as e:\n",
    "        print(f'Error reading {file_path}: {e}')\n",
    "    except Exception as e:\n",
    "        print(f'Unexpected error reading {file_path}: {e}')\n",
    "    return None\n",
    "\n",
    "def process_files(base_dir):\n",
    "    data = []\n",
    "    total_files = sum(len(files) for _, _, files in os.walk(base_dir))\n",
    "    file_count = 0\n",
    "    print(total_files)\n",
    "\n",
    "    for root, dirs, files in os.walk(base_dir):\n",
    "        for file_name in files:\n",
    "            if file_name.endswith('.json'):\n",
    "                file_path = os.path.join(root, file_name)\n",
    "                cve_data = extract_data(file_path)\n",
    "\n",
    "                if cve_data:\n",
    "                    data.append(cve_data)\n",
    "\n",
    "                file_count += 1\n",
    "                print(f'File {file_count} of {total_files}: {file_count / total_files * 100:.2f}%', end='\\r')\n",
    "\n",
    "    print('\\nAll files processed!')\n",
    "    df = pd.DataFrame(data)\n",
    "    return df\n",
    "\n",
    "base_dir = '../data/CVE_V5/cvelistV5-main/cves'\n",
    "df = process_files(base_dir)"
   ]
  },
  {
   "cell_type": "markdown",
   "id": "d7bfea43",
   "metadata": {},
   "source": [
    "### Extracting Data from the CWE List\n",
    "The CWE list contains lots of information that could be pertinant to our analysis that's relatively easy to access. Among these I counted the CWE IDs, names, descriptions, related CWEs, the nature of these relationships, the technological vector (web-based, network, etc.), background details, the phases of development wherein the weakness could be introduced, descriptions about these unfortunate events, the likelihood of these weaknesses, the scope and impact of the weakness's common consequences, detection methods and their descriptions and effectiveness, mitigation strategies, potential vulnerabilities, observed vulnerabilities (with direct references to CVE IDs), and more. Because of the observed vulnerabilities, we can merge together these two dataframes and clean and filter the resultant so that we have a comprehensive dataset to work with. Because there's so much text data in the CWE list, we should have plenty of information to feed into a matural language processing pipeline that can help build a classification model to predict the association of a given CVE with the IoT and it's various vulnerabilities.\n",
    "\n",
    "I created several helper functions to get us from `A` to `B`. The first, I can just feed the XML file. Next, we have a function that takes an element and takes all of the text data inside of it and it's children nodes and returns it as a long sentence. This kind of column data will be useful when we tokenize and lemmatize the text to more accurately search for our desire IoT-vulnerability-related keywords."
   ]
  },
  {
   "cell_type": "raw",
   "id": "f1e991ee-5b50-4f3e-8f50-29684b8e0385",
   "metadata": {
    "vscode": {
     "languageId": "raw"
    }
   },
   "source": [
    "def readXML(file_path):\n",
    "    try:\n",
    "        tree = ET.parse(file_path)\n",
    "        root = tree.getroot()\n",
    "        return root\n",
    "    except ET.ParseError as e:\n",
    "        print(f'Error parsing {file_path}: {e}')\n",
    "        return None\n",
    "\n",
    "def extract_txt_from_el(element):\n",
    "    if element is None:\n",
    "        return ''\n",
    "    txt_parts = [element.text or '']\n",
    "    for child in element:\n",
    "        txt_parts.append(extract_txt_from_el(child))\n",
    "        if child.tail:\n",
    "            txt_parts.append(child.tail)\n",
    "    return ' '.join(filter(None, txt_parts)).strip()\n",
    "\n",
    "def extract_data(root):\n",
    "    data = []\n",
    "    ns = {\n",
    "        'ns': 'http://cwe.mitre.org/cwe-7',\n",
    "        'xhtml': 'http://www.w3.org/1999/xhtml',\n",
    "        'xsi': 'http://www.w3.org/2001/XMLSchema-instance'\n",
    "    }\n",
    "    weaknesses = root.findall('.//ns:Weakness', ns)\n",
    "\n",
    "    # Debugging\n",
    "    if not weaknesses:\n",
    "        print('No Weaknesses found')\n",
    "        return data\n",
    "\n",
    "    for weakness in weaknesses:\n",
    "        # Basic info\n",
    "        cwe_id = weakness.get('ID')\n",
    "        name = weakness.get('Name')\n",
    "        desc = extract_txt_from_el(weakness.find('ns:Description', ns))\n",
    "        ext_desc = extract_txt_from_el(weakness.find('ns:Extended_Description', ns))\n",
    "        description = f'{desc} {ext_desc}'.strip()\n",
    "\n",
    "        # Related weakness info\n",
    "        rel_ids, nature_of_rels = [], []\n",
    "        related_weaknesses = weakness.find('ns:Related_Weaknesses', ns)\n",
    "        if related_weaknesses is not None:\n",
    "            for rel_weakness in related_weaknesses.findall('ns:Related_Weakness', ns):\n",
    "                rel_id = rel_weakness.get('CWE_ID')\n",
    "                nature = rel_weakness.get('Nature')\n",
    "                rel_ids.append(rel_id)\n",
    "                nature_of_rels.append(nature)\n",
    "\n",
    "        # Technical info\n",
    "        tech_el = weakness.find('.//ns:Technology', ns)\n",
    "        tech_class = tech_el.get('Class') if tech_el is not None else ''\n",
    "        bg_details = extract_txt_from_el(weakness.find('ns:Background_Details/ns:Background_Detail', ns))\n",
    "\n",
    "        # Modes of introduction\n",
    "        modes_of_intro_phases, modes_of_intro_descs = [], []\n",
    "        modes_of_intro = weakness.find('ns:Modes_Of_Introduction', ns)\n",
    "        if modes_of_intro is not None:\n",
    "            for mode in modes_of_intro:\n",
    "                modes_of_intro_phase = mode.find('ns:Phase', ns).text if mode.find('ns:Phase', ns) is not None else ''\n",
    "                modes_of_intro_note = mode.find('ns:Note', ns).text if mode.find('ns:Note', ns) is not None else ''\n",
    "                # Append data to the columns\n",
    "                modes_of_intro_phases.append(modes_of_intro_phase)\n",
    "                modes_of_intro_descs.append(modes_of_intro_note)\n",
    "\n",
    "        # Likelihood of exploitation\n",
    "        likelihood = extract_txt_from_el(weakness.find('ns:Likelihood_Of_Exploit', ns))\n",
    "\n",
    "        # Consequence info\n",
    "        scope_of_consequences, impact_of_consequences, consequence_notes = [], [], []\n",
    "        consequences = weakness.find('ns:Common_Consequences', ns)\n",
    "        if consequences is not None:\n",
    "            for consequence in consequences:\n",
    "                scope = consequence.find('ns:Scope', ns).text if consequence.find('ns:Scope', ns) is not None else ''\n",
    "                impact = consequence.find('ns:Impact', ns).text if consequence.find('ns:Impact', ns) is not None else ''\n",
    "                note = consequence.find('ns:Note', ns).text if consequence.find('ns:Note', ns) is not None else ''\n",
    "                scope_of_consequences.append(scope)\n",
    "                impact_of_consequences.append(impact)\n",
    "                consequence_notes.append(note)\n",
    "\n",
    "        # Detection info\n",
    "        detect_methods = []\n",
    "        detect_descs = []\n",
    "        detect_effectiveness = []\n",
    "        detection_methods = weakness.find('ns:Detection_Methods', ns)\n",
    "        if detection_methods is not None:\n",
    "            for method in detection_methods:\n",
    "                detect_method = method.find('ns:Method', ns).text if method.find('ns:Method', ns) is not None else ''\n",
    "                detect_desc = method.find('ns:Description', ns).text if method.find('ns:Description', ns) is not None else ''\n",
    "                detect_effect = method.find('ns:Effectiveness', ns).text if method.find('ns:Effectiveness', ns) is not None else ''\n",
    "                # Append data to the columns\n",
    "                detect_methods.append(detect_method)\n",
    "                detect_descs.append(detect_desc)\n",
    "                detect_effectiveness.append(detect_effect)\n",
    "\n",
    "        # Mitigation info\n",
    "        mitigate_phases = []\n",
    "        mitigate_descs = []\n",
    "        mitigate_effectivenesses = []\n",
    "        mitigate_notes = []\n",
    "        potential_mitigations = weakness.find('ns:Potential_Mitigations', ns)\n",
    "        if potential_mitigations is not None:\n",
    "            for mitigation in potential_mitigations:\n",
    "                mitigate_phase = mitigation.find('.//ns:Phase', ns)\n",
    "                mitigate_phase = mitigate_phase.text if mitigate_phase is not None else ''\n",
    "\n",
    "                # Build a mitigation description\n",
    "                mitigate_desc_el = mitigation.find('ns:Description', ns)\n",
    "                if mitigate_desc_el is not None:\n",
    "                    desc_parts = []\n",
    "                    if mitigate_desc_el.text:\n",
    "                        desc_parts.append(mitigate_desc_el.text.strip())\n",
    "                    for part in mitigate_desc_el.findall('.//xhtml:p', ns):\n",
    "                        if part.text:\n",
    "                            desc_parts.append(part.text.strip())\n",
    "                    mitigate_descs.append(' '.join(desc_parts))\n",
    "                else:\n",
    "                    mitigate_descs.append('')\n",
    "\n",
    "                mitigate_effectiveness = mitigation.find('ns:Effectiveness', ns)\n",
    "                mitigate_effectiveness = mitigate_effectiveness.text if mitigate_effectiveness is not None else ''\n",
    "\n",
    "                mitigate_note = mitigation.find('ns:Effectiveness_Notes', ns)\n",
    "                mitigate_note = mitigate_note.text if mitigate_note is not None else ''\n",
    "                # Append data to the columns\n",
    "                mitigate_phases.append(mitigate_phase)\n",
    "                mitigate_effectivenesses.append(mitigate_effectiveness)\n",
    "                mitigate_notes.append(mitigate_note)\n",
    "\n",
    "\n",
    "        observed_vulnerabilities = []\n",
    "        vulnerability_descs = []\n",
    "        observed_examples = weakness.find('ns:Observed_Examples', ns)\n",
    "        if observed_examples is not None:\n",
    "            for cve in observed_examples.findall('ns:Observed_Example', ns):\n",
    "                observed_vulnerability = cve.find('ns:Reference', ns).text if cve.find('ns:Reference', ns) is not None else ''\n",
    "                vulnerability_desc = cve.find('ns:Description', ns).text if cve.find('ns:Description', ns) is not None else ''\n",
    "                # Append data to the columns\n",
    "                observed_vulnerabilities.append(observed_vulnerability)\n",
    "                vulnerability_descs.append(vulnerability_desc)\n",
    "\n",
    "        data.append({\n",
    "            'cwe_id': cwe_id,\n",
    "            'name': name,\n",
    "            'description': description,\n",
    "            'tech_class': tech_class,\n",
    "            'bg_details': bg_details,\n",
    "            'rel_ids': rel_ids,\n",
    "            'nature_of_rels': nature_of_rels,\n",
    "            'modes_of_intro_phases': modes_of_intro_phases,\n",
    "            'modes_of_intro_descs': modes_of_intro_descs,\n",
    "            'likelihood': likelihood,\n",
    "            'scope_of_consequences': scope_of_consequences,\n",
    "            'impact_of_consequences': impact_of_consequences,\n",
    "            'consequence_notes': consequence_notes,\n",
    "            'detection_method': detect_methods,\n",
    "            'detection_desc': detect_descs,\n",
    "            'detection_effectiveness': detect_effectiveness,\n",
    "            'mitigation_phases': mitigate_phase,\n",
    "            'mitigation_descs': mitigate_descs,\n",
    "            'mitigation_effectiveness': mitigate_effectivenesses,\n",
    "            'mitigate_notes': mitigate_notes,\n",
    "            'observed_vulnerabilities': observed_vulnerabilities,\n",
    "            'vulnerability_descs': vulnerability_descs\n",
    "        })\n",
    "    return data\n",
    "\n",
    "file = '../data/CWE_V4.15/CWE_v4.15.xml'\n",
    "root = readXML(file)\n",
    "data = extract_data(root)\n",
    "\n",
    "# Construct the dataframe\n",
    "df2 = pd.DataFrame(data)\n"
   ]
  },
  {
   "cell_type": "markdown",
   "id": "2ad90663",
   "metadata": {},
   "source": [
    "### Saving the Data\n",
    "Parquet is a file type that streamlines the storage and retrieval of columnar data. I also saved a copy of both dataframes to CSV (a basic type of spreadsheet file). I chose to use the default option `None` for the method's `index` parameter, which saves the index of each record in a special kind of metadata range loop. This means it won't take up the kind of memory it would have if the index was actually saved into the dataframe as a separate attribute, but also provides a way to keep track of the records for the purposes of splitting them up between training, test, and validation sets for an ML algorithm should our work come to that.\n",
    "\n",
    "<span style='font-weight:600;color:#ff8800;background-color:#666672;border-radius:3px;padding-inline:3px;padding-block:1px;'>Don't run these code cells unless you want to overwrite the saved files!</span>"
   ]
  },
  {
   "cell_type": "raw",
   "id": "e65c9289",
   "metadata": {
    "vscode": {
     "languageId": "raw"
    }
   },
   "source": [
    "# Converting the severity score to a proper numerical value so that parquet can\n",
    "# save the file correctly\n",
    "try:\n",
    "    df['severity_score'] = pd.to_numeric(df['severity_score'], errors='coerce')\n",
    "except ValueError as e:\n",
    "    print(f'Unable to convert severity score: {e}')\n"
   ]
  },
  {
   "cell_type": "raw",
   "id": "b0683050",
   "metadata": {
    "vscode": {
     "languageId": "raw"
    }
   },
   "source": [
    "# Saving CVE list\n",
    "df.to_parquet(path='../data/CVE_V5/CVE_List.parquet', index=None)\n",
    "df.to_csv('../data/CVE_V5/CVE_List.csv', index=None)\n",
    "\n",
    "# Saving CWE list\n",
    "df2.to_parquet(path='../data/CWE_List.parquet', index=None)\n",
    "df2.to_csv('../data/CVE_V5/CWE_List.csv', index=None)"
   ]
  },
  {
   "cell_type": "markdown",
   "id": "f58f2bf8",
   "metadata": {},
   "source": [
    "## Loading the Data\n",
    "I saved the dataframes resulting from our extraction into secondary storage because pulling data from $260,000$ files takes a very long time (1.5+ hours). Now that we have neatly-packaged CSV files, we'll read them into Pandas so we can inspect their cleanliness, merge them together in interest ways, and construct an comprehensive analysis with descriptive statistics, chi-square independence testing, Spearman's rank correlation, and logistic regression."
   ]
  },
  {
   "cell_type": "code",
   "execution_count": 46,
   "id": "62eab5e3",
   "metadata": {},
   "outputs": [
    {
     "data": {
      "text/html": [
       "<div>\n",
       "<style scoped>\n",
       "    .dataframe tbody tr th:only-of-type {\n",
       "        vertical-align: middle;\n",
       "    }\n",
       "\n",
       "    .dataframe tbody tr th {\n",
       "        vertical-align: top;\n",
       "    }\n",
       "\n",
       "    .dataframe thead th {\n",
       "        text-align: right;\n",
       "    }\n",
       "</style>\n",
       "<table border=\"1\" class=\"dataframe\">\n",
       "  <thead>\n",
       "    <tr style=\"text-align: right;\">\n",
       "      <th></th>\n",
       "      <th>cve_id</th>\n",
       "      <th>cwe_id</th>\n",
       "      <th>cve_state</th>\n",
       "      <th>date_published</th>\n",
       "      <th>description</th>\n",
       "      <th>severity</th>\n",
       "      <th>severity_score</th>\n",
       "      <th>attack_vector</th>\n",
       "      <th>attack_complexity</th>\n",
       "    </tr>\n",
       "  </thead>\n",
       "  <tbody>\n",
       "    <tr>\n",
       "      <th>0</th>\n",
       "      <td>CVE-1999-0001</td>\n",
       "      <td>NaN</td>\n",
       "      <td>PUBLISHED</td>\n",
       "      <td>2000-02-04T05:00:00</td>\n",
       "      <td>ip_input.c in BSD-derived TCP/IP implementatio...</td>\n",
       "      <td>NaN</td>\n",
       "      <td>NaN</td>\n",
       "      <td>NaN</td>\n",
       "      <td>NaN</td>\n",
       "    </tr>\n",
       "  </tbody>\n",
       "</table>\n",
       "</div>"
      ],
      "text/plain": [
       "          cve_id cwe_id  cve_state       date_published  \\\n",
       "0  CVE-1999-0001    NaN  PUBLISHED  2000-02-04T05:00:00   \n",
       "\n",
       "                                         description severity  severity_score  \\\n",
       "0  ip_input.c in BSD-derived TCP/IP implementatio...      NaN             NaN   \n",
       "\n",
       "  attack_vector attack_complexity  \n",
       "0           NaN               NaN  "
      ]
     },
     "execution_count": 46,
     "metadata": {},
     "output_type": "execute_result"
    }
   ],
   "source": [
    "cves = pd.read_csv('../data/CVE_V5/CVE_List.csv')\n",
    "\n",
    "cves.head(n=1)"
   ]
  },
  {
   "cell_type": "code",
   "execution_count": 47,
   "id": "b2797eea-255e-49b3-b4d8-18f13824c279",
   "metadata": {},
   "outputs": [
    {
     "data": {
      "text/html": [
       "<div>\n",
       "<style scoped>\n",
       "    .dataframe tbody tr th:only-of-type {\n",
       "        vertical-align: middle;\n",
       "    }\n",
       "\n",
       "    .dataframe tbody tr th {\n",
       "        vertical-align: top;\n",
       "    }\n",
       "\n",
       "    .dataframe thead th {\n",
       "        text-align: right;\n",
       "    }\n",
       "</style>\n",
       "<table border=\"1\" class=\"dataframe\">\n",
       "  <thead>\n",
       "    <tr style=\"text-align: right;\">\n",
       "      <th></th>\n",
       "      <th>cwe_id</th>\n",
       "      <th>name</th>\n",
       "      <th>description</th>\n",
       "      <th>tech_class</th>\n",
       "      <th>bg_details</th>\n",
       "      <th>rel_ids</th>\n",
       "      <th>nature_of_rels</th>\n",
       "      <th>modes_of_intro_phases</th>\n",
       "      <th>modes_of_intro_descs</th>\n",
       "      <th>likelihood</th>\n",
       "      <th>...</th>\n",
       "      <th>consequence_notes</th>\n",
       "      <th>detection_method</th>\n",
       "      <th>detection_desc</th>\n",
       "      <th>detection_effectiveness</th>\n",
       "      <th>mitigation_phases</th>\n",
       "      <th>mitigation_descs</th>\n",
       "      <th>mitigation_effectiveness</th>\n",
       "      <th>mitigate_notes</th>\n",
       "      <th>observed_vulnerabilities</th>\n",
       "      <th>vulnerability_descs</th>\n",
       "    </tr>\n",
       "  </thead>\n",
       "  <tbody>\n",
       "    <tr>\n",
       "      <th>0</th>\n",
       "      <td>1004</td>\n",
       "      <td>Sensitive Cookie Without 'HttpOnly' Flag</td>\n",
       "      <td>The product uses a cookie to store sensitive i...</td>\n",
       "      <td>Web Based</td>\n",
       "      <td>An HTTP cookie is a small piece of data attrib...</td>\n",
       "      <td>['732']</td>\n",
       "      <td>['ChildOf']</td>\n",
       "      <td>['Implementation']</td>\n",
       "      <td>['']</td>\n",
       "      <td>Medium</td>\n",
       "      <td>...</td>\n",
       "      <td>['If the HttpOnly flag is not set, then sensit...</td>\n",
       "      <td>['Automated Static Analysis']</td>\n",
       "      <td>['Automated static analysis, commonly referred...</td>\n",
       "      <td>['High']</td>\n",
       "      <td>Implementation</td>\n",
       "      <td>['Leverage the HttpOnly flag when setting a se...</td>\n",
       "      <td>['High']</td>\n",
       "      <td>[\"While this mitigation is effective for prote...</td>\n",
       "      <td>['CVE-2022-24045', 'CVE-2014-3852', 'CVE-2015-...</td>\n",
       "      <td>['Web application for a room automation system...</td>\n",
       "    </tr>\n",
       "  </tbody>\n",
       "</table>\n",
       "<p>1 rows × 22 columns</p>\n",
       "</div>"
      ],
      "text/plain": [
       "   cwe_id                                      name  \\\n",
       "0    1004  Sensitive Cookie Without 'HttpOnly' Flag   \n",
       "\n",
       "                                         description tech_class  \\\n",
       "0  The product uses a cookie to store sensitive i...  Web Based   \n",
       "\n",
       "                                          bg_details  rel_ids nature_of_rels  \\\n",
       "0  An HTTP cookie is a small piece of data attrib...  ['732']    ['ChildOf']   \n",
       "\n",
       "  modes_of_intro_phases modes_of_intro_descs likelihood  ...  \\\n",
       "0    ['Implementation']                 ['']     Medium  ...   \n",
       "\n",
       "                                   consequence_notes  \\\n",
       "0  ['If the HttpOnly flag is not set, then sensit...   \n",
       "\n",
       "                detection_method  \\\n",
       "0  ['Automated Static Analysis']   \n",
       "\n",
       "                                      detection_desc detection_effectiveness  \\\n",
       "0  ['Automated static analysis, commonly referred...                ['High']   \n",
       "\n",
       "  mitigation_phases                                   mitigation_descs  \\\n",
       "0    Implementation  ['Leverage the HttpOnly flag when setting a se...   \n",
       "\n",
       "  mitigation_effectiveness                                     mitigate_notes  \\\n",
       "0                 ['High']  [\"While this mitigation is effective for prote...   \n",
       "\n",
       "                            observed_vulnerabilities  \\\n",
       "0  ['CVE-2022-24045', 'CVE-2014-3852', 'CVE-2015-...   \n",
       "\n",
       "                                 vulnerability_descs  \n",
       "0  ['Web application for a room automation system...  \n",
       "\n",
       "[1 rows x 22 columns]"
      ]
     },
     "execution_count": 47,
     "metadata": {},
     "output_type": "execute_result"
    }
   ],
   "source": [
    "cwes = pd.read_csv('../data/CWE_V4.15/CWE_List.csv')\n",
    "\n",
    "cwes.head(n=1)"
   ]
  },
  {
   "cell_type": "markdown",
   "id": "fbf5c6ed",
   "metadata": {},
   "source": [
    "## Preprocessing\n",
    "In order to reliably analyze the data, we need to make sure it's clean. This involves several important steps, namely:\n",
    "1) Understanding the data at a bird's eye level; e.g. number of rows, summary stats about numerical columns, data types (numbers, text, dates, etc.)\n",
    "2) Handling missing values, redundant white space, inconsistent formatting, and typos\n",
    "3) Removing duplicates\n",
    "4) Converting data types into their respective forms for efficient processing\n",
    "\n",
    "Before feeding the data into a machine learning model (if we get there), we'll have several additional steps to add on to this process:\n",
    "1) We'll want to encode our categorical data so that we can use math on it\n",
    "2) We'll split our data into training, validation, and testing sets to ensure our model generalizes well to unseen data\n",
    "3) We'll have to handle outliers that can make overfitting our model a dangerous probability\n",
    "4) We'll scale our data around a common mean of `0` and a standard deviation of `1` so that all features contribute equally to the algorithm's output.\n",
    "\n",
    "### Bird's Eye View of CVE List\n",
    "Let's start with the CVE List, then traverse the CWEs, and finally, the full dataset once we've merged them."
   ]
  },
  {
   "cell_type": "code",
   "execution_count": 48,
   "id": "e6926b2f",
   "metadata": {},
   "outputs": [
    {
     "name": "stdout",
     "output_type": "stream",
     "text": [
      "<class 'pandas.core.frame.DataFrame'>\n",
      "RangeIndex: 260894 entries, 0 to 260893\n",
      "Data columns (total 9 columns):\n",
      " #   Column             Non-Null Count   Dtype  \n",
      "---  ------             --------------   -----  \n",
      " 0   cve_id             260894 non-null  object \n",
      " 1   cwe_id             58852 non-null   object \n",
      " 2   cve_state          260894 non-null  object \n",
      " 3   date_published     257370 non-null  object \n",
      " 4   description        246505 non-null  object \n",
      " 5   severity           65617 non-null   object \n",
      " 6   severity_score     65742 non-null   float64\n",
      " 7   attack_vector      52410 non-null   object \n",
      " 8   attack_complexity  52431 non-null   object \n",
      "dtypes: float64(1), object(8)\n",
      "memory usage: 17.9+ MB\n"
     ]
    },
    {
     "data": {
      "text/html": [
       "<div>\n",
       "<style scoped>\n",
       "    .dataframe tbody tr th:only-of-type {\n",
       "        vertical-align: middle;\n",
       "    }\n",
       "\n",
       "    .dataframe tbody tr th {\n",
       "        vertical-align: top;\n",
       "    }\n",
       "\n",
       "    .dataframe thead th {\n",
       "        text-align: right;\n",
       "    }\n",
       "</style>\n",
       "<table border=\"1\" class=\"dataframe\">\n",
       "  <thead>\n",
       "    <tr style=\"text-align: right;\">\n",
       "      <th></th>\n",
       "      <th>severity_score</th>\n",
       "    </tr>\n",
       "  </thead>\n",
       "  <tbody>\n",
       "    <tr>\n",
       "      <th>count</th>\n",
       "      <td>65742.000000</td>\n",
       "    </tr>\n",
       "    <tr>\n",
       "      <th>mean</th>\n",
       "      <td>6.631829</td>\n",
       "    </tr>\n",
       "    <tr>\n",
       "      <th>std</th>\n",
       "      <td>1.752317</td>\n",
       "    </tr>\n",
       "    <tr>\n",
       "      <th>min</th>\n",
       "      <td>0.000000</td>\n",
       "    </tr>\n",
       "    <tr>\n",
       "      <th>25%</th>\n",
       "      <td>5.400000</td>\n",
       "    </tr>\n",
       "    <tr>\n",
       "      <th>50%</th>\n",
       "      <td>6.500000</td>\n",
       "    </tr>\n",
       "    <tr>\n",
       "      <th>75%</th>\n",
       "      <td>7.800000</td>\n",
       "    </tr>\n",
       "    <tr>\n",
       "      <th>max</th>\n",
       "      <td>10.000000</td>\n",
       "    </tr>\n",
       "  </tbody>\n",
       "</table>\n",
       "</div>"
      ],
      "text/plain": [
       "       severity_score\n",
       "count    65742.000000\n",
       "mean         6.631829\n",
       "std          1.752317\n",
       "min          0.000000\n",
       "25%          5.400000\n",
       "50%          6.500000\n",
       "75%          7.800000\n",
       "max         10.000000"
      ]
     },
     "execution_count": 48,
     "metadata": {},
     "output_type": "execute_result"
    }
   ],
   "source": [
    "cves.info() # Overview of the size of the dataset, its null values in each column, and their datatypes\n",
    "cves.describe() # View summary stats of numerical attributes"
   ]
  },
  {
   "cell_type": "code",
   "execution_count": 49,
   "id": "3f61fadd",
   "metadata": {},
   "outputs": [
    {
     "data": {
      "text/plain": [
       "severity\n",
       "MEDIUM      31632\n",
       "HIGH        24219\n",
       "CRITICAL     5646\n",
       "LOW          4085\n",
       "NONE           33\n",
       "medium          1\n",
       "MODERATE        1\n",
       "Name: count, dtype: int64"
      ]
     },
     "execution_count": 49,
     "metadata": {},
     "output_type": "execute_result"
    }
   ],
   "source": [
    "cves['severity'].value_counts() # Types of severity"
   ]
  },
  {
   "cell_type": "code",
   "execution_count": 50,
   "id": "0637199a",
   "metadata": {},
   "outputs": [
    {
     "data": {
      "text/plain": [
       "attack_vector\n",
       "NETWORK             37346\n",
       "LOCAL               11747\n",
       "ADJACENT_NETWORK     2659\n",
       "PHYSICAL              614\n",
       "ADJACENT               44\n",
       "Name: count, dtype: int64"
      ]
     },
     "execution_count": 50,
     "metadata": {},
     "output_type": "execute_result"
    }
   ],
   "source": [
    "cves['attack_vector'].value_counts() # Types of attack vector"
   ]
  },
  {
   "cell_type": "code",
   "execution_count": 51,
   "id": "941becd9",
   "metadata": {},
   "outputs": [
    {
     "data": {
      "text/plain": [
       "attack_complexity\n",
       "LOW     43947\n",
       "HIGH     8484\n",
       "Name: count, dtype: int64"
      ]
     },
     "execution_count": 51,
     "metadata": {},
     "output_type": "execute_result"
    }
   ],
   "source": [
    "cves['attack_complexity'].value_counts() # Levels of attack complexity"
   ]
  },
  {
   "cell_type": "code",
   "execution_count": 52,
   "id": "a96f216e",
   "metadata": {},
   "outputs": [
    {
     "data": {
      "text/plain": [
       "count      58852\n",
       "unique       664\n",
       "top       CWE-79\n",
       "freq        8871\n",
       "Name: cwe_id, dtype: object"
      ]
     },
     "execution_count": 52,
     "metadata": {},
     "output_type": "execute_result"
    }
   ],
   "source": [
    "cves['cwe_id'].describe() # View summary stats of CWE IDs"
   ]
  },
  {
   "cell_type": "code",
   "execution_count": 53,
   "id": "135003f8",
   "metadata": {},
   "outputs": [
    {
     "data": {
      "text/plain": [
       "0              2000-02-04T05:00:00\n",
       "1              1999-09-29T04:00:00\n",
       "2              1999-09-29T04:00:00\n",
       "3              2000-02-04T05:00:00\n",
       "4              1999-09-29T04:00:00\n",
       "                    ...           \n",
       "260889    2024-08-20T23:31:03.646Z\n",
       "260890    2024-08-20T23:31:05.010Z\n",
       "260891    2024-08-21T20:20:26.856Z\n",
       "260892    2024-08-21T20:20:27.045Z\n",
       "260893    2024-08-21T20:20:27.239Z\n",
       "Name: date_published, Length: 260894, dtype: object"
      ]
     },
     "execution_count": 53,
     "metadata": {},
     "output_type": "execute_result"
    }
   ],
   "source": [
    "cves['date_published'] # View date formats"
   ]
  },
  {
   "cell_type": "code",
   "execution_count": 55,
   "id": "d6ef6df3",
   "metadata": {},
   "outputs": [
    {
     "data": {
      "text/plain": [
       "0         ip_input.c in BSD-derived TCP/IP implementatio...\n",
       "1         Buffer overflow in NFS mountd gives root acces...\n",
       "2         Execute commands as root via buffer overflow i...\n",
       "3         MIME buffer overflow in email clients, e.g. So...\n",
       "4         Arbitrary command execution via IMAP buffer ov...\n",
       "                                ...                        \n",
       "260889    A vulnerability was found in Genexis Tilgin Ho...\n",
       "260890    A vulnerability classified as critical has bee...\n",
       "260891    Inappropriate implementation in WebApp Install...\n",
       "260892    Inappropriate implementation in Custom Tabs in...\n",
       "260893    Inappropriate implementation in Extensions in ...\n",
       "Name: description, Length: 260894, dtype: object"
      ]
     },
     "execution_count": 55,
     "metadata": {},
     "output_type": "execute_result"
    }
   ],
   "source": [
    "cves['description']"
   ]
  },
  {
   "cell_type": "code",
   "execution_count": 28,
   "id": "50d3ceb7",
   "metadata": {},
   "outputs": [
    {
     "data": {
      "text/plain": [
       "cve_state\n",
       "PUBLISHED    246505\n",
       "REJECTED      14389\n",
       "Name: count, dtype: int64"
      ]
     },
     "execution_count": 28,
     "metadata": {},
     "output_type": "execute_result"
    }
   ],
   "source": [
    "cves['cve_state'].value_counts() # Types of state"
   ]
  },
  {
   "cell_type": "code",
   "execution_count": 42,
   "id": "8491c127",
   "metadata": {},
   "outputs": [
    {
     "data": {
      "text/html": [
       "<div>\n",
       "<style scoped>\n",
       "    .dataframe tbody tr th:only-of-type {\n",
       "        vertical-align: middle;\n",
       "    }\n",
       "\n",
       "    .dataframe tbody tr th {\n",
       "        vertical-align: top;\n",
       "    }\n",
       "\n",
       "    .dataframe thead th {\n",
       "        text-align: right;\n",
       "    }\n",
       "</style>\n",
       "<table border=\"1\" class=\"dataframe\">\n",
       "  <thead>\n",
       "    <tr style=\"text-align: right;\">\n",
       "      <th></th>\n",
       "      <th>cve_id</th>\n",
       "      <th>cwe_id</th>\n",
       "      <th>cve_state</th>\n",
       "      <th>date_published</th>\n",
       "      <th>description</th>\n",
       "      <th>severity</th>\n",
       "      <th>severity_score</th>\n",
       "      <th>attack_vector</th>\n",
       "      <th>attack_complexity</th>\n",
       "    </tr>\n",
       "  </thead>\n",
       "  <tbody>\n",
       "    <tr>\n",
       "      <th>19</th>\n",
       "      <td>CVE-1999-0020</td>\n",
       "      <td>NaN</td>\n",
       "      <td>REJECTED</td>\n",
       "      <td>2000-02-04T05:00:00</td>\n",
       "      <td>NaN</td>\n",
       "      <td>NaN</td>\n",
       "      <td>NaN</td>\n",
       "      <td>NaN</td>\n",
       "      <td>NaN</td>\n",
       "    </tr>\n",
       "    <tr>\n",
       "      <th>109</th>\n",
       "      <td>CVE-1999-0110</td>\n",
       "      <td>NaN</td>\n",
       "      <td>REJECTED</td>\n",
       "      <td>2000-02-04T05:00:00</td>\n",
       "      <td>NaN</td>\n",
       "      <td>NaN</td>\n",
       "      <td>NaN</td>\n",
       "      <td>NaN</td>\n",
       "      <td>NaN</td>\n",
       "    </tr>\n",
       "    <tr>\n",
       "      <th>186</th>\n",
       "      <td>CVE-1999-0187</td>\n",
       "      <td>NaN</td>\n",
       "      <td>REJECTED</td>\n",
       "      <td>2000-02-04T05:00:00</td>\n",
       "      <td>NaN</td>\n",
       "      <td>NaN</td>\n",
       "      <td>NaN</td>\n",
       "      <td>NaN</td>\n",
       "      <td>NaN</td>\n",
       "    </tr>\n",
       "    <tr>\n",
       "      <th>281</th>\n",
       "      <td>CVE-1999-0282</td>\n",
       "      <td>NaN</td>\n",
       "      <td>REJECTED</td>\n",
       "      <td>2000-02-04T05:00:00</td>\n",
       "      <td>NaN</td>\n",
       "      <td>NaN</td>\n",
       "      <td>NaN</td>\n",
       "      <td>NaN</td>\n",
       "      <td>NaN</td>\n",
       "    </tr>\n",
       "    <tr>\n",
       "      <th>334</th>\n",
       "      <td>CVE-1999-0335</td>\n",
       "      <td>NaN</td>\n",
       "      <td>REJECTED</td>\n",
       "      <td>1999-09-29T04:00:00</td>\n",
       "      <td>NaN</td>\n",
       "      <td>NaN</td>\n",
       "      <td>NaN</td>\n",
       "      <td>NaN</td>\n",
       "      <td>NaN</td>\n",
       "    </tr>\n",
       "  </tbody>\n",
       "</table>\n",
       "</div>"
      ],
      "text/plain": [
       "            cve_id cwe_id cve_state       date_published description severity  \\\n",
       "19   CVE-1999-0020    NaN  REJECTED  2000-02-04T05:00:00         NaN      NaN   \n",
       "109  CVE-1999-0110    NaN  REJECTED  2000-02-04T05:00:00         NaN      NaN   \n",
       "186  CVE-1999-0187    NaN  REJECTED  2000-02-04T05:00:00         NaN      NaN   \n",
       "281  CVE-1999-0282    NaN  REJECTED  2000-02-04T05:00:00         NaN      NaN   \n",
       "334  CVE-1999-0335    NaN  REJECTED  1999-09-29T04:00:00         NaN      NaN   \n",
       "\n",
       "     severity_score attack_vector attack_complexity  \n",
       "19              NaN           NaN               NaN  \n",
       "109             NaN           NaN               NaN  \n",
       "186             NaN           NaN               NaN  \n",
       "281             NaN           NaN               NaN  \n",
       "334             NaN           NaN               NaN  "
      ]
     },
     "execution_count": 42,
     "metadata": {},
     "output_type": "execute_result"
    }
   ],
   "source": [
    "cves[cves['cve_state'] == 'REJECTED'].head() # Rejected CVE IDs"
   ]
  },
  {
   "cell_type": "code",
   "execution_count": 30,
   "id": "aa2cd9d6",
   "metadata": {},
   "outputs": [
    {
     "data": {
      "text/plain": [
       "True"
      ]
     },
     "execution_count": 30,
     "metadata": {},
     "output_type": "execute_result"
    }
   ],
   "source": [
    "len(cves[cves['description'].isna()]) == len(cves[cves['cve_state'] == 'REJECTED']) # Does the number of CVEs lacking a description exactly match the number of rejected CVEs?"
   ]
  },
  {
   "cell_type": "markdown",
   "id": "2a9a8ea5",
   "metadata": {},
   "source": [
    "From the looks of it, every record has an ID, a published date, and a state, though some $14000$ have been rejected, because of this contain no other useful information, and can be dropped entirely from the table. The publish date will be converted to a proper datetime format. Every published record has a description. The severity scores are already the proper numerical data type, but their categorical counterparts contain multiple levels of `MEDIUM` (`medium` and `MODERATE`) which, based on the [NVD-documented categories](https://nvd.nist.gov/vuln-metrics/cvss), will be need to be addressed.\n",
    "\n",
    "### Dropping Unnecessary Information"
   ]
  },
  {
   "cell_type": "code",
   "execution_count": 63,
   "id": "109bfab8",
   "metadata": {},
   "outputs": [
    {
     "data": {
      "text/plain": [
       "cve_state\n",
       "PUBLISHED    246505\n",
       "Name: count, dtype: int64"
      ]
     },
     "execution_count": 63,
     "metadata": {},
     "output_type": "execute_result"
    }
   ],
   "source": [
    "# Drop rejected CVEs\n",
    "cves = cves.drop(cves[cves['cve_state'] == 'REJECTED'].index)\n",
    "cves['cve_state'].value_counts()"
   ]
  },
  {
   "cell_type": "markdown",
   "id": "5006f775",
   "metadata": {},
   "source": [
    "### Correcting Data Types"
   ]
  },
  {
   "cell_type": "code",
   "execution_count": 74,
   "id": "838380a6",
   "metadata": {},
   "outputs": [
    {
     "name": "stdout",
     "output_type": "stream",
     "text": [
      "<class 'pandas.core.frame.DataFrame'>\n",
      "Index: 246505 entries, 0 to 260893\n",
      "Data columns (total 9 columns):\n",
      " #   Column             Non-Null Count   Dtype              \n",
      "---  ------             --------------   -----              \n",
      " 0   cve_id             246505 non-null  string             \n",
      " 1   cwe_id             58852 non-null   string             \n",
      " 2   cve_state          246505 non-null  string             \n",
      " 3   date_published     245989 non-null  datetime64[ns, UTC]\n",
      " 4   description        246505 non-null  string             \n",
      " 5   severity           65617 non-null   string             \n",
      " 6   severity_score     65742 non-null   float64            \n",
      " 7   attack_vector      52410 non-null   string             \n",
      " 8   attack_complexity  52431 non-null   string             \n",
      "dtypes: datetime64[ns, UTC](1), float64(1), string(7)\n",
      "memory usage: 18.8 MB\n"
     ]
    }
   ],
   "source": [
    "# Convert publication date to datetime format\n",
    "cves['date_published'] = pd.to_datetime(cves['date_published'], format='ISO8601', utc=True)\n",
    "\n",
    "# Convert objects to text data (string)\n",
    "obj_cols = cves.select_dtypes(include=['object']).columns\n",
    "cves[obj_cols] = cves[obj_cols].astype('string')\n",
    "\n",
    "cves.info()"
   ]
  },
  {
   "cell_type": "markdown",
   "id": "48ba58c7",
   "metadata": {},
   "source": [
    "### Standardizing Formatting"
   ]
  },
  {
   "cell_type": "code",
   "execution_count": 70,
   "id": "b25ec80a",
   "metadata": {},
   "outputs": [
    {
     "data": {
      "text/plain": [
       "severity\n",
       "MEDIUM      31634\n",
       "HIGH        24219\n",
       "CRITICAL     5646\n",
       "LOW          4085\n",
       "NONE           33\n",
       "Name: count, dtype: int64"
      ]
     },
     "execution_count": 70,
     "metadata": {},
     "output_type": "execute_result"
    }
   ],
   "source": [
    "# Standardize severity scores\n",
    "cves['severity'] = cves['severity'].replace(['medium', 'MODERATE'], 'MEDIUM')\n",
    "cves['severity'].value_counts()"
   ]
  },
  {
   "cell_type": "code",
   "execution_count": 84,
   "id": "dc30906a",
   "metadata": {},
   "outputs": [
    {
     "name": "stdout",
     "output_type": "stream",
     "text": [
      "Column 'cve_id' has 0 trimmable whitespace characters.\n",
      "Column 'cwe_id' has 0 trimmable whitespace characters.\n",
      "Column 'cve_state' has 0 trimmable whitespace characters.\n",
      "Column 'description' has 0 trimmable whitespace characters.\n",
      "Column 'severity' has 0 trimmable whitespace characters.\n",
      "Column 'attack_vector' has 0 trimmable whitespace characters.\n",
      "Column 'attack_complexity' has 0 trimmable whitespace characters.\n"
     ]
    }
   ],
   "source": [
    "# Check for leading or trailing whitespace\n",
    "str_cols = cves.select_dtypes(include=['string']).columns\n",
    "\n",
    "def check_whitespace():\n",
    "    for col in str_cols:\n",
    "        trimmable = cves[col].str.contains(r'^\\s|\\s$', regex=True).sum()\n",
    "        print(f\"Column '{col}' has {trimmable} trimmable whitespace characters.\")\n",
    "\n",
    "# Remove leading or trailing whitespace\n",
    "cves[str_cols] = cves[str_cols].apply(lambda x: x.str.strip())\n",
    "\n",
    "check_whitespace()"
   ]
  },
  {
   "cell_type": "markdown",
   "id": "5433cbf8",
   "metadata": {},
   "source": [
    "### Removing Duplicates"
   ]
  },
  {
   "cell_type": "code",
   "execution_count": 71,
   "id": "20df803e",
   "metadata": {},
   "outputs": [
    {
     "data": {
      "text/plain": [
       "0"
      ]
     },
     "execution_count": 71,
     "metadata": {},
     "output_type": "execute_result"
    }
   ],
   "source": [
    "# Check for duplicates\n",
    "cves.duplicated().sum()"
   ]
  },
  {
   "cell_type": "markdown",
   "id": "f6e841f6",
   "metadata": {},
   "source": [
    "### Bird's Eye View of CWE List\n",
    "We still have to handle null values in the CVE list, but since we'll be populating it with data from the CWE list during the merge, we can apply the same techniques to clean our second dataset. Once they've been merged, we'll filter out or impute the null values depending on what works best for the analysis.\n",
    "\n",
    "We'll want to figure out the same basic facts about the CWE list that we did for the CVE list."
   ]
  },
  {
   "cell_type": "code",
   "execution_count": 89,
   "id": "1008fb4e",
   "metadata": {},
   "outputs": [
    {
     "name": "stdout",
     "output_type": "stream",
     "text": [
      "<class 'pandas.core.frame.DataFrame'>\n",
      "RangeIndex: 964 entries, 0 to 963\n",
      "Data columns (total 22 columns):\n",
      " #   Column                    Non-Null Count  Dtype \n",
      "---  ------                    --------------  ----- \n",
      " 0   cwe_id                    964 non-null    int64 \n",
      " 1   name                      964 non-null    object\n",
      " 2   description               964 non-null    object\n",
      " 3   tech_class                172 non-null    object\n",
      " 4   bg_details                45 non-null     object\n",
      " 5   rel_ids                   964 non-null    object\n",
      " 6   nature_of_rels            964 non-null    object\n",
      " 7   modes_of_intro_phases     964 non-null    object\n",
      " 8   modes_of_intro_descs      964 non-null    object\n",
      " 9   likelihood                185 non-null    object\n",
      " 10  scope_of_consequences     964 non-null    object\n",
      " 11  impact_of_consequences    964 non-null    object\n",
      " 12  consequence_notes         964 non-null    object\n",
      " 13  detection_method          964 non-null    object\n",
      " 14  detection_desc            964 non-null    object\n",
      " 15  detection_effectiveness   964 non-null    object\n",
      " 16  mitigation_phases         957 non-null    object\n",
      " 17  mitigation_descs          964 non-null    object\n",
      " 18  mitigation_effectiveness  964 non-null    object\n",
      " 19  mitigate_notes            964 non-null    object\n",
      " 20  observed_vulnerabilities  964 non-null    object\n",
      " 21  vulnerability_descs       964 non-null    object\n",
      "dtypes: int64(1), object(21)\n",
      "memory usage: 165.8+ KB\n"
     ]
    },
    {
     "data": {
      "text/html": [
       "<div>\n",
       "<style scoped>\n",
       "    .dataframe tbody tr th:only-of-type {\n",
       "        vertical-align: middle;\n",
       "    }\n",
       "\n",
       "    .dataframe tbody tr th {\n",
       "        vertical-align: top;\n",
       "    }\n",
       "\n",
       "    .dataframe thead th {\n",
       "        text-align: right;\n",
       "    }\n",
       "</style>\n",
       "<table border=\"1\" class=\"dataframe\">\n",
       "  <thead>\n",
       "    <tr style=\"text-align: right;\">\n",
       "      <th></th>\n",
       "      <th>cwe_id</th>\n",
       "      <th>name</th>\n",
       "      <th>description</th>\n",
       "      <th>tech_class</th>\n",
       "      <th>bg_details</th>\n",
       "      <th>rel_ids</th>\n",
       "      <th>nature_of_rels</th>\n",
       "      <th>modes_of_intro_phases</th>\n",
       "      <th>modes_of_intro_descs</th>\n",
       "      <th>likelihood</th>\n",
       "      <th>...</th>\n",
       "      <th>consequence_notes</th>\n",
       "      <th>detection_method</th>\n",
       "      <th>detection_desc</th>\n",
       "      <th>detection_effectiveness</th>\n",
       "      <th>mitigation_phases</th>\n",
       "      <th>mitigation_descs</th>\n",
       "      <th>mitigation_effectiveness</th>\n",
       "      <th>mitigate_notes</th>\n",
       "      <th>observed_vulnerabilities</th>\n",
       "      <th>vulnerability_descs</th>\n",
       "    </tr>\n",
       "  </thead>\n",
       "  <tbody>\n",
       "    <tr>\n",
       "      <th>0</th>\n",
       "      <td>1004</td>\n",
       "      <td>Sensitive Cookie Without 'HttpOnly' Flag</td>\n",
       "      <td>The product uses a cookie to store sensitive i...</td>\n",
       "      <td>Web Based</td>\n",
       "      <td>An HTTP cookie is a small piece of data attrib...</td>\n",
       "      <td>['732']</td>\n",
       "      <td>['ChildOf']</td>\n",
       "      <td>['Implementation']</td>\n",
       "      <td>['']</td>\n",
       "      <td>Medium</td>\n",
       "      <td>...</td>\n",
       "      <td>['If the HttpOnly flag is not set, then sensit...</td>\n",
       "      <td>['Automated Static Analysis']</td>\n",
       "      <td>['Automated static analysis, commonly referred...</td>\n",
       "      <td>['High']</td>\n",
       "      <td>Implementation</td>\n",
       "      <td>['Leverage the HttpOnly flag when setting a se...</td>\n",
       "      <td>['High']</td>\n",
       "      <td>[\"While this mitigation is effective for prote...</td>\n",
       "      <td>['CVE-2022-24045', 'CVE-2014-3852', 'CVE-2015-...</td>\n",
       "      <td>['Web application for a room automation system...</td>\n",
       "    </tr>\n",
       "    <tr>\n",
       "      <th>1</th>\n",
       "      <td>1007</td>\n",
       "      <td>Insufficient Visual Distinction of Homoglyphs ...</td>\n",
       "      <td>The product displays information or identifier...</td>\n",
       "      <td>Web Based</td>\n",
       "      <td>NaN</td>\n",
       "      <td>['451']</td>\n",
       "      <td>['ChildOf']</td>\n",
       "      <td>['Architecture and Design', 'Implementation']</td>\n",
       "      <td>['This weakness may occur when characters from...</td>\n",
       "      <td>Medium</td>\n",
       "      <td>...</td>\n",
       "      <td>[\"An attacker may ultimately redirect a user t...</td>\n",
       "      <td>['Manual Dynamic Analysis']</td>\n",
       "      <td>['If utilizing user accounts, attempt to submi...</td>\n",
       "      <td>['Moderate']</td>\n",
       "      <td>Implementation</td>\n",
       "      <td>[' Use a browser that displays Punycode for ID...</td>\n",
       "      <td>['', '']</td>\n",
       "      <td>['', '']</td>\n",
       "      <td>['CVE-2013-7236', 'CVE-2012-0584', 'CVE-2009-0...</td>\n",
       "      <td>['web forum allows impersonation of users with...</td>\n",
       "    </tr>\n",
       "    <tr>\n",
       "      <th>2</th>\n",
       "      <td>102</td>\n",
       "      <td>Struts: Duplicate Validation Forms</td>\n",
       "      <td>The product uses multiple validation forms wit...</td>\n",
       "      <td>NaN</td>\n",
       "      <td>NaN</td>\n",
       "      <td>['694', '1173', '20']</td>\n",
       "      <td>['ChildOf', 'ChildOf', 'ChildOf']</td>\n",
       "      <td>['Implementation']</td>\n",
       "      <td>['']</td>\n",
       "      <td>NaN</td>\n",
       "      <td>...</td>\n",
       "      <td>['']</td>\n",
       "      <td>[]</td>\n",
       "      <td>[]</td>\n",
       "      <td>[]</td>\n",
       "      <td>Implementation</td>\n",
       "      <td>['The DTD or schema validation will not catch ...</td>\n",
       "      <td>['']</td>\n",
       "      <td>['']</td>\n",
       "      <td>[]</td>\n",
       "      <td>[]</td>\n",
       "    </tr>\n",
       "    <tr>\n",
       "      <th>3</th>\n",
       "      <td>1021</td>\n",
       "      <td>Improper Restriction of Rendered UI Layers or ...</td>\n",
       "      <td>The web application does not restrict or incor...</td>\n",
       "      <td>Web Based</td>\n",
       "      <td>NaN</td>\n",
       "      <td>['441', '610', '451']</td>\n",
       "      <td>['ChildOf', 'ChildOf', 'ChildOf']</td>\n",
       "      <td>['Implementation']</td>\n",
       "      <td>['']</td>\n",
       "      <td>NaN</td>\n",
       "      <td>...</td>\n",
       "      <td>[\"An attacker can trick a user into performing...</td>\n",
       "      <td>['Automated Static Analysis']</td>\n",
       "      <td>['Automated static analysis, commonly referred...</td>\n",
       "      <td>['High']</td>\n",
       "      <td>Implementation</td>\n",
       "      <td>[' The use of X-Frame-Options allows developer...</td>\n",
       "      <td>['', '', '']</td>\n",
       "      <td>['', '', '']</td>\n",
       "      <td>['CVE-2017-7440', 'CVE-2017-5697', 'CVE-2017-4...</td>\n",
       "      <td>['E-mail preview feature in a desktop applicat...</td>\n",
       "    </tr>\n",
       "    <tr>\n",
       "      <th>4</th>\n",
       "      <td>1022</td>\n",
       "      <td>Use of Web Link to Untrusted Target with windo...</td>\n",
       "      <td>The web application produces links to untruste...</td>\n",
       "      <td>Web Based</td>\n",
       "      <td>NaN</td>\n",
       "      <td>['266']</td>\n",
       "      <td>['ChildOf']</td>\n",
       "      <td>['Architecture and Design', 'Implementation']</td>\n",
       "      <td>['This weakness is introduced during the desig...</td>\n",
       "      <td>Medium</td>\n",
       "      <td>...</td>\n",
       "      <td>['The user may be redirected to an untrusted p...</td>\n",
       "      <td>['Automated Static Analysis']</td>\n",
       "      <td>['Automated static analysis, commonly referred...</td>\n",
       "      <td>['High']</td>\n",
       "      <td>Implementation</td>\n",
       "      <td>['Specify in the design that any linked extern...</td>\n",
       "      <td>['', '', '']</td>\n",
       "      <td>['', '', '']</td>\n",
       "      <td>['CVE-2022-4927']</td>\n",
       "      <td>['Library software does not use rel: \"noopener...</td>\n",
       "    </tr>\n",
       "  </tbody>\n",
       "</table>\n",
       "<p>5 rows × 22 columns</p>\n",
       "</div>"
      ],
      "text/plain": [
       "   cwe_id                                               name  \\\n",
       "0    1004           Sensitive Cookie Without 'HttpOnly' Flag   \n",
       "1    1007  Insufficient Visual Distinction of Homoglyphs ...   \n",
       "2     102                 Struts: Duplicate Validation Forms   \n",
       "3    1021  Improper Restriction of Rendered UI Layers or ...   \n",
       "4    1022  Use of Web Link to Untrusted Target with windo...   \n",
       "\n",
       "                                         description tech_class  \\\n",
       "0  The product uses a cookie to store sensitive i...  Web Based   \n",
       "1  The product displays information or identifier...  Web Based   \n",
       "2  The product uses multiple validation forms wit...        NaN   \n",
       "3  The web application does not restrict or incor...  Web Based   \n",
       "4  The web application produces links to untruste...  Web Based   \n",
       "\n",
       "                                          bg_details                rel_ids  \\\n",
       "0  An HTTP cookie is a small piece of data attrib...                ['732']   \n",
       "1                                                NaN                ['451']   \n",
       "2                                                NaN  ['694', '1173', '20']   \n",
       "3                                                NaN  ['441', '610', '451']   \n",
       "4                                                NaN                ['266']   \n",
       "\n",
       "                      nature_of_rels  \\\n",
       "0                        ['ChildOf']   \n",
       "1                        ['ChildOf']   \n",
       "2  ['ChildOf', 'ChildOf', 'ChildOf']   \n",
       "3  ['ChildOf', 'ChildOf', 'ChildOf']   \n",
       "4                        ['ChildOf']   \n",
       "\n",
       "                           modes_of_intro_phases  \\\n",
       "0                             ['Implementation']   \n",
       "1  ['Architecture and Design', 'Implementation']   \n",
       "2                             ['Implementation']   \n",
       "3                             ['Implementation']   \n",
       "4  ['Architecture and Design', 'Implementation']   \n",
       "\n",
       "                                modes_of_intro_descs likelihood  ...  \\\n",
       "0                                               ['']     Medium  ...   \n",
       "1  ['This weakness may occur when characters from...     Medium  ...   \n",
       "2                                               ['']        NaN  ...   \n",
       "3                                               ['']        NaN  ...   \n",
       "4  ['This weakness is introduced during the desig...     Medium  ...   \n",
       "\n",
       "                                   consequence_notes  \\\n",
       "0  ['If the HttpOnly flag is not set, then sensit...   \n",
       "1  [\"An attacker may ultimately redirect a user t...   \n",
       "2                                               ['']   \n",
       "3  [\"An attacker can trick a user into performing...   \n",
       "4  ['The user may be redirected to an untrusted p...   \n",
       "\n",
       "                detection_method  \\\n",
       "0  ['Automated Static Analysis']   \n",
       "1    ['Manual Dynamic Analysis']   \n",
       "2                             []   \n",
       "3  ['Automated Static Analysis']   \n",
       "4  ['Automated Static Analysis']   \n",
       "\n",
       "                                      detection_desc detection_effectiveness  \\\n",
       "0  ['Automated static analysis, commonly referred...                ['High']   \n",
       "1  ['If utilizing user accounts, attempt to submi...            ['Moderate']   \n",
       "2                                                 []                      []   \n",
       "3  ['Automated static analysis, commonly referred...                ['High']   \n",
       "4  ['Automated static analysis, commonly referred...                ['High']   \n",
       "\n",
       "  mitigation_phases                                   mitigation_descs  \\\n",
       "0    Implementation  ['Leverage the HttpOnly flag when setting a se...   \n",
       "1    Implementation  [' Use a browser that displays Punycode for ID...   \n",
       "2    Implementation  ['The DTD or schema validation will not catch ...   \n",
       "3    Implementation  [' The use of X-Frame-Options allows developer...   \n",
       "4    Implementation  ['Specify in the design that any linked extern...   \n",
       "\n",
       "  mitigation_effectiveness                                     mitigate_notes  \\\n",
       "0                 ['High']  [\"While this mitigation is effective for prote...   \n",
       "1                 ['', '']                                           ['', '']   \n",
       "2                     ['']                                               ['']   \n",
       "3             ['', '', '']                                       ['', '', '']   \n",
       "4             ['', '', '']                                       ['', '', '']   \n",
       "\n",
       "                            observed_vulnerabilities  \\\n",
       "0  ['CVE-2022-24045', 'CVE-2014-3852', 'CVE-2015-...   \n",
       "1  ['CVE-2013-7236', 'CVE-2012-0584', 'CVE-2009-0...   \n",
       "2                                                 []   \n",
       "3  ['CVE-2017-7440', 'CVE-2017-5697', 'CVE-2017-4...   \n",
       "4                                  ['CVE-2022-4927']   \n",
       "\n",
       "                                 vulnerability_descs  \n",
       "0  ['Web application for a room automation system...  \n",
       "1  ['web forum allows impersonation of users with...  \n",
       "2                                                 []  \n",
       "3  ['E-mail preview feature in a desktop applicat...  \n",
       "4  ['Library software does not use rel: \"noopener...  \n",
       "\n",
       "[5 rows x 22 columns]"
      ]
     },
     "execution_count": 89,
     "metadata": {},
     "output_type": "execute_result"
    }
   ],
   "source": [
    "cwes.info() # Overview of the size of the dataset, its null values in each column, and their datatypes\n",
    "cwes.head()"
   ]
  },
  {
   "cell_type": "code",
   "execution_count": 93,
   "id": "b83d6dec",
   "metadata": {},
   "outputs": [
    {
     "data": {
      "text/html": [
       "<div>\n",
       "<style scoped>\n",
       "    .dataframe tbody tr th:only-of-type {\n",
       "        vertical-align: middle;\n",
       "    }\n",
       "\n",
       "    .dataframe tbody tr th {\n",
       "        vertical-align: top;\n",
       "    }\n",
       "\n",
       "    .dataframe thead th {\n",
       "        text-align: right;\n",
       "    }\n",
       "</style>\n",
       "<table border=\"1\" class=\"dataframe\">\n",
       "  <thead>\n",
       "    <tr style=\"text-align: right;\">\n",
       "      <th></th>\n",
       "      <th>cve_id</th>\n",
       "      <th>cwe_id</th>\n",
       "      <th>cve_state</th>\n",
       "      <th>date_published</th>\n",
       "      <th>description</th>\n",
       "      <th>severity</th>\n",
       "      <th>severity_score</th>\n",
       "      <th>attack_vector</th>\n",
       "      <th>attack_complexity</th>\n",
       "    </tr>\n",
       "  </thead>\n",
       "  <tbody>\n",
       "    <tr>\n",
       "      <th>105930</th>\n",
       "      <td>CVE-2017-5697</td>\n",
       "      <td>&lt;NA&gt;</td>\n",
       "      <td>PUBLISHED</td>\n",
       "      <td>2017-06-14 12:00:00+00:00</td>\n",
       "      <td>Insufficient clickjacking protection in the We...</td>\n",
       "      <td>&lt;NA&gt;</td>\n",
       "      <td>NaN</td>\n",
       "      <td>&lt;NA&gt;</td>\n",
       "      <td>&lt;NA&gt;</td>\n",
       "    </tr>\n",
       "  </tbody>\n",
       "</table>\n",
       "</div>"
      ],
      "text/plain": [
       "               cve_id cwe_id  cve_state            date_published  \\\n",
       "105930  CVE-2017-5697   <NA>  PUBLISHED 2017-06-14 12:00:00+00:00   \n",
       "\n",
       "                                              description severity  \\\n",
       "105930  Insufficient clickjacking protection in the We...     <NA>   \n",
       "\n",
       "        severity_score attack_vector attack_complexity  \n",
       "105930             NaN          <NA>              <NA>  "
      ]
     },
     "execution_count": 93,
     "metadata": {},
     "output_type": "execute_result"
    }
   ],
   "source": [
    "cves[cves['cve_id'] == 'CVE-2017-5697']"
   ]
  }
 ],
 "metadata": {
  "kernelspec": {
   "display_name": "Python 3 (ipykernel)",
   "language": "python",
   "name": "python3"
  },
  "language_info": {
   "codemirror_mode": {
    "name": "ipython",
    "version": 3
   },
   "file_extension": ".py",
   "mimetype": "text/x-python",
   "name": "python",
   "nbconvert_exporter": "python",
   "pygments_lexer": "ipython3",
   "version": "3.10.13"
  }
 },
 "nbformat": 4,
 "nbformat_minor": 5
}
