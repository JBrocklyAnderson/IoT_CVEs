{
 "cells": [
  {
   "cell_type": "markdown",
   "metadata": {},
   "source": [
    "# Working with Known IoT-Related CVES: A New Direction\n",
    "This notebook is dedicated to cleaning up the MITRE list of known IoT-related CVEs, creating a dataframe from nation-state attack data, and merging both of these with a cleaned-up version of the CVE data agregated in the `APT_IoT_CVE_EDA` notebook. The resulting dataset is then saved to both CSV and parquet file types for easy reading/preprocessing."
   ]
  },
  {
   "cell_type": "code",
   "execution_count": 1,
   "metadata": {},
   "outputs": [],
   "source": [
    "import pandas as pd\n",
    "import numpy as np\n",
    "import matplotlib.pyplot as plt\n",
    "import seaborn as sns"
   ]
  },
  {
   "cell_type": "code",
   "execution_count": 2,
   "metadata": {},
   "outputs": [
    {
     "name": "stdout",
     "output_type": "stream",
     "text": [
      "The MITRE IoT CVEs Excel spreadsheet has the following sheets: ['2024 IoT CVEs', '2020-2024 CVEs', '2019-2024 CVEs']\n"
     ]
    }
   ],
   "source": [
    "sheet_names = pd.ExcelFile('../data/MITRE/MITRE_2024_IoT_CVEs.xlsx').sheet_names\n",
    "print(f'The MITRE IoT CVEs Excel spreadsheet has the following sheets: {sheet_names}')"
   ]
  },
  {
   "cell_type": "code",
   "execution_count": 3,
   "metadata": {},
   "outputs": [],
   "source": [
    "df2019_2024 = pd.read_excel('../data/MITRE/MITRE_2024_IoT_CVEs.xlsx', sheet_name='2019-2024 CVEs')"
   ]
  },
  {
   "cell_type": "code",
   "execution_count": 4,
   "metadata": {},
   "outputs": [],
   "source": [
    "df2020_2024 = pd.read_excel('../data/MITRE/MITRE_2024_IoT_CVEs.xlsx', sheet_name='2020-2024 CVEs')"
   ]
  },
  {
   "cell_type": "code",
   "execution_count": 5,
   "metadata": {},
   "outputs": [],
   "source": [
    "df2024 = pd.read_excel('../data/MITRE/MITRE_2024_IoT_CVEs.xlsx', sheet_name='2024 IoT CVEs')"
   ]
  },
  {
   "cell_type": "code",
   "execution_count": 6,
   "metadata": {},
   "outputs": [
    {
     "name": "stdout",
     "output_type": "stream",
     "text": [
      "\"2019-2024 CVES\" has 1088 rows and 2 columns.\n",
      "\"2020-2024 CVES\" has 714 rows and 2 columns.\n",
      "\"2024 IoT CVES\" has 24 rows and 2 columns.\n"
     ]
    }
   ],
   "source": [
    "def shape_of(name, df):\n",
    "    rows = len(df)\n",
    "    cols = len(df.columns)\n",
    "    print(f'\"{name}\" has {rows} rows and {cols} columns.')\n",
    "\n",
    "shape_of('2019-2024 CVES', df2019_2024)\n",
    "shape_of('2020-2024 CVES', df2020_2024)\n",
    "shape_of('2024 IoT CVES', df2024)"
   ]
  },
  {
   "cell_type": "code",
   "execution_count": 7,
   "metadata": {},
   "outputs": [
    {
     "data": {
      "text/html": [
       "<div>\n",
       "<style scoped>\n",
       "    .dataframe tbody tr th:only-of-type {\n",
       "        vertical-align: middle;\n",
       "    }\n",
       "\n",
       "    .dataframe tbody tr th {\n",
       "        vertical-align: top;\n",
       "    }\n",
       "\n",
       "    .dataframe thead th {\n",
       "        text-align: right;\n",
       "    }\n",
       "</style>\n",
       "<table border=\"1\" class=\"dataframe\">\n",
       "  <thead>\n",
       "    <tr style=\"text-align: right;\">\n",
       "      <th></th>\n",
       "      <th>CVE-2024-38089</th>\n",
       "      <th>Microsoft Defender for IoT Elevation of Privilege Vulnerability</th>\n",
       "    </tr>\n",
       "  </thead>\n",
       "  <tbody>\n",
       "    <tr>\n",
       "      <th>0</th>\n",
       "      <td>CVE-2024-29195</td>\n",
       "      <td>The azure-c-shared-utility is a C library for ...</td>\n",
       "    </tr>\n",
       "    <tr>\n",
       "      <th>1</th>\n",
       "      <td>CVE-2024-29055</td>\n",
       "      <td>Microsoft Defender for IoT Elevation of Privil...</td>\n",
       "    </tr>\n",
       "    <tr>\n",
       "      <th>2</th>\n",
       "      <td>CVE-2024-29054</td>\n",
       "      <td>Microsoft Defender for IoT Elevation of Privil...</td>\n",
       "    </tr>\n",
       "  </tbody>\n",
       "</table>\n",
       "</div>"
      ],
      "text/plain": [
       "   CVE-2024-38089  \\\n",
       "0  CVE-2024-29195   \n",
       "1  CVE-2024-29055   \n",
       "2  CVE-2024-29054   \n",
       "\n",
       "  Microsoft Defender for IoT Elevation of Privilege Vulnerability  \n",
       "0  The azure-c-shared-utility is a C library for ...               \n",
       "1  Microsoft Defender for IoT Elevation of Privil...               \n",
       "2  Microsoft Defender for IoT Elevation of Privil...               "
      ]
     },
     "execution_count": 7,
     "metadata": {},
     "output_type": "execute_result"
    }
   ],
   "source": [
    "df2019_2024.head(3)"
   ]
  },
  {
   "cell_type": "code",
   "execution_count": 8,
   "metadata": {},
   "outputs": [
    {
     "data": {
      "text/html": [
       "<div>\n",
       "<style scoped>\n",
       "    .dataframe tbody tr th:only-of-type {\n",
       "        vertical-align: middle;\n",
       "    }\n",
       "\n",
       "    .dataframe tbody tr th {\n",
       "        vertical-align: top;\n",
       "    }\n",
       "\n",
       "    .dataframe thead th {\n",
       "        text-align: right;\n",
       "    }\n",
       "</style>\n",
       "<table border=\"1\" class=\"dataframe\">\n",
       "  <thead>\n",
       "    <tr style=\"text-align: right;\">\n",
       "      <th></th>\n",
       "      <th>CVE-2024-38089</th>\n",
       "      <th>Microsoft Defender for IoT Elevation of Privilege Vulnerability</th>\n",
       "    </tr>\n",
       "  </thead>\n",
       "  <tbody>\n",
       "    <tr>\n",
       "      <th>0</th>\n",
       "      <td>CVE-2024-29195</td>\n",
       "      <td>The azure-c-shared-utility is a C library for ...</td>\n",
       "    </tr>\n",
       "    <tr>\n",
       "      <th>1</th>\n",
       "      <td>CVE-2024-29055</td>\n",
       "      <td>Microsoft Defender for IoT Elevation of Privil...</td>\n",
       "    </tr>\n",
       "    <tr>\n",
       "      <th>2</th>\n",
       "      <td>CVE-2024-29054</td>\n",
       "      <td>Microsoft Defender for IoT Elevation of Privil...</td>\n",
       "    </tr>\n",
       "  </tbody>\n",
       "</table>\n",
       "</div>"
      ],
      "text/plain": [
       "   CVE-2024-38089  \\\n",
       "0  CVE-2024-29195   \n",
       "1  CVE-2024-29055   \n",
       "2  CVE-2024-29054   \n",
       "\n",
       "  Microsoft Defender for IoT Elevation of Privilege Vulnerability  \n",
       "0  The azure-c-shared-utility is a C library for ...               \n",
       "1  Microsoft Defender for IoT Elevation of Privil...               \n",
       "2  Microsoft Defender for IoT Elevation of Privil...               "
      ]
     },
     "execution_count": 8,
     "metadata": {},
     "output_type": "execute_result"
    }
   ],
   "source": [
    "df2020_2024.head(3)"
   ]
  },
  {
   "cell_type": "code",
   "execution_count": 9,
   "metadata": {},
   "outputs": [
    {
     "data": {
      "text/html": [
       "<div>\n",
       "<style scoped>\n",
       "    .dataframe tbody tr th:only-of-type {\n",
       "        vertical-align: middle;\n",
       "    }\n",
       "\n",
       "    .dataframe tbody tr th {\n",
       "        vertical-align: top;\n",
       "    }\n",
       "\n",
       "    .dataframe thead th {\n",
       "        text-align: right;\n",
       "    }\n",
       "</style>\n",
       "<table border=\"1\" class=\"dataframe\">\n",
       "  <thead>\n",
       "    <tr style=\"text-align: right;\">\n",
       "      <th></th>\n",
       "      <th>2024: MITRE - IoT CVEs</th>\n",
       "      <th>Unnamed: 1</th>\n",
       "    </tr>\n",
       "  </thead>\n",
       "  <tbody>\n",
       "    <tr>\n",
       "      <th>0</th>\n",
       "      <td>CVE-2024-38089</td>\n",
       "      <td>Microsoft Defender for IoT Elevation of Privil...</td>\n",
       "    </tr>\n",
       "    <tr>\n",
       "      <th>1</th>\n",
       "      <td>CVE-2024-29195</td>\n",
       "      <td>The azure-c-shared-utility is a C library for ...</td>\n",
       "    </tr>\n",
       "    <tr>\n",
       "      <th>2</th>\n",
       "      <td>CVE-2024-29055</td>\n",
       "      <td>Microsoft Defender for IoT Elevation of Privil...</td>\n",
       "    </tr>\n",
       "  </tbody>\n",
       "</table>\n",
       "</div>"
      ],
      "text/plain": [
       "  2024: MITRE - IoT CVEs                                         Unnamed: 1\n",
       "0         CVE-2024-38089  Microsoft Defender for IoT Elevation of Privil...\n",
       "1         CVE-2024-29195  The azure-c-shared-utility is a C library for ...\n",
       "2         CVE-2024-29055  Microsoft Defender for IoT Elevation of Privil..."
      ]
     },
     "execution_count": 9,
     "metadata": {},
     "output_type": "execute_result"
    }
   ],
   "source": [
    "df2024.head(3)"
   ]
  },
  {
   "cell_type": "markdown",
   "metadata": {},
   "source": [
    "The column names of these datasets are themselves observations. They'll have to be pushed down into the dataset and replaced with accurate column names."
   ]
  },
  {
   "cell_type": "code",
   "execution_count": 6,
   "metadata": {},
   "outputs": [],
   "source": [
    "def add_cols_as_obs(df):\n",
    "    current_col_names = df.columns.tolist() # Grab current column names\n",
    "    df.loc[-1] = current_col_names # Set the column names equal to a row\n",
    "    df.index = df.index + 1 # Shift the index\n",
    "    df = df.sort_index() # Sort the index\n",
    "    df = df.reset_index(drop=True)\n",
    "    return df\n",
    "\n",
    "df2019_2024 = add_cols_as_obs(df2019_2024)\n",
    "df2020_2024 = add_cols_as_obs(df2020_2024)"
   ]
  },
  {
   "cell_type": "code",
   "execution_count": 7,
   "metadata": {},
   "outputs": [],
   "source": [
    "# Rename columns names\n",
    "df2019_2024 = df2019_2024.rename(columns={\n",
    "    'CVE-2024-38089': 'cve_id',\n",
    "    'Microsoft Defender for IoT Elevation of Privilege Vulnerability': 'description'\n",
    "})\n",
    "\n",
    "df2020_2024 = df2020_2024.rename(columns={\n",
    "    'CVE-2024-38089': 'cve_id',\n",
    "    'Microsoft Defender for IoT Elevation of Privilege Vulnerability': 'description'\n",
    "})\n",
    "\n",
    "df2024 = df2024.rename(columns={\n",
    "    '2024: MITRE - IoT CVEs': 'cve_id',\n",
    "    'Unnamed: 1': 'description'\n",
    "})"
   ]
  },
  {
   "cell_type": "code",
   "execution_count": 15,
   "metadata": {},
   "outputs": [
    {
     "data": {
      "text/html": [
       "<div>\n",
       "<style scoped>\n",
       "    .dataframe tbody tr th:only-of-type {\n",
       "        vertical-align: middle;\n",
       "    }\n",
       "\n",
       "    .dataframe tbody tr th {\n",
       "        vertical-align: top;\n",
       "    }\n",
       "\n",
       "    .dataframe thead th {\n",
       "        text-align: right;\n",
       "    }\n",
       "</style>\n",
       "<table border=\"1\" class=\"dataframe\">\n",
       "  <thead>\n",
       "    <tr style=\"text-align: right;\">\n",
       "      <th></th>\n",
       "      <th>cve_id</th>\n",
       "      <th>description</th>\n",
       "    </tr>\n",
       "  </thead>\n",
       "  <tbody>\n",
       "    <tr>\n",
       "      <th>0</th>\n",
       "      <td>CVE-2024-38089</td>\n",
       "      <td>Microsoft Defender for IoT Elevation of Privil...</td>\n",
       "    </tr>\n",
       "    <tr>\n",
       "      <th>1</th>\n",
       "      <td>CVE-2024-29195</td>\n",
       "      <td>The azure-c-shared-utility is a C library for ...</td>\n",
       "    </tr>\n",
       "    <tr>\n",
       "      <th>2</th>\n",
       "      <td>CVE-2024-29055</td>\n",
       "      <td>Microsoft Defender for IoT Elevation of Privil...</td>\n",
       "    </tr>\n",
       "  </tbody>\n",
       "</table>\n",
       "</div>"
      ],
      "text/plain": [
       "           cve_id                                        description\n",
       "0  CVE-2024-38089  Microsoft Defender for IoT Elevation of Privil...\n",
       "1  CVE-2024-29195  The azure-c-shared-utility is a C library for ...\n",
       "2  CVE-2024-29055  Microsoft Defender for IoT Elevation of Privil..."
      ]
     },
     "execution_count": 15,
     "metadata": {},
     "output_type": "execute_result"
    }
   ],
   "source": [
    "df2019_2024.head(3)"
   ]
  },
  {
   "cell_type": "code",
   "execution_count": 13,
   "metadata": {},
   "outputs": [
    {
     "data": {
      "text/html": [
       "<div>\n",
       "<style scoped>\n",
       "    .dataframe tbody tr th:only-of-type {\n",
       "        vertical-align: middle;\n",
       "    }\n",
       "\n",
       "    .dataframe tbody tr th {\n",
       "        vertical-align: top;\n",
       "    }\n",
       "\n",
       "    .dataframe thead th {\n",
       "        text-align: right;\n",
       "    }\n",
       "</style>\n",
       "<table border=\"1\" class=\"dataframe\">\n",
       "  <thead>\n",
       "    <tr style=\"text-align: right;\">\n",
       "      <th></th>\n",
       "      <th>cve_id</th>\n",
       "      <th>description</th>\n",
       "    </tr>\n",
       "  </thead>\n",
       "  <tbody>\n",
       "    <tr>\n",
       "      <th>0</th>\n",
       "      <td>CVE-2024-38089</td>\n",
       "      <td>Microsoft Defender for IoT Elevation of Privil...</td>\n",
       "    </tr>\n",
       "    <tr>\n",
       "      <th>1</th>\n",
       "      <td>CVE-2024-29195</td>\n",
       "      <td>The azure-c-shared-utility is a C library for ...</td>\n",
       "    </tr>\n",
       "    <tr>\n",
       "      <th>2</th>\n",
       "      <td>CVE-2024-29055</td>\n",
       "      <td>Microsoft Defender for IoT Elevation of Privil...</td>\n",
       "    </tr>\n",
       "  </tbody>\n",
       "</table>\n",
       "</div>"
      ],
      "text/plain": [
       "           cve_id                                        description\n",
       "0  CVE-2024-38089  Microsoft Defender for IoT Elevation of Privil...\n",
       "1  CVE-2024-29195  The azure-c-shared-utility is a C library for ...\n",
       "2  CVE-2024-29055  Microsoft Defender for IoT Elevation of Privil..."
      ]
     },
     "execution_count": 13,
     "metadata": {},
     "output_type": "execute_result"
    }
   ],
   "source": [
    "df2020_2024.head(3)"
   ]
  },
  {
   "cell_type": "code",
   "execution_count": 14,
   "metadata": {},
   "outputs": [
    {
     "data": {
      "text/html": [
       "<div>\n",
       "<style scoped>\n",
       "    .dataframe tbody tr th:only-of-type {\n",
       "        vertical-align: middle;\n",
       "    }\n",
       "\n",
       "    .dataframe tbody tr th {\n",
       "        vertical-align: top;\n",
       "    }\n",
       "\n",
       "    .dataframe thead th {\n",
       "        text-align: right;\n",
       "    }\n",
       "</style>\n",
       "<table border=\"1\" class=\"dataframe\">\n",
       "  <thead>\n",
       "    <tr style=\"text-align: right;\">\n",
       "      <th></th>\n",
       "      <th>cve_id</th>\n",
       "      <th>description</th>\n",
       "    </tr>\n",
       "  </thead>\n",
       "  <tbody>\n",
       "    <tr>\n",
       "      <th>0</th>\n",
       "      <td>CVE-2024-38089</td>\n",
       "      <td>Microsoft Defender for IoT Elevation of Privil...</td>\n",
       "    </tr>\n",
       "    <tr>\n",
       "      <th>1</th>\n",
       "      <td>CVE-2024-29195</td>\n",
       "      <td>The azure-c-shared-utility is a C library for ...</td>\n",
       "    </tr>\n",
       "    <tr>\n",
       "      <th>2</th>\n",
       "      <td>CVE-2024-29055</td>\n",
       "      <td>Microsoft Defender for IoT Elevation of Privil...</td>\n",
       "    </tr>\n",
       "  </tbody>\n",
       "</table>\n",
       "</div>"
      ],
      "text/plain": [
       "           cve_id                                        description\n",
       "0  CVE-2024-38089  Microsoft Defender for IoT Elevation of Privil...\n",
       "1  CVE-2024-29195  The azure-c-shared-utility is a C library for ...\n",
       "2  CVE-2024-29055  Microsoft Defender for IoT Elevation of Privil..."
      ]
     },
     "execution_count": 14,
     "metadata": {},
     "output_type": "execute_result"
    }
   ],
   "source": [
    "df2024.head(3)"
   ]
  },
  {
   "cell_type": "code",
   "execution_count": 9,
   "metadata": {},
   "outputs": [
    {
     "name": "stdout",
     "output_type": "stream",
     "text": [
      "\"df2019-2024\" has 0 duplicate observations.\n",
      "\"df2020-2024\" has 0 duplicate observations.\n",
      "\"df2024\" has 0 duplicate observations.\n"
     ]
    }
   ],
   "source": [
    "print(f'\"df2019-2024\" has {df2019_2024.duplicated().sum()} duplicate observations.')\n",
    "print(f'\"df2020-2024\" has {df2020_2024.duplicated().sum()} duplicate observations.')\n",
    "print(f'\"df2024\" has {df2024.duplicated().sum()} duplicate observations.')"
   ]
  },
  {
   "cell_type": "code",
   "execution_count": 10,
   "metadata": {},
   "outputs": [
    {
     "name": "stdout",
     "output_type": "stream",
     "text": [
      "\"df2019-2024\" has [0, 0] null values.\n",
      "\"df2020-2024\" has [0, 0] null values.\n",
      "\"df2024\" has [0, 0] null values.\n"
     ]
    }
   ],
   "source": [
    "print(f'\"df2019-2024\" has {df2019_2024.isnull().sum().tolist()} null values.')\n",
    "print(f'\"df2020-2024\" has {df2020_2024.isnull().sum().tolist()} null values.')\n",
    "print(f'\"df2024\" has {df2024.isnull().sum().tolist()} null values.')"
   ]
  },
  {
   "cell_type": "code",
   "execution_count": 9,
   "metadata": {},
   "outputs": [
    {
     "name": "stdout",
     "output_type": "stream",
     "text": [
      "All observations in \"df2020_2024\" appear in df2019_2024: True\n",
      "All observations in \"df2024\" appear in df2020_2024: True\n"
     ]
    }
   ],
   "source": [
    "# Check whether the smaller datasets exist in the larger datasets\n",
    "df2019_2024_set = set([tuple(row) for row in df2019_2024.values])\n",
    "df2020_2024_set = set([tuple(row) for row in df2020_2024.values])\n",
    "df2024_set = set([tuple(row) for row in df2024.values])\n",
    "\n",
    "print(f'All observations in \"df2020_2024\" appear in df2019_2024: {df2020_2024_set.issubset(df2019_2024_set)}')\n",
    "print(f'All observations in \"df2024\" appear in df2020_2024: {df2024_set.issubset(df2020_2024_set)}')"
   ]
  },
  {
   "cell_type": "markdown",
   "metadata": {},
   "source": [
    "All of the observations in `df2024` exist in `df2020_2024` and all of those observations exist in `df2019_2024`, so we'll use the largest dataset.\n",
    "\n",
    "## Nation-State Attack Data\n",
    "Next, I'll create a dataset from the nation-state attack information we've consolidated. We can then concatenate these two dataframes together."
   ]
  },
  {
   "cell_type": "code",
   "execution_count": 8,
   "metadata": {},
   "outputs": [],
   "source": [
    "# Create nation-state attack dataframe\n",
    "nsa = {\n",
    "    'attack': [\n",
    "        'Mirai Botnet',\n",
    "        'VPNFilter',\n",
    "        'Triton/Trisis',\n",
    "        'Iranian Cyberattacks on Water Systems',\n",
    "        'Iranian APT Exploits on Fortinet Vulnerabilities',\n",
    "        'Operation Shadowhammer',\n",
    "        'Ripple20 Vulnerabilities',\n",
    "        'Dragonfly/Energetic Bear Campaign 1',\n",
    "        'Dragonfly/Energetic Bear Campaign 2',\n",
    "        'Stuxnet',\n",
    "        'Heartbleed Exploits',\n",
    "        'BlackEnergy Attack on Ukraine',\n",
    "        'Microsoft Exchange ProxyShell Exploits',\n",
    "        'F5 BIG-IP Exploits',\n",
    "        'Pulse Secure VPN Exploits',\n",
    "        'Equifax Data Breach',\n",
    "        'SolarWinds Orion Supply Chain Attack',\n",
    "        'Not Petya Ransomware Attack',\n",
    "        'WannaCry Ransomware Attack'\n",
    "    ],\n",
    "    'year_start': [\n",
    "        2016,\n",
    "        2018,\n",
    "        2017,\n",
    "        2020,\n",
    "        2021,\n",
    "        2018,\n",
    "        2020,\n",
    "        2013,\n",
    "        2017,\n",
    "        2018,\n",
    "        2014,\n",
    "        2015,\n",
    "        2021,\n",
    "        2021,\n",
    "        2019,\n",
    "        2017,\n",
    "        2020,\n",
    "        2017,\n",
    "        2017\n",
    "    ],\n",
    "    'year_end': [\n",
    "        2016,\n",
    "        2018,\n",
    "        2017,\n",
    "        2020,\n",
    "        2021,\n",
    "        2019,\n",
    "        2020,\n",
    "        2014,\n",
    "        2017,\n",
    "        2018,\n",
    "        2014,\n",
    "        2015,\n",
    "        2021,\n",
    "        2021,\n",
    "        2021,\n",
    "        2017,\n",
    "        2020,\n",
    "        2017,\n",
    "        2017\n",
    "    ],\n",
    "    'attribution_group': [\n",
    "        pd.NA,\n",
    "        'APT28 (Fancy Bear)',\n",
    "        pd.NA,\n",
    "        pd.NA,\n",
    "        pd.NA,\n",
    "        'APT41',\n",
    "        pd.NA,\n",
    "        'Dragonfly (Energetic Bear)',\n",
    "        'Dragonfly (Energetic Bear)',\n",
    "        pd.NA,\n",
    "        pd.NA,\n",
    "        'Sandworm',\n",
    "        pd.NA,\n",
    "        pd.NA,\n",
    "        'APT5',\n",
    "        'APT10',\n",
    "        'APT29 (Cozy Bear)',\n",
    "        'Sandworm',\n",
    "        'Lazarus'\n",
    "    ],\n",
    "    'attribution_state': [\n",
    "        [pd.NA],\n",
    "        ['Russia', 'Russia', 'Russia', 'Russia', 'Russia'],\n",
    "        ['Russia', 'Russia'],\n",
    "        ['Iran'],\n",
    "        ['Iran'],\n",
    "        ['China'],\n",
    "        [pd.NA, pd.NA, pd.NA, pd.NA],\n",
    "        ['Russia'],\n",
    "        ['Russia'],\n",
    "        ['US', 'Israel'],\n",
    "        ['China'],\n",
    "        ['Russia'],\n",
    "        ['China', 'China', 'China'],\n",
    "        ['Russia', 'China'],\n",
    "        ['China'],\n",
    "        ['China'],\n",
    "        ['Russia'],\n",
    "        ['Russia'],\n",
    "        ['DPRK']\n",
    "    ],\n",
    "    'cve_id': [\n",
    "        [pd.NA],\n",
    "        [\n",
    "            'CVE-2018-14847',\n",
    "            'CVE-2017-12074',\n",
    "            'CVE-2018-10561',\n",
    "            'CVE-2018-10562',\n",
    "            'CVE-2017-8418',\n",
    "        ],\n",
    "        [\n",
    "            'CVE-2017-7905',\n",
    "            'CVE-2017-7921'\n",
    "        ],\n",
    "        [pd.NA],\n",
    "        ['CVE-2018-13379'],\n",
    "        ['CVE-2019-19781'],\n",
    "        [\n",
    "            'CVE-2020-11896',\n",
    "            'CVE-2020-11898',\n",
    "            'CVE-2020-11899',\n",
    "            'CVE-2020-11901'\n",
    "        ],\n",
    "        [pd.NA],\n",
    "        [pd.NA],\n",
    "        [pd.NA, pd.NA],\n",
    "        ['CVE-2014-0160'],\n",
    "        [pd.NA],\n",
    "        [\n",
    "            'CVE-2021-34473',\n",
    "            'CVE-2021-34523',\n",
    "            'CVE-2021-31207'\n",
    "        ],\n",
    "        [\n",
    "            'CVE-2020-5902',\n",
    "            'CVE-2020-5902'\n",
    "        ],\n",
    "        ['CVE-2019-11510'],\n",
    "        ['CVE-2017-5638'],\n",
    "        [pd.NA],\n",
    "        ['CVE-2017-0144'],\n",
    "        ['CVE-2017-0144']\n",
    "    ],\n",
    "    'description': [\n",
    "        [pd.NA],\n",
    "        [\n",
    "            'MikroTik RouterOS through 6.42 allows unauthenticated remote attackers to read arbitrary files and remote authenticated attackers to write arbitrary files due to a directory traversal vulnerability in the WinBox interface.',\n",
    "            'Directory traversal vulnerability in the SYNO.DNSServer.Zone.MasterZoneConf in Synology DNS Server before 2.2.1-3042 allows remote authenticated attackers to write arbitrary files via the domain_name parameter.',\n",
    "            'An issue was discovered on Dasan GPON home routers. It is possible to bypass authentication simply by appending \"?images\" to any URL of the device that requires authentication, as demonstrated by the /menu.html?images/ or /GponForm/diag_FORM?images/ URI. One can then manage the device.',\n",
    "            \"An issue was discovered on Dasan GPON home routers. Command Injection can occur via the dest_host parameter in a diag_action=ping request to a GponForm/diag_Form URI. Because the router saves ping results in /tmp and transmits them to the user when the user revisits /diag.html, it's quite simple to execute commands and retrieve their output.\",\n",
    "            'RuboCop 0.48.1 and earlier does not use /tmp in safe way, allowing local users to exploit this to tamper with cache files belonging to other users.'\n",
    "        ],\n",
    "        [\n",
    "            'A Weak Cryptography for Passwords issue was discovered in General Electric (GE) Multilin SR 750 Feeder Protection Relay, firmware versions prior to Version 7.47; SR 760 Feeder Protection Relay, firmware versions prior to Version 7.47; SR 469 Motor Protection Relay, firmware versions prior to Version 5.23; SR 489 Generator Protection Relay, firmware versions prior to Version 4.06; SR 745 Transformer Protection Relay, firmware versions prior to Version 5.23; SR 369 Motor Protection Relay, all firmware versions; Multilin Universal Relay, firmware Version 6.0 and prior versions; and Multilin URplus (D90, C90, B95), all versions. Ciphertext versions of user passwords were created with a non-random initialization vector leaving them susceptible to dictionary attacks. Ciphertext of user passwords can be obtained from the front LCD panel of affected products and through issued Modbus commands.',\n",
    "            'An Improper Authentication issue was discovered in Hikvision DS-2CD2xx2F-I Series V5.2.0 build 140721 to V5.4.0 build 160530, DS-2CD2xx0F-I Series V5.2.0 build 140721 to V5.4.0 Build 160401, DS-2CD2xx2FWD Series V5.3.1 build 150410 to V5.4.4 Build 161125, DS-2CD4x2xFWD Series V5.2.0 build 140721 to V5.4.0 Build 160414, DS-2CD4xx5 Series V5.2.0 build 140721 to V5.4.0 Build 160421, DS-2DFx Series V5.2.0 build 140805 to V5.4.5 Build 160928, and DS-2CD63xx Series V5.0.9 build 140305 to V5.3.5 Build 160106 devices. The improper authentication vulnerability occurs when an application does not adequately or correctly authenticate users. This may allow a malicious user to escalate his or her privileges on the system and gain access to sensitive information.'\n",
    "        ],\n",
    "        [pd.NA],\n",
    "        ['An Improper Limitation of a Pathname to a Restricted Directory (\"Path Traversal\") in Fortinet FortiOS 6.0.0 to 6.0.4, 5.6.3 to 5.6.7 and 5.4.6 to 5.4.12 and FortiProxy 2.0.0, 1.2.0 to 1.2.8, 1.1.0 to 1.1.6, 1.0.0 to 1.0.7 under SSL VPN web portal allows an unauthenticated attacker to download system files via special crafted HTTP resource requests.'],\n",
    "        ['An issue was discovered in Citrix Application Delivery Controller (ADC) and Gateway 10.5, 11.1, 12.0, 12.1, and 13.0. They allow Directory Traversal.'],\n",
    "        [\n",
    "            'The Treck TCP/IP stack before 6.0.1.66 allows Remote Code Execution, related to IPv4 tunneling.',\n",
    "            'The Treck TCP/IP stack before 6.0.1.66 improperly handles an IPv4/ICMPv4 Length Parameter Inconsistency, which might allow remote attackers to trigger an information leak.',\n",
    "            'The Treck TCP/IP stack before 6.0.1.66 has an IPv6 Out-of-bounds Read.',\n",
    "            'The Treck TCP/IP stack before 6.0.1.66 allows Remote Code execution via a single invalid DNS response.'\n",
    "        ],\n",
    "        [pd.NA],\n",
    "        [pd.NA],\n",
    "        [pd.NA, pd.NA],\n",
    "        ['The (1) TLS and (2) DTLS implementations in OpenSSL 1.0.1 before 1.0.1g do not properly handle Heartbeat Extension packets, which allows remote attackers to obtain sensitive information from process memory via crafted packets that trigger a buffer over-read, as demonstrated by reading private keys, related to d1_both.c and t1_lib.c, aka the Heartbleed bug.'],\n",
    "        [pd.NA],\n",
    "        [\n",
    "            'Microsoft Exchange Server Remote Code Execution Vulnerability',\n",
    "            'Microsoft Exchange Server Elevation of Privilege Vulnerability',\n",
    "            'Microsoft Exchange Server Security Feature Bypass Vulnerability'\n",
    "        ],\n",
    "        [\n",
    "            'In BIG-IP versions 15.0.0-15.1.0.3, 14.1.0-14.1.2.5, 13.1.0-13.1.3.3, 12.1.0-12.1.5.1, and 11.6.1-11.6.5.1, the Traffic Management User Interface (TMUI), also referred to as the Configuration utility, has a Remote Code Execution (RCE) vulnerability in undisclosed pages.',\n",
    "            'In BIG-IP versions 15.0.0-15.1.0.3, 14.1.0-14.1.2.5, 13.1.0-13.1.3.3, 12.1.0-12.1.5.1, and 11.6.1-11.6.5.1, the Traffic Management User Interface (TMUI), also referred to as the Configuration utility, has a Remote Code Execution (RCE) vulnerability in undisclosed pages.'\n",
    "        ],\n",
    "        ['In Pulse Secure Pulse Connect Secure (PCS) 8.2 before 8.2R12.1, 8.3 before 8.3R7.1, and 9.0 before 9.0R3.4, an unauthenticated remote attacker can send a specially crafted URI to perform an arbitrary file reading vulnerability.'],\n",
    "        ['The Jakarta Multipart parser in Apache Struts 2 2.3.x before 2.3.32 and 2.5.x before 2.5.10.1 has incorrect exception handling and error-message generation during file-upload attempts, which allows remote attackers to execute arbitrary commands via a crafted Content-Type, Content-Disposition, or Content-Length HTTP header, as exploited in the wild in March 2017 with a Content-Type header containing a #cmd= string.'],\n",
    "        [pd.NA],\n",
    "        ['The SMBv1 server in Microsoft Windows Vista SP2; Windows Server 2008 SP2 and R2 SP1; Windows 7 SP1; Windows 8.1; Windows Server 2012 Gold and R2; Windows RT 8.1; and Windows 10 Gold, 1511, and 1607; and Windows Server 2016 allows remote attackers to execute arbitrary code via crafted packets, aka \"Windows SMB Remote Code Execution Vulnerability.\" This vulnerability is different from those described in CVE-2017-0143, CVE-2017-0145, CVE-2017-0146, and CVE-2017-0148.'],\n",
    "        ['The SMBv1 server in Microsoft Windows Vista SP2; Windows Server 2008 SP2 and R2 SP1; Windows 7 SP1; Windows 8.1; Windows Server 2012 Gold and R2; Windows RT 8.1; and Windows 10 Gold, 1511, and 1607; and Windows Server 2016 allows remote attackers to execute arbitrary code via crafted packets, aka \"Windows SMB Remote Code Execution Vulnerability.\" This vulnerability is different from those described in CVE-2017-0143, CVE-2017-0145, CVE-2017-0146, and CVE-2017-0148.']\n",
    "    ],\n",
    "}\n",
    "\n",
    "df_nsa = pd.DataFrame(nsa)\n"
   ]
  },
  {
   "cell_type": "code",
   "execution_count": 13,
   "metadata": {},
   "outputs": [
    {
     "data": {
      "text/html": [
       "<div>\n",
       "<style scoped>\n",
       "    .dataframe tbody tr th:only-of-type {\n",
       "        vertical-align: middle;\n",
       "    }\n",
       "\n",
       "    .dataframe tbody tr th {\n",
       "        vertical-align: top;\n",
       "    }\n",
       "\n",
       "    .dataframe thead th {\n",
       "        text-align: right;\n",
       "    }\n",
       "</style>\n",
       "<table border=\"1\" class=\"dataframe\">\n",
       "  <thead>\n",
       "    <tr style=\"text-align: right;\">\n",
       "      <th></th>\n",
       "      <th>attack</th>\n",
       "      <th>year_start</th>\n",
       "      <th>year_end</th>\n",
       "      <th>attribution_group</th>\n",
       "      <th>attribution_state</th>\n",
       "      <th>cve_id</th>\n",
       "      <th>description</th>\n",
       "    </tr>\n",
       "  </thead>\n",
       "  <tbody>\n",
       "    <tr>\n",
       "      <th>0</th>\n",
       "      <td>Mirai Botnet</td>\n",
       "      <td>2016</td>\n",
       "      <td>2016</td>\n",
       "      <td>&lt;NA&gt;</td>\n",
       "      <td>[&lt;NA&gt;]</td>\n",
       "      <td>[&lt;NA&gt;]</td>\n",
       "      <td>[&lt;NA&gt;]</td>\n",
       "    </tr>\n",
       "    <tr>\n",
       "      <th>1</th>\n",
       "      <td>VPNFilter</td>\n",
       "      <td>2018</td>\n",
       "      <td>2018</td>\n",
       "      <td>APT28 (Fancy Bear)</td>\n",
       "      <td>[Russia, Russia, Russia, Russia, Russia]</td>\n",
       "      <td>[CVE-2018-14847, CVE-2017-12074, CVE-2018-1056...</td>\n",
       "      <td>[MikroTik RouterOS through 6.42 allows unauthe...</td>\n",
       "    </tr>\n",
       "    <tr>\n",
       "      <th>2</th>\n",
       "      <td>Triton/Trisis</td>\n",
       "      <td>2017</td>\n",
       "      <td>2017</td>\n",
       "      <td>&lt;NA&gt;</td>\n",
       "      <td>[Russia, Russia]</td>\n",
       "      <td>[CVE-2017-7905, CVE-2017-7921]</td>\n",
       "      <td>[A Weak Cryptography for Passwords issue was d...</td>\n",
       "    </tr>\n",
       "  </tbody>\n",
       "</table>\n",
       "</div>"
      ],
      "text/plain": [
       "          attack  year_start  year_end   attribution_group  \\\n",
       "0   Mirai Botnet        2016      2016                <NA>   \n",
       "1      VPNFilter        2018      2018  APT28 (Fancy Bear)   \n",
       "2  Triton/Trisis        2017      2017                <NA>   \n",
       "\n",
       "                          attribution_state  \\\n",
       "0                                    [<NA>]   \n",
       "1  [Russia, Russia, Russia, Russia, Russia]   \n",
       "2                          [Russia, Russia]   \n",
       "\n",
       "                                              cve_id  \\\n",
       "0                                             [<NA>]   \n",
       "1  [CVE-2018-14847, CVE-2017-12074, CVE-2018-1056...   \n",
       "2                     [CVE-2017-7905, CVE-2017-7921]   \n",
       "\n",
       "                                         description  \n",
       "0                                             [<NA>]  \n",
       "1  [MikroTik RouterOS through 6.42 allows unauthe...  \n",
       "2  [A Weak Cryptography for Passwords issue was d...  "
      ]
     },
     "execution_count": 13,
     "metadata": {},
     "output_type": "execute_result"
    }
   ],
   "source": [
    "df_nsa.head(3)"
   ]
  },
  {
   "cell_type": "code",
   "execution_count": 21,
   "metadata": {},
   "outputs": [
    {
     "name": "stdout",
     "output_type": "stream",
     "text": [
      "<class 'pandas.core.frame.DataFrame'>\n",
      "RangeIndex: 19 entries, 0 to 18\n",
      "Data columns (total 7 columns):\n",
      " #   Column             Non-Null Count  Dtype \n",
      "---  ------             --------------  ----- \n",
      " 0   attack             19 non-null     object\n",
      " 1   year_start         19 non-null     int64 \n",
      " 2   year_end           19 non-null     int64 \n",
      " 3   attribution_group  10 non-null     object\n",
      " 4   attribution_state  19 non-null     object\n",
      " 5   cve_id             19 non-null     object\n",
      " 6   description        19 non-null     object\n",
      "dtypes: int64(2), object(5)\n",
      "memory usage: 1.2+ KB\n"
     ]
    }
   ],
   "source": [
    "df_nsa.info()"
   ]
  },
  {
   "cell_type": "markdown",
   "metadata": {},
   "source": [
    "## Exploding the Data\n",
    "With the attack data aggregated and processed into a (dirty) dataset, we have to look at the relationships between lists in list-containing columns. Since there is a one-to-one relationship between `cve_id` and their `description`, we'll explode these columns simultaneously. Only then will we explode the lists in the `attribution_state` column, since we don't want to create false relationships that suggest that, within the context of a single attack, Nation A used CVE A while Nation B used CVE B, when in fact we don't know. Ultimately, we have to represent the situation as both nations having used both CVEs. I created the dictionary object knowing how Pandas needs our observation's lists aligned, so we can avoid we what had to do for the CVE and CWE lists in terms of normalizing their content lengths."
   ]
  },
  {
   "cell_type": "code",
   "execution_count": 9,
   "metadata": {},
   "outputs": [],
   "source": [
    "# Explode the nation-state attack data\n",
    "df_nsa = df_nsa.explode(['cve_id', 'description'])\n",
    "df_nsa = df_nsa.explode('attribution_state')"
   ]
  },
  {
   "cell_type": "code",
   "execution_count": 10,
   "metadata": {},
   "outputs": [],
   "source": [
    "# Drop duplicate observations\n",
    "df_nsa = df_nsa.drop_duplicates()"
   ]
  },
  {
   "cell_type": "markdown",
   "metadata": {},
   "source": [
    "## Merging with IoT CVE Data"
   ]
  },
  {
   "cell_type": "code",
   "execution_count": 11,
   "metadata": {},
   "outputs": [],
   "source": [
    "df = df2019_2024.merge(\n",
    "    df_nsa,\n",
    "    on=['cve_id', 'description'],\n",
    "    how='outer'\n",
    ")"
   ]
  },
  {
   "cell_type": "code",
   "execution_count": 14,
   "metadata": {},
   "outputs": [
    {
     "name": "stdout",
     "output_type": "stream",
     "text": [
      "<class 'pandas.core.frame.DataFrame'>\n",
      "RangeIndex: 1120 entries, 0 to 1119\n",
      "Data columns (total 7 columns):\n",
      " #   Column             Non-Null Count  Dtype  \n",
      "---  ------             --------------  -----  \n",
      " 0   cve_id             1112 non-null   object \n",
      " 1   description        1112 non-null   object \n",
      " 2   attack             31 non-null     object \n",
      " 3   year_start         31 non-null     float64\n",
      " 4   year_end           31 non-null     float64\n",
      " 5   attribution_group  14 non-null     object \n",
      " 6   attribution_state  26 non-null     object \n",
      "dtypes: float64(2), object(5)\n",
      "memory usage: 61.4+ KB\n"
     ]
    }
   ],
   "source": [
    "df.info()"
   ]
  },
  {
   "cell_type": "markdown",
   "metadata": {},
   "source": [
    "## Adding CVEs from the Check Point Article\n",
    "[Revisit the article here.](https://blog.checkpoint.com/security/the-tipping-point-exploring-the-surge-in-iot-cyberattacks-plaguing-the-education-sector/)"
   ]
  },
  {
   "cell_type": "code",
   "execution_count": 12,
   "metadata": {},
   "outputs": [
    {
     "name": "stderr",
     "output_type": "stream",
     "text": [
      "C:\\Users\\jbroc\\AppData\\Local\\Temp\\ipykernel_13576\\3181033767.py:24: FutureWarning: The behavior of DataFrame concatenation with empty or all-NA entries is deprecated. In a future version, this will no longer exclude empty or all-NA columns when determining the result dtypes. To retain the old behavior, exclude the relevant entries before the concat operation.\n",
      "  df = pd.concat([df, df_cp], ignore_index=True)\n"
     ]
    }
   ],
   "source": [
    "# New observations from article\n",
    "cp = {\n",
    "    'cve_id': [\n",
    "        'CVE-2015-2051',\n",
    "        'CVE-2016-6277',\n",
    "        'CVE-2022-37061'\n",
    "    ],\n",
    "    'description': [\n",
    "        'The D-Link DIR-645 Wired/Wireless Router Rev. Ax with firmware 1.04b12 and earlier allows remote attackers to execute arbitrary commands via a GetDeviceSettings action to the HNAP interface.',\n",
    "        'NETGEAR R6250 before 1.0.4.6.Beta, R6400 before 1.0.1.18.Beta, R6700 before 1.0.1.14.Beta, R6900, R7000 before 1.0.7.6.Beta, R7100LG before 1.0.0.28.Beta, R7300DST before 1.0.0.46.Beta, R7900 before 1.0.1.8.Beta, R8000 before 1.0.3.26.Beta, D6220, D6400, D7000, and possibly other routers allow remote attackers to execute arbitrary commands via shell metacharacters in the path info to cgi-bin/.',\n",
    "        'All FLIR AX8 thermal sensor cameras version up to and including 1.46.16 are vulnerable to Remote Command Injection. This can be exploited to inject and execute arbitrary shell commands as the root user through the id HTTP POST parameter in the res.php endpoint. A successful exploit could allow the attacker to execute arbitrary commands on the underlying operating system with the root privileges.'\n",
    "    ],\n",
    "    'attack': [pd.NA, pd.NA, pd.NA],\n",
    "    'year_start': [pd.NA, pd.NA, pd.NA],\n",
    "    'year_end': [pd.NA, pd.NA, pd.NA],\n",
    "    'attribution_group': [pd.NA, pd.NA, pd.NA],\n",
    "    'attribution_state': [pd.NA, pd.NA, pd.NA]\n",
    "}\n",
    "\n",
    "# Convert new data to dataframe\n",
    "df_cp = pd.DataFrame(cp)\n",
    "\n",
    "# Concatenate df and df_cp\n",
    "df = pd.concat([df, df_cp], ignore_index=True)"
   ]
  },
  {
   "cell_type": "code",
   "execution_count": 13,
   "metadata": {},
   "outputs": [],
   "source": [
    "# Convert data types to text\n",
    "obj_cols = df.select_dtypes('object').columns\n",
    "df[obj_cols] = df[obj_cols].astype('string')"
   ]
  },
  {
   "cell_type": "code",
   "execution_count": 14,
   "metadata": {},
   "outputs": [],
   "source": [
    "# Extract year from CVE ID\n",
    "df['year_cve'] = df['cve_id'].str.split('-').str[1]\n",
    "\n",
    "# Convert year columns back to whole numbers\n",
    "year_cols = ['year_start', 'year_end', 'year_cve']\n",
    "df[year_cols] = df[year_cols].astype('Int64')\n",
    "\n",
    "# Move the year column\n",
    "df.insert(1, 'year_cve', df.pop('year_cve'))"
   ]
  },
  {
   "cell_type": "markdown",
   "metadata": {},
   "source": [
    "### Importing and Cleaning the CVE Data\n",
    "All these steps were determined to be necessary in the `APT_IoT_CVE_EDA` notebook."
   ]
  },
  {
   "cell_type": "code",
   "execution_count": 15,
   "metadata": {},
   "outputs": [],
   "source": [
    "# Import\n",
    "cves = pd.read_parquet('../data/CVE_V5/CVE_List.parquet')\n",
    "\n",
    "# Drop rejected CVEs\n",
    "cves = cves.drop(cves[cves['cve_state'] == 'REJECTED'].index)\n",
    "\n",
    "# Convert publication date to datetime format\n",
    "cves['date_published'] = pd.to_datetime(cves['date_published'], format='ISO8601', utc=True)\n",
    "\n",
    "# Convert objects to text data (string)\n",
    "obj_cols = cves.select_dtypes(include=['object']).columns\n",
    "cves[obj_cols] = cves[obj_cols].astype('string')\n",
    "\n",
    "# Standardize severity scores\n",
    "cves['severity'] = cves['severity'].replace(['medium', 'MODERATE'], 'MEDIUM')\n",
    "cves['severity'] = cves['severity'].str.lower()\n",
    "\n",
    "# Remove leading or trailing whitespace\n",
    "str_cols = cves.select_dtypes(include=['string']).columns\n",
    "cves[str_cols] = cves[str_cols].apply(lambda x: x.str.strip())"
   ]
  },
  {
   "cell_type": "code",
   "execution_count": 38,
   "metadata": {},
   "outputs": [
    {
     "data": {
      "text/html": [
       "<div>\n",
       "<style scoped>\n",
       "    .dataframe tbody tr th:only-of-type {\n",
       "        vertical-align: middle;\n",
       "    }\n",
       "\n",
       "    .dataframe tbody tr th {\n",
       "        vertical-align: top;\n",
       "    }\n",
       "\n",
       "    .dataframe thead th {\n",
       "        text-align: right;\n",
       "    }\n",
       "</style>\n",
       "<table border=\"1\" class=\"dataframe\">\n",
       "  <thead>\n",
       "    <tr style=\"text-align: right;\">\n",
       "      <th></th>\n",
       "      <th>cve_id</th>\n",
       "      <th>cwe_id</th>\n",
       "      <th>cve_state</th>\n",
       "      <th>date_published</th>\n",
       "      <th>description</th>\n",
       "      <th>severity</th>\n",
       "      <th>severity_score</th>\n",
       "      <th>attack_vector</th>\n",
       "      <th>attack_complexity</th>\n",
       "    </tr>\n",
       "  </thead>\n",
       "  <tbody>\n",
       "    <tr>\n",
       "      <th>0</th>\n",
       "      <td>CVE-1999-0001</td>\n",
       "      <td>&lt;NA&gt;</td>\n",
       "      <td>PUBLISHED</td>\n",
       "      <td>2000-02-04 05:00:00+00:00</td>\n",
       "      <td>ip_input.c in BSD-derived TCP/IP implementatio...</td>\n",
       "      <td>&lt;NA&gt;</td>\n",
       "      <td>NaN</td>\n",
       "      <td>&lt;NA&gt;</td>\n",
       "      <td>&lt;NA&gt;</td>\n",
       "    </tr>\n",
       "    <tr>\n",
       "      <th>1</th>\n",
       "      <td>CVE-1999-0002</td>\n",
       "      <td>&lt;NA&gt;</td>\n",
       "      <td>PUBLISHED</td>\n",
       "      <td>1999-09-29 04:00:00+00:00</td>\n",
       "      <td>Buffer overflow in NFS mountd gives root acces...</td>\n",
       "      <td>&lt;NA&gt;</td>\n",
       "      <td>NaN</td>\n",
       "      <td>&lt;NA&gt;</td>\n",
       "      <td>&lt;NA&gt;</td>\n",
       "    </tr>\n",
       "    <tr>\n",
       "      <th>2</th>\n",
       "      <td>CVE-1999-0003</td>\n",
       "      <td>&lt;NA&gt;</td>\n",
       "      <td>PUBLISHED</td>\n",
       "      <td>1999-09-29 04:00:00+00:00</td>\n",
       "      <td>Execute commands as root via buffer overflow i...</td>\n",
       "      <td>&lt;NA&gt;</td>\n",
       "      <td>NaN</td>\n",
       "      <td>&lt;NA&gt;</td>\n",
       "      <td>&lt;NA&gt;</td>\n",
       "    </tr>\n",
       "  </tbody>\n",
       "</table>\n",
       "</div>"
      ],
      "text/plain": [
       "          cve_id cwe_id  cve_state            date_published  \\\n",
       "0  CVE-1999-0001   <NA>  PUBLISHED 2000-02-04 05:00:00+00:00   \n",
       "1  CVE-1999-0002   <NA>  PUBLISHED 1999-09-29 04:00:00+00:00   \n",
       "2  CVE-1999-0003   <NA>  PUBLISHED 1999-09-29 04:00:00+00:00   \n",
       "\n",
       "                                         description severity  severity_score  \\\n",
       "0  ip_input.c in BSD-derived TCP/IP implementatio...     <NA>             NaN   \n",
       "1  Buffer overflow in NFS mountd gives root acces...     <NA>             NaN   \n",
       "2  Execute commands as root via buffer overflow i...     <NA>             NaN   \n",
       "\n",
       "  attack_vector attack_complexity  \n",
       "0          <NA>              <NA>  \n",
       "1          <NA>              <NA>  \n",
       "2          <NA>              <NA>  "
      ]
     },
     "execution_count": 38,
     "metadata": {},
     "output_type": "execute_result"
    }
   ],
   "source": [
    "# Glance\n",
    "cves.head(3)"
   ]
  },
  {
   "cell_type": "markdown",
   "metadata": {},
   "source": [
    "### Merging into Main Dataframe\n",
    "Since we don't want hundreds of thousands of CVEs that we don't know are related to IoTs in our dataset, I'm going to preform a leftward merge into our nation-state and IoT CVE attack data. This will only keep information from the CVE data if a CVE's `cve_id` is also found in our main dataset's `cve_id` attribute."
   ]
  },
  {
   "cell_type": "code",
   "execution_count": 16,
   "metadata": {},
   "outputs": [],
   "source": [
    "df = df.merge(\n",
    "    cves,\n",
    "    on=['cve_id', 'description'],\n",
    "    how='left'\n",
    ")"
   ]
  },
  {
   "cell_type": "code",
   "execution_count": 17,
   "metadata": {},
   "outputs": [],
   "source": [
    "# Rename CVE data's attack-related attributes for clarity\n",
    "df = df.rename(columns={\n",
    "    'date_published': 'cve_publish_date',\n",
    "    'severity': 'cve_severity',\n",
    "    'severity_score': 'cve_severity_score',\n",
    "    'attack_vector': 'cve_attack_vector',\n",
    "    'attack_complexity': 'cve_attack_complexity'\n",
    "})"
   ]
  },
  {
   "cell_type": "code",
   "execution_count": 42,
   "metadata": {},
   "outputs": [
    {
     "data": {
      "text/html": [
       "<div>\n",
       "<style scoped>\n",
       "    .dataframe tbody tr th:only-of-type {\n",
       "        vertical-align: middle;\n",
       "    }\n",
       "\n",
       "    .dataframe tbody tr th {\n",
       "        vertical-align: top;\n",
       "    }\n",
       "\n",
       "    .dataframe thead th {\n",
       "        text-align: right;\n",
       "    }\n",
       "</style>\n",
       "<table border=\"1\" class=\"dataframe\">\n",
       "  <thead>\n",
       "    <tr style=\"text-align: right;\">\n",
       "      <th></th>\n",
       "      <th>cve_id</th>\n",
       "      <th>year_cve</th>\n",
       "      <th>description</th>\n",
       "      <th>attack</th>\n",
       "      <th>year_start</th>\n",
       "      <th>year_end</th>\n",
       "      <th>attribution_group</th>\n",
       "      <th>attribution_state</th>\n",
       "      <th>cwe_id</th>\n",
       "      <th>cve_state</th>\n",
       "      <th>cve_publish_date</th>\n",
       "      <th>cve_severity</th>\n",
       "      <th>cve_severity_score</th>\n",
       "      <th>cve_attack_vector</th>\n",
       "      <th>cve_attack_complexity</th>\n",
       "    </tr>\n",
       "  </thead>\n",
       "  <tbody>\n",
       "    <tr>\n",
       "      <th>0</th>\n",
       "      <td>CVE-2014-0160</td>\n",
       "      <td>2014</td>\n",
       "      <td>The (1) TLS and (2) DTLS implementations in Op...</td>\n",
       "      <td>Heartbleed Exploits</td>\n",
       "      <td>2014</td>\n",
       "      <td>2014</td>\n",
       "      <td>&lt;NA&gt;</td>\n",
       "      <td>China</td>\n",
       "      <td>&lt;NA&gt;</td>\n",
       "      <td>PUBLISHED</td>\n",
       "      <td>2014-04-07 00:00:00+00:00</td>\n",
       "      <td>&lt;NA&gt;</td>\n",
       "      <td>NaN</td>\n",
       "      <td>&lt;NA&gt;</td>\n",
       "      <td>&lt;NA&gt;</td>\n",
       "    </tr>\n",
       "    <tr>\n",
       "      <th>1</th>\n",
       "      <td>CVE-2017-0144</td>\n",
       "      <td>2017</td>\n",
       "      <td>The SMBv1 server in Microsoft Windows Vista SP...</td>\n",
       "      <td>Not Petya Ransomware Attack</td>\n",
       "      <td>2017</td>\n",
       "      <td>2017</td>\n",
       "      <td>Sandworm</td>\n",
       "      <td>Russia</td>\n",
       "      <td>&lt;NA&gt;</td>\n",
       "      <td>PUBLISHED</td>\n",
       "      <td>2017-03-17 00:00:00+00:00</td>\n",
       "      <td>&lt;NA&gt;</td>\n",
       "      <td>NaN</td>\n",
       "      <td>&lt;NA&gt;</td>\n",
       "      <td>&lt;NA&gt;</td>\n",
       "    </tr>\n",
       "    <tr>\n",
       "      <th>2</th>\n",
       "      <td>CVE-2017-0144</td>\n",
       "      <td>2017</td>\n",
       "      <td>The SMBv1 server in Microsoft Windows Vista SP...</td>\n",
       "      <td>WannaCry Ransomware Attack</td>\n",
       "      <td>2017</td>\n",
       "      <td>2017</td>\n",
       "      <td>Lazarus</td>\n",
       "      <td>DPRK</td>\n",
       "      <td>&lt;NA&gt;</td>\n",
       "      <td>PUBLISHED</td>\n",
       "      <td>2017-03-17 00:00:00+00:00</td>\n",
       "      <td>&lt;NA&gt;</td>\n",
       "      <td>NaN</td>\n",
       "      <td>&lt;NA&gt;</td>\n",
       "      <td>&lt;NA&gt;</td>\n",
       "    </tr>\n",
       "  </tbody>\n",
       "</table>\n",
       "</div>"
      ],
      "text/plain": [
       "          cve_id  year_cve                                        description  \\\n",
       "0  CVE-2014-0160      2014  The (1) TLS and (2) DTLS implementations in Op...   \n",
       "1  CVE-2017-0144      2017  The SMBv1 server in Microsoft Windows Vista SP...   \n",
       "2  CVE-2017-0144      2017  The SMBv1 server in Microsoft Windows Vista SP...   \n",
       "\n",
       "                        attack  year_start  year_end attribution_group  \\\n",
       "0          Heartbleed Exploits        2014      2014              <NA>   \n",
       "1  Not Petya Ransomware Attack        2017      2017          Sandworm   \n",
       "2   WannaCry Ransomware Attack        2017      2017           Lazarus   \n",
       "\n",
       "  attribution_state cwe_id  cve_state          cve_publish_date cve_severity  \\\n",
       "0             China   <NA>  PUBLISHED 2014-04-07 00:00:00+00:00         <NA>   \n",
       "1            Russia   <NA>  PUBLISHED 2017-03-17 00:00:00+00:00         <NA>   \n",
       "2              DPRK   <NA>  PUBLISHED 2017-03-17 00:00:00+00:00         <NA>   \n",
       "\n",
       "   cve_severity_score cve_attack_vector cve_attack_complexity  \n",
       "0                 NaN              <NA>                  <NA>  \n",
       "1                 NaN              <NA>                  <NA>  \n",
       "2                 NaN              <NA>                  <NA>  "
      ]
     },
     "execution_count": 42,
     "metadata": {},
     "output_type": "execute_result"
    }
   ],
   "source": [
    "df.head(3)"
   ]
  },
  {
   "cell_type": "markdown",
   "metadata": {},
   "source": [
    "Currently, the following $4$ observations are the only ones in the dataset that have both attack names and severity scores."
   ]
  },
  {
   "cell_type": "code",
   "execution_count": 21,
   "metadata": {},
   "outputs": [
    {
     "data": {
      "text/html": [
       "<div>\n",
       "<style scoped>\n",
       "    .dataframe tbody tr th:only-of-type {\n",
       "        vertical-align: middle;\n",
       "    }\n",
       "\n",
       "    .dataframe tbody tr th {\n",
       "        vertical-align: top;\n",
       "    }\n",
       "\n",
       "    .dataframe thead th {\n",
       "        text-align: right;\n",
       "    }\n",
       "</style>\n",
       "<table border=\"1\" class=\"dataframe\">\n",
       "  <thead>\n",
       "    <tr style=\"text-align: right;\">\n",
       "      <th></th>\n",
       "      <th>cve_id</th>\n",
       "      <th>year_cve</th>\n",
       "      <th>description</th>\n",
       "      <th>attack</th>\n",
       "      <th>year_start</th>\n",
       "      <th>year_end</th>\n",
       "      <th>attribution_group</th>\n",
       "      <th>attribution_state</th>\n",
       "      <th>cwe_id</th>\n",
       "      <th>cve_state</th>\n",
       "      <th>cve_publish_date</th>\n",
       "      <th>cve_severity</th>\n",
       "      <th>cve_severity_score</th>\n",
       "      <th>cve_attack_vector</th>\n",
       "      <th>cve_attack_complexity</th>\n",
       "    </tr>\n",
       "  </thead>\n",
       "  <tbody>\n",
       "    <tr>\n",
       "      <th>10</th>\n",
       "      <td>CVE-2018-13379</td>\n",
       "      <td>2018</td>\n",
       "      <td>An Improper Limitation of a Pathname to a Rest...</td>\n",
       "      <td>Iranian APT Exploits on Fortinet Vulnerabilities</td>\n",
       "      <td>2021</td>\n",
       "      <td>2021</td>\n",
       "      <td>&lt;NA&gt;</td>\n",
       "      <td>Iran</td>\n",
       "      <td>&lt;NA&gt;</td>\n",
       "      <td>PUBLISHED</td>\n",
       "      <td>2019-06-04 20:18:08+00:00</td>\n",
       "      <td>critical</td>\n",
       "      <td>9.1</td>\n",
       "      <td>NETWORK</td>\n",
       "      <td>LOW</td>\n",
       "    </tr>\n",
       "    <tr>\n",
       "      <th>844</th>\n",
       "      <td>CVE-2021-31207</td>\n",
       "      <td>2021</td>\n",
       "      <td>Microsoft Exchange Server Security Feature Byp...</td>\n",
       "      <td>Microsoft Exchange ProxyShell Exploits</td>\n",
       "      <td>2021</td>\n",
       "      <td>2021</td>\n",
       "      <td>&lt;NA&gt;</td>\n",
       "      <td>China</td>\n",
       "      <td>&lt;NA&gt;</td>\n",
       "      <td>PUBLISHED</td>\n",
       "      <td>2021-05-11 19:11:41+00:00</td>\n",
       "      <td>medium</td>\n",
       "      <td>6.6</td>\n",
       "      <td>&lt;NA&gt;</td>\n",
       "      <td>&lt;NA&gt;</td>\n",
       "    </tr>\n",
       "    <tr>\n",
       "      <th>856</th>\n",
       "      <td>CVE-2021-34473</td>\n",
       "      <td>2021</td>\n",
       "      <td>Microsoft Exchange Server Remote Code Executio...</td>\n",
       "      <td>Microsoft Exchange ProxyShell Exploits</td>\n",
       "      <td>2021</td>\n",
       "      <td>2021</td>\n",
       "      <td>&lt;NA&gt;</td>\n",
       "      <td>China</td>\n",
       "      <td>&lt;NA&gt;</td>\n",
       "      <td>PUBLISHED</td>\n",
       "      <td>2021-07-14 17:54:03+00:00</td>\n",
       "      <td>critical</td>\n",
       "      <td>9.1</td>\n",
       "      <td>&lt;NA&gt;</td>\n",
       "      <td>&lt;NA&gt;</td>\n",
       "    </tr>\n",
       "    <tr>\n",
       "      <th>857</th>\n",
       "      <td>CVE-2021-34523</td>\n",
       "      <td>2021</td>\n",
       "      <td>Microsoft Exchange Server Elevation of Privile...</td>\n",
       "      <td>Microsoft Exchange ProxyShell Exploits</td>\n",
       "      <td>2021</td>\n",
       "      <td>2021</td>\n",
       "      <td>&lt;NA&gt;</td>\n",
       "      <td>China</td>\n",
       "      <td>&lt;NA&gt;</td>\n",
       "      <td>PUBLISHED</td>\n",
       "      <td>2021-07-14 17:54:38+00:00</td>\n",
       "      <td>critical</td>\n",
       "      <td>9.0</td>\n",
       "      <td>&lt;NA&gt;</td>\n",
       "      <td>&lt;NA&gt;</td>\n",
       "    </tr>\n",
       "  </tbody>\n",
       "</table>\n",
       "</div>"
      ],
      "text/plain": [
       "             cve_id  year_cve  \\\n",
       "10   CVE-2018-13379      2018   \n",
       "844  CVE-2021-31207      2021   \n",
       "856  CVE-2021-34473      2021   \n",
       "857  CVE-2021-34523      2021   \n",
       "\n",
       "                                           description  \\\n",
       "10   An Improper Limitation of a Pathname to a Rest...   \n",
       "844  Microsoft Exchange Server Security Feature Byp...   \n",
       "856  Microsoft Exchange Server Remote Code Executio...   \n",
       "857  Microsoft Exchange Server Elevation of Privile...   \n",
       "\n",
       "                                               attack  year_start  year_end  \\\n",
       "10   Iranian APT Exploits on Fortinet Vulnerabilities        2021      2021   \n",
       "844            Microsoft Exchange ProxyShell Exploits        2021      2021   \n",
       "856            Microsoft Exchange ProxyShell Exploits        2021      2021   \n",
       "857            Microsoft Exchange ProxyShell Exploits        2021      2021   \n",
       "\n",
       "    attribution_group attribution_state cwe_id  cve_state  \\\n",
       "10               <NA>              Iran   <NA>  PUBLISHED   \n",
       "844              <NA>             China   <NA>  PUBLISHED   \n",
       "856              <NA>             China   <NA>  PUBLISHED   \n",
       "857              <NA>             China   <NA>  PUBLISHED   \n",
       "\n",
       "             cve_publish_date cve_severity  cve_severity_score  \\\n",
       "10  2019-06-04 20:18:08+00:00     critical                 9.1   \n",
       "844 2021-05-11 19:11:41+00:00       medium                 6.6   \n",
       "856 2021-07-14 17:54:03+00:00     critical                 9.1   \n",
       "857 2021-07-14 17:54:38+00:00     critical                 9.0   \n",
       "\n",
       "    cve_attack_vector cve_attack_complexity  \n",
       "10            NETWORK                   LOW  \n",
       "844              <NA>                  <NA>  \n",
       "856              <NA>                  <NA>  \n",
       "857              <NA>                  <NA>  "
      ]
     },
     "execution_count": 21,
     "metadata": {},
     "output_type": "execute_result"
    }
   ],
   "source": [
    "df[(df['cve_severity'].notnull()) & (df['attack'].notnull())]"
   ]
  },
  {
   "cell_type": "code",
   "execution_count": 44,
   "metadata": {},
   "outputs": [
    {
     "name": "stdout",
     "output_type": "stream",
     "text": [
      "<class 'pandas.core.frame.DataFrame'>\n",
      "RangeIndex: 1123 entries, 0 to 1122\n",
      "Data columns (total 15 columns):\n",
      " #   Column                 Non-Null Count  Dtype              \n",
      "---  ------                 --------------  -----              \n",
      " 0   cve_id                 1115 non-null   string             \n",
      " 1   year_cve               1115 non-null   Int64              \n",
      " 2   description            1115 non-null   string             \n",
      " 3   attack                 31 non-null     string             \n",
      " 4   year_start             31 non-null     Int64              \n",
      " 5   year_end               31 non-null     Int64              \n",
      " 6   attribution_group      14 non-null     string             \n",
      " 7   attribution_state      26 non-null     string             \n",
      " 8   cwe_id                 107 non-null    string             \n",
      " 9   cve_state              1103 non-null   string             \n",
      " 10  cve_publish_date       1103 non-null   datetime64[ns, UTC]\n",
      " 11  cve_severity           476 non-null    string             \n",
      " 12  cve_severity_score     476 non-null    float64            \n",
      " 13  cve_attack_vector      413 non-null    string             \n",
      " 14  cve_attack_complexity  413 non-null    string             \n",
      "dtypes: Int64(3), datetime64[ns, UTC](1), float64(1), string(10)\n",
      "memory usage: 135.0 KB\n"
     ]
    }
   ],
   "source": [
    "df.info()"
   ]
  },
  {
   "cell_type": "markdown",
   "metadata": {},
   "source": [
    "## Import New Nation-State Attack Data\n",
    "This is the data that we performed normality and non-parametric correlation testing on."
   ]
  },
  {
   "cell_type": "code",
   "execution_count": 18,
   "metadata": {},
   "outputs": [],
   "source": [
    "new_nsa = pd.read_parquet(path='../data/new_nsa_data.parquet')"
   ]
  },
  {
   "cell_type": "code",
   "execution_count": 19,
   "metadata": {},
   "outputs": [
    {
     "name": "stdout",
     "output_type": "stream",
     "text": [
      "<class 'pandas.core.frame.DataFrame'>\n",
      "RangeIndex: 35 entries, 0 to 34\n",
      "Data columns (total 12 columns):\n",
      " #   Column                     Non-Null Count  Dtype         \n",
      "---  ------                     --------------  -----         \n",
      " 0   Attack_Name                35 non-null     string        \n",
      " 1   IoT                        3 non-null      string        \n",
      " 2   CVE_ID                     35 non-null     string        \n",
      " 3   CVE_List_Date              35 non-null     datetime64[ns]\n",
      " 4   Date_Of_First_Exploit      35 non-null     datetime64[ns]\n",
      " 5   Patch_Release_Date         35 non-null     datetime64[ns]\n",
      " 6   Patch/Device_Manufacturer  7 non-null      string        \n",
      " 7   Affected_Devices           11 non-null     string        \n",
      " 8   CVSS                       35 non-null     float64       \n",
      " 9   CVSS_Status                35 non-null     category      \n",
      " 10  Days_To_Patch_Release      35 non-null     int64         \n",
      " 11  Days_To_First_Exploit      35 non-null     int64         \n",
      "dtypes: category(1), datetime64[ns](3), float64(1), int64(2), string(5)\n",
      "memory usage: 3.4 KB\n"
     ]
    }
   ],
   "source": [
    "obj_cols = new_nsa.select_dtypes(include=['object']).columns\n",
    "new_nsa[obj_cols] = new_nsa[obj_cols].astype('string')\n",
    "new_nsa.info()"
   ]
  },
  {
   "cell_type": "code",
   "execution_count": 20,
   "metadata": {},
   "outputs": [],
   "source": [
    "# Lowercase the column names to accord with the larger dataset\n",
    "new_nsa.columns = new_nsa.columns.str.lower()\n",
    "\n",
    "# Drop unnecessary columns\n",
    "unnecessary_cols = ['iot', 'patch/device_manufacturer', 'affected_devices']\n",
    "new_nsa.drop(labels=unnecessary_cols, axis=1, inplace=True)\n",
    "\n",
    "# Drop the CVE state because we already filtered them all for the value 'PUBLISHED'\n",
    "df.drop(labels=['cve_state'], axis=1, inplace=True)"
   ]
  },
  {
   "cell_type": "code",
   "execution_count": 21,
   "metadata": {},
   "outputs": [],
   "source": [
    "# Standardize columns name across the two datasets\n",
    "df.rename(columns={\n",
    "    'cve_severity': 'cvss_status',\n",
    "    'cve_severity_score': 'cvss'\n",
    "}, inplace=True)\n",
    "\n",
    "new_nsa.rename(columns={'attack_name': 'attack'}, inplace=True)"
   ]
  },
  {
   "cell_type": "code",
   "execution_count": 22,
   "metadata": {},
   "outputs": [],
   "source": [
    "# Rename attacks to accord with larger dataset\n",
    "new_names = {\n",
    "    'VPN Filter malware': 'VPNFilter',\n",
    "    'Dragonfly (2022)': 'Dragonfly/Energetic Bear Campaign 3',\n",
    "    'BlackEnergy (2015)': 'BlackEnergy Attack on Ukraine',\n",
    "    'stuxnet': 'Stuxnet',\n",
    "    'Mirai Botnet Variants': 'Mirai Botnet',\n",
    "    'Triton/Trisis (2017 and ongoing)': 'Triton/Trisis'\n",
    "}\n",
    "\n",
    "new_nsa['attack'] = new_nsa['attack'].replace(new_names)"
   ]
  },
  {
   "cell_type": "code",
   "execution_count": 27,
   "metadata": {},
   "outputs": [
    {
     "name": "stdout",
     "output_type": "stream",
     "text": [
      "<class 'pandas.core.frame.DataFrame'>\n",
      "RangeIndex: 35 entries, 0 to 34\n",
      "Data columns (total 9 columns):\n",
      " #   Column                 Non-Null Count  Dtype         \n",
      "---  ------                 --------------  -----         \n",
      " 0   attack                 35 non-null     string        \n",
      " 1   cve_id                 35 non-null     string        \n",
      " 2   cve_list_date          35 non-null     datetime64[ns]\n",
      " 3   date_of_first_exploit  35 non-null     datetime64[ns]\n",
      " 4   patch_release_date     35 non-null     datetime64[ns]\n",
      " 5   cvss                   35 non-null     float64       \n",
      " 6   cvss_status            35 non-null     category      \n",
      " 7   days_to_patch_release  35 non-null     int64         \n",
      " 8   days_to_first_exploit  35 non-null     int64         \n",
      "dtypes: category(1), datetime64[ns](3), float64(1), int64(2), string(2)\n",
      "memory usage: 2.6 KB\n"
     ]
    }
   ],
   "source": [
    "new_nsa.info()"
   ]
  },
  {
   "cell_type": "code",
   "execution_count": 98,
   "metadata": {},
   "outputs": [
    {
     "name": "stdout",
     "output_type": "stream",
     "text": [
      "<class 'pandas.core.frame.DataFrame'>\n",
      "RangeIndex: 1123 entries, 0 to 1122\n",
      "Data columns (total 14 columns):\n",
      " #   Column                 Non-Null Count  Dtype              \n",
      "---  ------                 --------------  -----              \n",
      " 0   cve_id                 1115 non-null   string             \n",
      " 1   year_cve               1115 non-null   Int64              \n",
      " 2   description            1115 non-null   string             \n",
      " 3   attack                 31 non-null     string             \n",
      " 4   year_start             31 non-null     Int64              \n",
      " 5   year_end               31 non-null     Int64              \n",
      " 6   attribution_group      14 non-null     string             \n",
      " 7   attribution_state      26 non-null     string             \n",
      " 8   cwe_id                 107 non-null    string             \n",
      " 9   cve_publish_date       1103 non-null   datetime64[ns, UTC]\n",
      " 10  cvss_status            476 non-null    string             \n",
      " 11  cvss                   476 non-null    float64            \n",
      " 12  cve_attack_vector      413 non-null    string             \n",
      " 13  cve_attack_complexity  413 non-null    string             \n",
      "dtypes: Int64(3), datetime64[ns, UTC](1), float64(1), string(9)\n",
      "memory usage: 126.2 KB\n"
     ]
    }
   ],
   "source": [
    "df.info()"
   ]
  },
  {
   "cell_type": "markdown",
   "metadata": {},
   "source": [
    "### Merging New Nation-State Attack Data"
   ]
  },
  {
   "cell_type": "code",
   "execution_count": 23,
   "metadata": {},
   "outputs": [],
   "source": [
    "df = df.merge(\n",
    "    new_nsa,\n",
    "    on=['attack', 'cve_id'],\n",
    "    how='outer',\n",
    "    suffixes=('_main', '_new')\n",
    ")"
   ]
  },
  {
   "cell_type": "code",
   "execution_count": 24,
   "metadata": {},
   "outputs": [],
   "source": [
    "# Combine the columns that weren't merged (because doing so would have prevented the merge from capturing all the data)\n",
    "df['cvss'] = df['cvss_main'].combine_first(df['cvss_new'])\n",
    "df['cvss_status'] = df['cvss_status_main'].combine_first(df['cvss_status_new'])"
   ]
  },
  {
   "cell_type": "code",
   "execution_count": 25,
   "metadata": {},
   "outputs": [
    {
     "name": "stdout",
     "output_type": "stream",
     "text": [
      "All values from 'cvss_main' correctly transferred: True\n",
      "All values from 'cvss_nsa' correctly transferred: True\n",
      "All values from 'cvss_status_main' correctly transferred: True\n",
      "All values from 'cvss_status_nsa' correctly transferred: True\n"
     ]
    }
   ],
   "source": [
    "# Check if the values in 'cvss' match those in 'cvss_main' where 'cvss_main' is not empty\n",
    "cvss_main_match = df.loc[df['cvss_main'].notna(), 'cvss'] == df.loc[df['cvss_main'].notna(), 'cvss_main']\n",
    "\n",
    "# Check if the values in 'cvss' match those in 'cvss_new' where 'cvss_new' is not empty\n",
    "cvss_new_match = df.loc[df['cvss_new'].notna(), 'cvss'] == df.loc[df['cvss_new'].notna(), 'cvss_new']\n",
    "\n",
    "# Check all values from both columns\n",
    "cvss_main_match_all = cvss_main_match.all()\n",
    "cvss_new_match_all = cvss_new_match.all()\n",
    "\n",
    "# Print results\n",
    "print(f\"All values from 'cvss_main' correctly transferred: {cvss_main_match_all}\")\n",
    "print(f\"All values from 'cvss_nsa' correctly transferred: {cvss_new_match_all}\")\n",
    "\n",
    "# Check if the values in 'cvss_status' match those in 'cvss_status_main' where 'cvss_status_main' is not empty\n",
    "cvss_status_main_match = df.loc[df['cvss_status_main'].notna(), 'cvss_status'] == df.loc[df['cvss_status_main'].notna(), 'cvss_status_main']\n",
    "\n",
    "# Check if the values in 'cvss_status' match those in 'cvss_status_new' where 'cvss_status_new' is not empty\n",
    "cvss_status_new_match = df.loc[df['cvss_status_new'].notna(), 'cvss_status'] == df.loc[df['cvss_status_new'].notna(), 'cvss_status_new']\n",
    "\n",
    "# Check all values from both columns\n",
    "cvss_status_main_match_all = cvss_status_main_match.all()\n",
    "cvss_status_new_match_all = cvss_status_new_match.all()\n",
    "\n",
    "# Print results\n",
    "print(f\"All values from 'cvss_status_main' correctly transferred: {cvss_status_main_match_all}\")\n",
    "print(f\"All values from 'cvss_status_nsa' correctly transferred: {cvss_status_new_match_all}\")"
   ]
  },
  {
   "cell_type": "markdown",
   "metadata": {},
   "source": [
    "## Filling in Missing Information\n",
    "The next step here is to fill in key pieces of data that were missing from either of the datasets by using selective merging techniques to effectively \"re-merge\" the datasets on different columns to capture additional data that may have been left behind by how the overall merge had to be constructed. To make this a clearer process, we'll drop all unnecessary columns from the dataset."
   ]
  },
  {
   "cell_type": "code",
   "execution_count": 26,
   "metadata": {},
   "outputs": [],
   "source": [
    "df['cve_publish_date'] = df['cve_publish_date'].combine_first(df['cve_list_date'])"
   ]
  },
  {
   "cell_type": "code",
   "execution_count": 36,
   "metadata": {},
   "outputs": [
    {
     "name": "stdout",
     "output_type": "stream",
     "text": [
      "['cve_id', 'year_cve', 'description', 'attack', 'year_start', 'year_end', 'attribution_group', 'attribution_state', 'cwe_id', 'cve_publish_date', 'cvss_status_main', 'cvss_main', 'cve_attack_vector', 'cve_attack_complexity', 'cve_list_date', 'date_of_first_exploit', 'patch_release_date', 'cvss_new', 'cvss_status_new', 'days_to_patch_release', 'days_to_first_exploit', 'cvss', 'cvss_status']\n"
     ]
    }
   ],
   "source": [
    "print(df.columns.to_list())"
   ]
  },
  {
   "cell_type": "code",
   "execution_count": 27,
   "metadata": {},
   "outputs": [],
   "source": [
    "unnecessary_cols = ['cve_attack_vector', 'cve_attack_complexity', 'cwe_id', 'cvss_main', 'cvss_new', 'cvss_status_main', 'cvss_status_new', 'cve_list_date']\n",
    "\n",
    "df.drop(labels=unnecessary_cols, axis=1, inplace=True)"
   ]
  },
  {
   "cell_type": "code",
   "execution_count": 28,
   "metadata": {},
   "outputs": [],
   "source": [
    "df = df.merge(\n",
    "    cves,\n",
    "    on=['cve_id'],\n",
    "    how='left'\n",
    ")"
   ]
  },
  {
   "cell_type": "code",
   "execution_count": 29,
   "metadata": {},
   "outputs": [],
   "source": [
    "# Combine the descriptions\n",
    "df['description'] = df['description_y'].combine_first(df['description_x'])"
   ]
  },
  {
   "cell_type": "code",
   "execution_count": 30,
   "metadata": {},
   "outputs": [],
   "source": [
    "unnecessary_cols = ['cwe_id', 'cve_state', 'cwe_id', 'date_published', 'severity', 'severity_score', 'attack_vector', 'attack_complexity', 'description_y', 'description_x']\n",
    "\n",
    "df.drop(labels=unnecessary_cols, axis=1, inplace=True)"
   ]
  },
  {
   "cell_type": "code",
   "execution_count": 31,
   "metadata": {},
   "outputs": [],
   "source": [
    "# Add data to new nation state values\n",
    "updates = {\n",
    "    'BlackEnergy Attack on Ukraine': [2015, 2015, 'Sandworm', 'Russia'],\n",
    "    'Dragonfly/Energetic Bear Campaign 3': [2022, 2022, 'Dragonfly (Energetic Bear)', 'Russia'],\n",
    "    'Stuxnet': [2018, 2018, pd.NA, 'US'],\n",
    "    'Triton/Trisis': [2017, 2017, pd.NA, 'Russia'],\n",
    "    'VPNFilter': [2018, 2018, 'APT28 (Fancy Bear)', 'Russia'],\n",
    "    'Volt Typhoon': [pd.NA, pd.NA, pd.NA, 'China']\n",
    "}\n",
    "\n",
    "for attack, values in updates.items():\n",
    "    df.loc[df['attack'] == attack, ['year_start', 'year_end', 'attribution_group', 'attribution_state']] = values"
   ]
  },
  {
   "cell_type": "code",
   "execution_count": 32,
   "metadata": {},
   "outputs": [],
   "source": [
    "# Drop one of the Stuxnet observations whose state attribution was changed from 'Israel' to 'US'\n",
    "df = df.drop(index=41)\n",
    "\n",
    "# Filter and copy dataframe for Stuxnet observations\n",
    "stuxnet_df = df[df['attack'] == 'Stuxnet'].copy()\n",
    "\n",
    "# Update state attribution\n",
    "stuxnet_df['attribution_state'] = 'Israel'\n",
    "\n",
    "# Split the dataframe to add new observations in desired location\n",
    "df_part1 = df.loc[:40]\n",
    "df_part2 = df.loc[41:]\n",
    "\n",
    "# Reappend updated observations to original dataframe\n",
    "df = pd.concat([df_part1, stuxnet_df, df_part2], ignore_index=True)"
   ]
  },
  {
   "cell_type": "code",
   "execution_count": 38,
   "metadata": {},
   "outputs": [
    {
     "name": "stdout",
     "output_type": "stream",
     "text": [
      "<class 'pandas.core.frame.DataFrame'>\n",
      "RangeIndex: 1162 entries, 0 to 1161\n",
      "Data columns (total 15 columns):\n",
      " #   Column                 Non-Null Count  Dtype         \n",
      "---  ------                 --------------  -----         \n",
      " 0   cve_id                 1154 non-null   string        \n",
      " 1   year_cve               1115 non-null   Int64         \n",
      " 2   attack                 70 non-null     string        \n",
      " 3   year_start             59 non-null     Int64         \n",
      " 4   year_end               59 non-null     Int64         \n",
      " 5   attribution_group      29 non-null     string        \n",
      " 6   attribution_state      61 non-null     object        \n",
      " 7   cve_publish_date       1142 non-null   object        \n",
      " 8   date_of_first_exploit  40 non-null     datetime64[ns]\n",
      " 9   patch_release_date     40 non-null     datetime64[ns]\n",
      " 10  days_to_patch_release  40 non-null     float64       \n",
      " 11  days_to_first_exploit  40 non-null     float64       \n",
      " 12  cvss                   516 non-null    float64       \n",
      " 13  cvss_status            516 non-null    object        \n",
      " 14  description            1153 non-null   string        \n",
      "dtypes: Int64(3), datetime64[ns](2), float64(3), object(3), string(4)\n",
      "memory usage: 139.7+ KB\n"
     ]
    }
   ],
   "source": [
    "# Recorrect data types for year colums\n",
    "yr_cols = ['year_cve', 'year_start', 'year_end']\n",
    "\n",
    "df[yr_cols] = df[yr_cols].apply(lambda x: pd.to_numeric(x))"
   ]
  },
  {
   "cell_type": "code",
   "execution_count": 40,
   "metadata": {},
   "outputs": [],
   "source": [
    "# Re-extract year from CVE ID\n",
    "df['year_cve'] = df['cve_id'].str.split('-').str[1]"
   ]
  },
  {
   "cell_type": "code",
   "execution_count": 41,
   "metadata": {},
   "outputs": [
    {
     "name": "stdout",
     "output_type": "stream",
     "text": [
      "<class 'pandas.core.frame.DataFrame'>\n",
      "RangeIndex: 1162 entries, 0 to 1161\n",
      "Data columns (total 15 columns):\n",
      " #   Column                 Non-Null Count  Dtype         \n",
      "---  ------                 --------------  -----         \n",
      " 0   cve_id                 1154 non-null   string        \n",
      " 1   year_cve               1154 non-null   object        \n",
      " 2   attack                 70 non-null     string        \n",
      " 3   year_start             59 non-null     Int64         \n",
      " 4   year_end               59 non-null     Int64         \n",
      " 5   attribution_group      29 non-null     string        \n",
      " 6   attribution_state      61 non-null     object        \n",
      " 7   cve_publish_date       1142 non-null   object        \n",
      " 8   date_of_first_exploit  40 non-null     datetime64[ns]\n",
      " 9   patch_release_date     40 non-null     datetime64[ns]\n",
      " 10  days_to_patch_release  40 non-null     float64       \n",
      " 11  days_to_first_exploit  40 non-null     float64       \n",
      " 12  cvss                   516 non-null    float64       \n",
      " 13  cvss_status            516 non-null    object        \n",
      " 14  description            1153 non-null   string        \n",
      "dtypes: Int64(2), datetime64[ns](2), float64(3), object(4), string(4)\n",
      "memory usage: 138.6+ KB\n"
     ]
    }
   ],
   "source": [
    "df.info()"
   ]
  },
  {
   "cell_type": "markdown",
   "metadata": {},
   "source": [
    "## Saving the Dataframe"
   ]
  },
  {
   "cell_type": "code",
   "execution_count": 42,
   "metadata": {},
   "outputs": [],
   "source": [
    "df.to_parquet(path='../data/IoT_CVE_Attacks_V2.parquet', index=None)\n",
    "df.to_csv('../data/IoT_CVE_Attacks_V2_Indexed.csv', index=True)"
   ]
  },
  {
   "cell_type": "raw",
   "metadata": {
    "vscode": {
     "languageId": "raw"
    }
   },
   "source": [
    "df.to_csv('../data/IoT_CVE_Attacks_Indexed.csv', index=True)"
   ]
  },
  {
   "cell_type": "code",
   "execution_count": 1,
   "metadata": {},
   "outputs": [
    {
     "ename": "NameError",
     "evalue": "name 'df' is not defined",
     "output_type": "error",
     "traceback": [
      "\u001b[1;31m---------------------------------------------------------------------------\u001b[0m",
      "\u001b[1;31mNameError\u001b[0m                                 Traceback (most recent call last)",
      "Cell \u001b[1;32mIn[1], line 1\u001b[0m\n\u001b[1;32m----> 1\u001b[0m \u001b[43mdf\u001b[49m\u001b[38;5;241m.\u001b[39minfo()\n",
      "\u001b[1;31mNameError\u001b[0m: name 'df' is not defined"
     ]
    }
   ],
   "source": [
    "df.info()"
   ]
  },
  {
   "cell_type": "code",
   "execution_count": null,
   "metadata": {},
   "outputs": [],
   "source": []
  }
 ],
 "metadata": {
  "kernelspec": {
   "display_name": "ml-env",
   "language": "python",
   "name": "python3"
  },
  "language_info": {
   "codemirror_mode": {
    "name": "ipython",
    "version": 3
   },
   "file_extension": ".py",
   "mimetype": "text/x-python",
   "name": "python",
   "nbconvert_exporter": "python",
   "pygments_lexer": "ipython3",
   "version": "3.10.13"
  }
 },
 "nbformat": 4,
 "nbformat_minor": 2
}
