{
 "cells": [
  {
   "cell_type": "markdown",
   "id": "3cdfb193-6c2c-49c2-8b7f-46b560d8ead7",
   "metadata": {},
   "source": [
    "# MITRE 2024 IoT CVEs Exploratory Data Analysis\n",
    "#### Supporting Questions\n",
    "- Should I add all of these CVE-IDs to the category of IoT-related CVEs when working with the larger CVE data?\n",
    "- If so, what should I do with CVE-2024-38089, which is the column name of the IDs?\n",
    "\n",
    "## Importing Libraries\n",
    "We'll be using Pandas and NumPy because they give us the ability to clean, arrange, modify, organize, and analyze datasets. We'll use Matplotlib for visualizing the data and we'll use Seaborn to add aesthetic flair to the visualizations. We'll also add support for regular expressions to check which CVEs have a relation to IoT vulnerabilities."
   ]
  },
  {
   "cell_type": "code",
   "execution_count": 1,
   "id": "9ab6e039-c0f7-4e66-9490-317ec4f449b9",
   "metadata": {},
   "outputs": [],
   "source": [
    "import pandas as pd\n",
    "import numpy as np\n",
    "import matplotlib.pyplot as plt\n",
    "import re"
   ]
  },
  {
   "cell_type": "markdown",
   "id": "61695062-ca6c-4511-b440-a27bf59bb70c",
   "metadata": {},
   "source": [
    "## Loading the Data\n",
    "Firstly, we'll look at the shape of the dataset and see how many sheets it contains and the first few records to get a sense of what the dataset contains."
   ]
  },
  {
   "cell_type": "code",
   "execution_count": 2,
   "id": "dd598441-430c-4477-ad2e-948d9a24c644",
   "metadata": {},
   "outputs": [
    {
     "name": "stdout",
     "output_type": "stream",
     "text": [
      "['2024 IoT CVEs', '2020-2024 CVEs', '2019-2024 CVEs']\n"
     ]
    }
   ],
   "source": [
    "sheet_names = pd.ExcelFile('../data/MITRE_2024_IoT_CVEs.xlsx').sheet_names\n",
    "print(sheet_names)"
   ]
  },
  {
   "cell_type": "code",
   "execution_count": 10,
   "id": "d229cc4a-9df1-4203-9ffa-b2245b03ae7d",
   "metadata": {},
   "outputs": [
    {
     "name": "stdout",
     "output_type": "stream",
     "text": [
      "MITRE's IoT CVEs Dataset has 1088 records and 2 attributes\n",
      "-----\n",
      "\n"
     ]
    },
    {
     "data": {
      "text/html": [
       "<div>\n",
       "<style scoped>\n",
       "    .dataframe tbody tr th:only-of-type {\n",
       "        vertical-align: middle;\n",
       "    }\n",
       "\n",
       "    .dataframe tbody tr th {\n",
       "        vertical-align: top;\n",
       "    }\n",
       "\n",
       "    .dataframe thead th {\n",
       "        text-align: right;\n",
       "    }\n",
       "</style>\n",
       "<table border=\"1\" class=\"dataframe\">\n",
       "  <thead>\n",
       "    <tr style=\"text-align: right;\">\n",
       "      <th></th>\n",
       "      <th>CVE-2024-38089</th>\n",
       "      <th>Microsoft Defender for IoT Elevation of Privilege Vulnerability</th>\n",
       "    </tr>\n",
       "  </thead>\n",
       "  <tbody>\n",
       "    <tr>\n",
       "      <th>0</th>\n",
       "      <td>CVE-2024-29195</td>\n",
       "      <td>The azure-c-shared-utility is a C library for ...</td>\n",
       "    </tr>\n",
       "    <tr>\n",
       "      <th>1</th>\n",
       "      <td>CVE-2024-29055</td>\n",
       "      <td>Microsoft Defender for IoT Elevation of Privil...</td>\n",
       "    </tr>\n",
       "    <tr>\n",
       "      <th>2</th>\n",
       "      <td>CVE-2024-29054</td>\n",
       "      <td>Microsoft Defender for IoT Elevation of Privil...</td>\n",
       "    </tr>\n",
       "    <tr>\n",
       "      <th>3</th>\n",
       "      <td>CVE-2024-29053</td>\n",
       "      <td>Microsoft Defender for IoT Remote Code Executi...</td>\n",
       "    </tr>\n",
       "    <tr>\n",
       "      <th>4</th>\n",
       "      <td>CVE-2024-21324</td>\n",
       "      <td>Microsoft Defender for IoT Elevation of Privil...</td>\n",
       "    </tr>\n",
       "  </tbody>\n",
       "</table>\n",
       "</div>"
      ],
      "text/plain": [
       "   CVE-2024-38089  \\\n",
       "0  CVE-2024-29195   \n",
       "1  CVE-2024-29055   \n",
       "2  CVE-2024-29054   \n",
       "3  CVE-2024-29053   \n",
       "4  CVE-2024-21324   \n",
       "\n",
       "  Microsoft Defender for IoT Elevation of Privilege Vulnerability  \n",
       "0  The azure-c-shared-utility is a C library for ...               \n",
       "1  Microsoft Defender for IoT Elevation of Privil...               \n",
       "2  Microsoft Defender for IoT Elevation of Privil...               \n",
       "3  Microsoft Defender for IoT Remote Code Executi...               \n",
       "4  Microsoft Defender for IoT Elevation of Privil...               "
      ]
     },
     "execution_count": 10,
     "metadata": {},
     "output_type": "execute_result"
    }
   ],
   "source": [
    "df = pd.read_excel('../data/MITRE_2024_IoT_CVEs.xlsx', sheet_name='2019-2024 CVEs')\n",
    "rows, columns = df.shape\n",
    "print(f\"MITRE's IoT CVEs Dataset has {rows} records and {columns} attributes\\n-----\\n\")\n",
    "df.head() # View the head"
   ]
  },
  {
   "cell_type": "code",
   "execution_count": 11,
   "id": "c4e8c9df-0431-4142-93a9-6214fd58d617",
   "metadata": {},
   "outputs": [
    {
     "data": {
      "text/html": [
       "<div>\n",
       "<style scoped>\n",
       "    .dataframe tbody tr th:only-of-type {\n",
       "        vertical-align: middle;\n",
       "    }\n",
       "\n",
       "    .dataframe tbody tr th {\n",
       "        vertical-align: top;\n",
       "    }\n",
       "\n",
       "    .dataframe thead th {\n",
       "        text-align: right;\n",
       "    }\n",
       "</style>\n",
       "<table border=\"1\" class=\"dataframe\">\n",
       "  <thead>\n",
       "    <tr style=\"text-align: right;\">\n",
       "      <th></th>\n",
       "      <th>CVE-2024-38089</th>\n",
       "      <th>Microsoft Defender for IoT Elevation of Privilege Vulnerability</th>\n",
       "    </tr>\n",
       "  </thead>\n",
       "  <tbody>\n",
       "    <tr>\n",
       "      <th>1083</th>\n",
       "      <td>CVE-2019-10480</td>\n",
       "      <td>Out of bound write can happen in WMI firmware ...</td>\n",
       "    </tr>\n",
       "    <tr>\n",
       "      <th>1084</th>\n",
       "      <td>CVE-2019-1010009</td>\n",
       "      <td>DGLogik Inc DGLux Server All Versions is affec...</td>\n",
       "    </tr>\n",
       "    <tr>\n",
       "      <th>1085</th>\n",
       "      <td>CVE-2019-1000018</td>\n",
       "      <td>rssh version 2.3.4 contains a CWE-77: Improper...</td>\n",
       "    </tr>\n",
       "    <tr>\n",
       "      <th>1086</th>\n",
       "      <td>CVE-2019-0741</td>\n",
       "      <td>An information disclosure vulnerability exists...</td>\n",
       "    </tr>\n",
       "    <tr>\n",
       "      <th>1087</th>\n",
       "      <td>CVE-2019-0729</td>\n",
       "      <td>An Elevation of Privilege vulnerability exists...</td>\n",
       "    </tr>\n",
       "  </tbody>\n",
       "</table>\n",
       "</div>"
      ],
      "text/plain": [
       "        CVE-2024-38089  \\\n",
       "1083    CVE-2019-10480   \n",
       "1084  CVE-2019-1010009   \n",
       "1085  CVE-2019-1000018   \n",
       "1086     CVE-2019-0741   \n",
       "1087     CVE-2019-0729   \n",
       "\n",
       "     Microsoft Defender for IoT Elevation of Privilege Vulnerability  \n",
       "1083  Out of bound write can happen in WMI firmware ...               \n",
       "1084  DGLogik Inc DGLux Server All Versions is affec...               \n",
       "1085  rssh version 2.3.4 contains a CWE-77: Improper...               \n",
       "1086  An information disclosure vulnerability exists...               \n",
       "1087  An Elevation of Privilege vulnerability exists...               "
      ]
     },
     "execution_count": 11,
     "metadata": {},
     "output_type": "execute_result"
    }
   ],
   "source": [
    "df.tail() # View the tail"
   ]
  },
  {
   "cell_type": "code",
   "execution_count": null,
   "id": "74d11c9b-2f5d-46ad-98ad-d22490e3e450",
   "metadata": {},
   "outputs": [],
   "source": []
  }
 ],
 "metadata": {
  "kernelspec": {
   "display_name": "Python 3 (ipykernel)",
   "language": "python",
   "name": "python3"
  },
  "language_info": {
   "codemirror_mode": {
    "name": "ipython",
    "version": 3
   },
   "file_extension": ".py",
   "mimetype": "text/x-python",
   "name": "python",
   "nbconvert_exporter": "python",
   "pygments_lexer": "ipython3",
   "version": "3.10.13"
  }
 },
 "nbformat": 4,
 "nbformat_minor": 5
}
